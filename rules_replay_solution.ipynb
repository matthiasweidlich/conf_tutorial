{
  "nbformat": 4,
  "nbformat_minor": 0,
  "metadata": {
    "colab": {
      "name": "rules_replay_solution.ipynb",
      "version": "0.3.2",
      "provenance": [],
      "toc_visible": true,
      "include_colab_link": true
    },
    "language_info": {
      "codemirror_mode": {
        "name": "ipython",
        "version": 3
      },
      "file_extension": ".py",
      "mimetype": "text/x-python",
      "name": "python",
      "nbconvert_exporter": "python",
      "pygments_lexer": "ipython3",
      "version": "3.6.6"
    },
    "kernelspec": {
      "display_name": "Python 3",
      "language": "python",
      "name": "python3"
    }
  },
  "cells": [
    {
      "cell_type": "markdown",
      "metadata": {
        "id": "view-in-github",
        "colab_type": "text"
      },
      "source": [
        "<a href=\"https://colab.research.google.com/github/matthiasweidlich/conf_tutorial/blob/master/rules_replay_solution.ipynb\" target=\"_parent\"><img src=\"https://colab.research.google.com/assets/colab-badge.svg\" alt=\"Open In Colab\"/></a>"
      ]
    },
    {
      "cell_type": "markdown",
      "metadata": {
        "id": "9dGNrw7MDhwr",
        "colab_type": "text"
      },
      "source": [
        "# Hands-On Exercise 2: Rule Checking and Replay-based Conformance\n",
        "\n",
        "In this exercise, you will take up the real-life event log of a Dutch financial institute, known already from the earlier notebook. Be reminded that you should be able to clone the repository containing the notebooks and the example data with the code in the next cell. If this does not work, however, you can also download the event log (XES format, please unzip) [here](http://www.win.tue.nl/bpi/doku.php?id=2012:challenge) and then either copy it to your google drive, mount it, and read it from there, or directly upload it using your browser.\n",
        "\n",
        "Also, further details can be found in the [description of the dataset](http://www.win.tue.nl/bpi/doku.php?id=2012:challenge)."
      ]
    },
    {
      "cell_type": "code",
      "metadata": {
        "id": "76CKPHMlDhw3",
        "colab_type": "code",
        "outputId": "c85f062a-6ffd-47b0-de91-2fa7d524f69e",
        "colab": {
          "base_uri": "https://localhost:8080/",
          "height": 127
        }
      },
      "source": [
        "# basic configuration\n",
        "%config InlineBackend.figure_format = 'svg'\n",
        "%matplotlib inline\n",
        "\n",
        "# import data from google drive\n",
        "#from google.colab import drive\n",
        "#drive.mount('/content/drive')\n",
        "\n",
        "# direct data upload\n",
        "#from google.colab import files\n",
        "#files.upload()\n",
        "\n",
        "# clone the repository that contains the notebooks and also the data file\n",
        "! git clone https://github.com/matthiasweidlich/conf_tutorial.git"
      ],
      "execution_count": 0,
      "outputs": [
        {
          "output_type": "stream",
          "text": [
            "Cloning into 'conf_tutorial'...\n",
            "remote: Enumerating objects: 55, done.\u001b[K\n",
            "remote: Counting objects:   1% (1/55)   \u001b[K\rremote: Counting objects:   3% (2/55)   \u001b[K\rremote: Counting objects:   5% (3/55)   \u001b[K\rremote: Counting objects:   7% (4/55)   \u001b[K\rremote: Counting objects:   9% (5/55)   \u001b[K\rremote: Counting objects:  10% (6/55)   \u001b[K\rremote: Counting objects:  12% (7/55)   \u001b[K\rremote: Counting objects:  14% (8/55)   \u001b[K\rremote: Counting objects:  16% (9/55)   \u001b[K\rremote: Counting objects:  18% (10/55)   \u001b[K\rremote: Counting objects:  20% (11/55)   \u001b[K\rremote: Counting objects:  21% (12/55)   \u001b[K\rremote: Counting objects:  23% (13/55)   \u001b[K\rremote: Counting objects:  25% (14/55)   \u001b[K\rremote: Counting objects:  27% (15/55)   \u001b[K\rremote: Counting objects:  29% (16/55)   \u001b[K\rremote: Counting objects:  30% (17/55)   \u001b[K\rremote: Counting objects:  32% (18/55)   \u001b[K\rremote: Counting objects:  34% (19/55)   \u001b[K\rremote: Counting objects:  36% (20/55)   \u001b[K\rremote: Counting objects:  38% (21/55)   \u001b[K\rremote: Counting objects:  40% (22/55)   \u001b[K\rremote: Counting objects:  41% (23/55)   \u001b[K\rremote: Counting objects:  43% (24/55)   \u001b[K\rremote: Counting objects:  45% (25/55)   \u001b[K\rremote: Counting objects:  47% (26/55)   \u001b[K\rremote: Counting objects:  49% (27/55)   \u001b[K\rremote: Counting objects:  50% (28/55)   \u001b[K\rremote: Counting objects:  52% (29/55)   \u001b[K\rremote: Counting objects:  54% (30/55)   \u001b[K\rremote: Counting objects:  56% (31/55)   \u001b[K\rremote: Counting objects:  58% (32/55)   \u001b[K\rremote: Counting objects:  60% (33/55)   \u001b[K\rremote: Counting objects:  61% (34/55)   \u001b[K\rremote: Counting objects:  63% (35/55)   \u001b[K\rremote: Counting objects:  65% (36/55)   \u001b[K\rremote: Counting objects:  67% (37/55)   \u001b[K\rremote: Counting objects:  69% (38/55)   \u001b[K\rremote: Counting objects:  70% (39/55)   \u001b[K\rremote: Counting objects:  72% (40/55)   \u001b[K\rremote: Counting objects:  74% (41/55)   \u001b[K\rremote: Counting objects:  76% (42/55)   \u001b[K\rremote: Counting objects:  78% (43/55)   \u001b[K\rremote: Counting objects:  80% (44/55)   \u001b[K\rremote: Counting objects:  81% (45/55)   \u001b[K\rremote: Counting objects:  83% (46/55)   \u001b[K\rremote: Counting objects:  85% (47/55)   \u001b[K\rremote: Counting objects:  87% (48/55)   \u001b[K\rremote: Counting objects:  89% (49/55)   \u001b[K\rremote: Counting objects:  90% (50/55)   \u001b[K\rremote: Counting objects:  92% (51/55)   \u001b[K\rremote: Counting objects:  94% (52/55)   \u001b[K\rremote: Counting objects:  96% (53/55)   \u001b[K\rremote: Counting objects:  98% (54/55)   \u001b[K\rremote: Counting objects: 100% (55/55)   \u001b[K\rremote: Counting objects: 100% (55/55), done.\u001b[K\n",
            "remote: Compressing objects: 100% (51/51), done.\u001b[K\n",
            "remote: Total 55 (delta 25), reused 13 (delta 2), pack-reused 0\u001b[K\n",
            "Unpacking objects: 100% (55/55), done.\n"
          ],
          "name": "stdout"
        }
      ]
    },
    {
      "cell_type": "markdown",
      "metadata": {
        "id": "LAP26A4kDhxN",
        "colab_type": "text"
      },
      "source": [
        "## Import Event Log\n",
        "The following method imports the log file and returns it in a list structure."
      ]
    },
    {
      "cell_type": "code",
      "metadata": {
        "id": "hgalrSbIDhxT",
        "colab_type": "code",
        "colab": {}
      },
      "source": [
        "import xml.etree.ElementTree as et\n",
        "\n",
        "def load_xes(file, event_filter = []):\n",
        "    log = []\n",
        "    \n",
        "    tree = et.parse(file)\n",
        "    data = tree.getroot()\n",
        "    \n",
        "    # find all traces\n",
        "    traces = data.findall('{http://www.xes-standard.org/}trace')\n",
        "    \n",
        "    for t in traces:\n",
        "        trace_id = None\n",
        "        \n",
        "        # get trace id\n",
        "        for a in t.findall('{http://www.xes-standard.org/}string'):\n",
        "            if a.attrib['key'] == 'concept:name':\n",
        "                trace_id = a.attrib['value']\n",
        "        \n",
        "        events = []\n",
        "        # events\n",
        "        for event in t.iter('{http://www.xes-standard.org/}event'):\n",
        "            \n",
        "            e = {'name': None, 'timestamp': None, 'resource': None, 'transition': None}\n",
        "            \n",
        "            for a in event:\n",
        "                e[a.attrib['key'].split(':')[1]] = a.attrib['value']\n",
        "            \n",
        "            if e['name'] in event_filter or len(event_filter) == 0:\n",
        "                events.append(e)\n",
        "        \n",
        "        # add trace to log\n",
        "        if len(events) > 0:\n",
        "            log.append({'trace_id': trace_id, 'events': events})\n",
        "        \n",
        "    return log"
      ],
      "execution_count": 0,
      "outputs": []
    },
    {
      "cell_type": "markdown",
      "metadata": {
        "id": "aWx5L0-QDhxj",
        "colab_type": "text"
      },
      "source": [
        "Now import the given log and compute the trace variants of the log along with their frequencies."
      ]
    },
    {
      "cell_type": "code",
      "metadata": {
        "id": "FgiU7VsnDhxm",
        "colab_type": "code",
        "outputId": "5ed5deab-f275-47f7-e99e-2d3f6d0512e1",
        "colab": {
          "base_uri": "https://localhost:8080/",
          "height": 182
        }
      },
      "source": [
        "from pprint import pprint\n",
        "\n",
        "log_file = 'conf_tutorial/financial_log.xes'\n",
        "log = load_xes(log_file)\n",
        "\n",
        "print('Load log with %s traces.' %len(log))\n",
        "\n",
        "trace_variants = {}\n",
        "for trace in log:\n",
        "    events = []\n",
        "    for event in trace['events']:\n",
        "        events.append(event['name'])\n",
        "    trace_variants[tuple(events)] = trace_variants.get(tuple(events), 0) + 1\n",
        "    \n",
        "# print the two most frequent variants\n",
        "trace_variants_sorted_by_freq = sorted(trace_variants.items(), key=lambda kv: kv[1], reverse=True)\n",
        "pprint(trace_variants_sorted_by_freq[:2])"
      ],
      "execution_count": 0,
      "outputs": [
        {
          "output_type": "stream",
          "text": [
            "Load log with 13087 traces.\n",
            "[(('A_SUBMITTED', 'A_PARTLYSUBMITTED', 'A_DECLINED'), 3429),\n",
            " (('A_SUBMITTED',\n",
            "   'A_PARTLYSUBMITTED',\n",
            "   'W_Afhandelen leads',\n",
            "   'W_Afhandelen leads',\n",
            "   'A_DECLINED',\n",
            "   'W_Afhandelen leads'),\n",
            "  1872)]\n"
          ],
          "name": "stdout"
        }
      ]
    },
    {
      "cell_type": "markdown",
      "metadata": {
        "id": "9XlqD30dDhx6",
        "colab_type": "text"
      },
      "source": [
        "## Import Process Model\n",
        "\n",
        "For the log, a process model is given in the form of a Petri net. Such a process model is typically created manually. For this particular example, however, the model has been discovered automatically using the Inductive Miner, applying some noise filtering threshold. "
      ]
    },
    {
      "cell_type": "code",
      "metadata": {
        "id": "_09nxDhHDhx8",
        "colab_type": "code",
        "outputId": "cfea5ecb-b41b-43a3-9446-553ab2584ffd",
        "colab": {
          "base_uri": "https://localhost:8080/",
          "height": 823
        }
      },
      "source": [
        "%run ./conf_tutorial/pn.py\n",
        "\n",
        "net = PetriNet()\n",
        "load(net, \"./conf_tutorial/financial_log_80_noise.pnml\")\n",
        "\n",
        "# mark the initial place\n",
        "net.add_marking(1,1)\n",
        "# visualise it \n",
        "draw_petri_net(net)"
      ],
      "execution_count": 0,
      "outputs": [
        {
          "output_type": "execute_result",
          "data": {
            "text/plain": [
              "<graphviz.dot.Digraph at 0x7facf1043208>"
            ],
            "image/svg+xml": "<?xml version=\"1.0\" encoding=\"UTF-8\" standalone=\"no\"?>\n<!DOCTYPE svg PUBLIC \"-//W3C//DTD SVG 1.1//EN\"\n \"http://www.w3.org/Graphics/SVG/1.1/DTD/svg11.dtd\">\n<!-- Generated by graphviz version 2.40.1 (20161225.0304)\n -->\n<!-- Title: petri_net Pages: 1 -->\n<svg width=\"7226pt\" height=\"587pt\"\n viewBox=\"0.00 0.00 7226.00 587.00\" xmlns=\"http://www.w3.org/2000/svg\" xmlns:xlink=\"http://www.w3.org/1999/xlink\">\n<g id=\"graph0\" class=\"graph\" transform=\"scale(1 1) rotate(0) translate(4 583)\">\n<title>petri_net</title>\n<polygon fill=\"#ffffff\" stroke=\"transparent\" points=\"-4,4 -4,-583 7222,-583 7222,4 -4,4\"/>\n<!-- &#45;1 -->\n<g id=\"node1\" class=\"node\">\n<title>&#45;1</title>\n<polygon fill=\"none\" stroke=\"#000000\" points=\"232,-548 146,-548 146,-512 232,-512 232,-548\"/>\n<text text-anchor=\"middle\" x=\"189\" y=\"-527.5\" font-family=\"Helvetica,sans-Serif\" font-size=\"10.00\" fill=\"#000000\">A_SUBMITTED</text>\n</g>\n<!-- 3 -->\n<g id=\"node45\" class=\"node\">\n<title>3</title>\n<ellipse fill=\"#d3d3d3\" stroke=\"#d3d3d3\" cx=\"360\" cy=\"-530\" rx=\"18\" ry=\"18\"/>\n<text text-anchor=\"middle\" x=\"360\" y=\"-527.5\" font-family=\"Helvetica,sans-Serif\" font-size=\"10.00\" fill=\"#000000\">3</text>\n</g>\n<!-- &#45;1&#45;&gt;3 -->\n<g id=\"edge61\" class=\"edge\">\n<title>&#45;1&#45;&gt;3</title>\n<path fill=\"none\" stroke=\"#000000\" d=\"M232.1505,-530C263.2819,-530 304.4346,-530 331.5341,-530\"/>\n<polygon fill=\"#000000\" stroke=\"#000000\" points=\"331.872,-533.5001 341.872,-530 331.872,-526.5001 331.872,-533.5001\"/>\n</g>\n<!-- &#45;2 -->\n<g id=\"node2\" class=\"node\">\n<title>&#45;2</title>\n<polygon fill=\"none\" stroke=\"#000000\" points=\"592,-548 470,-548 470,-512 592,-512 592,-548\"/>\n<text text-anchor=\"middle\" x=\"531\" y=\"-527.5\" font-family=\"Helvetica,sans-Serif\" font-size=\"10.00\" fill=\"#000000\">A_PARTLYSUBMITTED</text>\n</g>\n<!-- 4 -->\n<g id=\"node46\" class=\"node\">\n<title>4</title>\n<ellipse fill=\"#d3d3d3\" stroke=\"#d3d3d3\" cx=\"702\" cy=\"-530\" rx=\"18\" ry=\"18\"/>\n<text text-anchor=\"middle\" x=\"702\" y=\"-527.5\" font-family=\"Helvetica,sans-Serif\" font-size=\"10.00\" fill=\"#000000\">4</text>\n</g>\n<!-- &#45;2&#45;&gt;4 -->\n<g id=\"edge95\" class=\"edge\">\n<title>&#45;2&#45;&gt;4</title>\n<path fill=\"none\" stroke=\"#000000\" d=\"M592.2519,-530C620.0885,-530 651.6633,-530 673.7755,-530\"/>\n<polygon fill=\"#000000\" stroke=\"#000000\" points=\"673.8127,-533.5001 683.8126,-530 673.8126,-526.5001 673.8127,-533.5001\"/>\n</g>\n<!-- &#45;3 -->\n<g id=\"node3\" class=\"node\">\n<title>&#45;3</title>\n<polygon fill=\"none\" stroke=\"#000000\" points=\"924,-548 822,-548 822,-512 924,-512 924,-548\"/>\n<text text-anchor=\"middle\" x=\"873\" y=\"-527.5\" font-family=\"Helvetica,sans-Serif\" font-size=\"10.00\" fill=\"#000000\">A_PREACCEPTED</text>\n</g>\n<!-- 5 -->\n<g id=\"node47\" class=\"node\">\n<title>5</title>\n<ellipse fill=\"#d3d3d3\" stroke=\"#d3d3d3\" cx=\"1044\" cy=\"-530\" rx=\"18\" ry=\"18\"/>\n<text text-anchor=\"middle\" x=\"1044\" y=\"-527.5\" font-family=\"Helvetica,sans-Serif\" font-size=\"10.00\" fill=\"#000000\">5</text>\n</g>\n<!-- &#45;3&#45;&gt;5 -->\n<g id=\"edge30\" class=\"edge\">\n<title>&#45;3&#45;&gt;5</title>\n<path fill=\"none\" stroke=\"#000000\" d=\"M924.3056,-530C954.2992,-530 991.0143,-530 1015.8106,-530\"/>\n<polygon fill=\"#000000\" stroke=\"#000000\" points=\"1015.9754,-533.5001 1025.9754,-530 1015.9753,-526.5001 1015.9754,-533.5001\"/>\n</g>\n<!-- &#45;5 -->\n<g id=\"node4\" class=\"node\">\n<title>&#45;5</title>\n<polygon fill=\"none\" stroke=\"#000000\" points=\"1270,-579 1160,-579 1160,-543 1270,-543 1270,-579\"/>\n<text text-anchor=\"middle\" x=\"1215\" y=\"-558.5\" font-family=\"Helvetica,sans-Serif\" font-size=\"10.00\" fill=\"#000000\">W_Beoordelen fraude</text>\n</g>\n<!-- 6 -->\n<g id=\"node48\" class=\"node\">\n<title>6</title>\n<ellipse fill=\"#d3d3d3\" stroke=\"#d3d3d3\" cx=\"1386\" cy=\"-530\" rx=\"18\" ry=\"18\"/>\n<text text-anchor=\"middle\" x=\"1386\" y=\"-527.5\" font-family=\"Helvetica,sans-Serif\" font-size=\"10.00\" fill=\"#000000\">6</text>\n</g>\n<!-- &#45;5&#45;&gt;6 -->\n<g id=\"edge65\" class=\"edge\">\n<title>&#45;5&#45;&gt;6</title>\n<path fill=\"none\" stroke=\"#000000\" d=\"M1270.0467,-551.0208C1299.3416,-545.71 1334.123,-539.4046 1357.8997,-535.0942\"/>\n<polygon fill=\"#000000\" stroke=\"#000000\" points=\"1358.7752,-538.4926 1367.9905,-533.2649 1357.5265,-531.6049 1358.7752,-538.4926\"/>\n</g>\n<!-- &#45;6 -->\n<g id=\"node5\" class=\"node\">\n<title>&#45;6</title>\n<polygon fill=\"none\" stroke=\"#000000\" points=\"1610,-497 1504,-497 1504,-461 1610,-461 1610,-497\"/>\n<text text-anchor=\"middle\" x=\"1557\" y=\"-476.5\" font-family=\"Helvetica,sans-Serif\" font-size=\"10.00\" fill=\"#000000\">W_Afhandelen leads</text>\n</g>\n<!-- 8 -->\n<g id=\"node50\" class=\"node\">\n<title>8</title>\n<ellipse fill=\"#d3d3d3\" stroke=\"#d3d3d3\" cx=\"1728\" cy=\"-456\" rx=\"18\" ry=\"18\"/>\n<text text-anchor=\"middle\" x=\"1728\" y=\"-453.5\" font-family=\"Helvetica,sans-Serif\" font-size=\"10.00\" fill=\"#000000\">8</text>\n</g>\n<!-- &#45;6&#45;&gt;8 -->\n<g id=\"edge1\" class=\"edge\">\n<title>&#45;6&#45;&gt;8</title>\n<path fill=\"none\" stroke=\"#000000\" d=\"M1610.1681,-471.8487C1639.8886,-467.8512 1675.7216,-463.0316 1700.0105,-459.7647\"/>\n<polygon fill=\"#000000\" stroke=\"#000000\" points=\"1700.5337,-463.2259 1709.9779,-458.424 1699.6006,-456.2884 1700.5337,-463.2259\"/>\n</g>\n<!-- &#45;7 -->\n<g id=\"node6\" class=\"node\">\n<title>&#45;7</title>\n<polygon fill=\"none\" stroke=\"#000000\" points=\"1963,-463 1835,-463 1835,-427 1963,-427 1963,-463\"/>\n<text text-anchor=\"middle\" x=\"1899\" y=\"-442.5\" font-family=\"Helvetica,sans-Serif\" font-size=\"10.00\" fill=\"#000000\">W_Completeren aanvraag</text>\n</g>\n<!-- 9 -->\n<g id=\"node51\" class=\"node\">\n<title>9</title>\n<ellipse fill=\"#d3d3d3\" stroke=\"#d3d3d3\" cx=\"2070\" cy=\"-439\" rx=\"18\" ry=\"18\"/>\n<text text-anchor=\"middle\" x=\"2070\" y=\"-436.5\" font-family=\"Helvetica,sans-Serif\" font-size=\"10.00\" fill=\"#000000\">9</text>\n</g>\n<!-- &#45;7&#45;&gt;9 -->\n<g id=\"edge96\" class=\"edge\">\n<title>&#45;7&#45;&gt;9</title>\n<path fill=\"none\" stroke=\"#000000\" d=\"M1963.1606,-442.7488C1990.2387,-441.7986 2020.3675,-440.7415 2041.7091,-439.9927\"/>\n<polygon fill=\"#000000\" stroke=\"#000000\" points=\"2041.8454,-443.4901 2051.7165,-439.6415 2041.5999,-436.4944 2041.8454,-443.4901\"/>\n</g>\n<!-- &#45;11 -->\n<g id=\"node7\" class=\"node\">\n<title>&#45;11</title>\n<polygon fill=\"none\" stroke=\"#000000\" points=\"2623.5,-342 2542.5,-342 2542.5,-306 2623.5,-306 2623.5,-342\"/>\n<text text-anchor=\"middle\" x=\"2583\" y=\"-321.5\" font-family=\"Helvetica,sans-Serif\" font-size=\"10.00\" fill=\"#000000\">O_SELECTED</text>\n</g>\n<!-- 13 -->\n<g id=\"node55\" class=\"node\">\n<title>13</title>\n<ellipse fill=\"#d3d3d3\" stroke=\"#d3d3d3\" cx=\"2754\" cy=\"-324\" rx=\"18\" ry=\"18\"/>\n<text text-anchor=\"middle\" x=\"2754\" y=\"-321.5\" font-family=\"Helvetica,sans-Serif\" font-size=\"10.00\" fill=\"#000000\">13</text>\n</g>\n<!-- &#45;11&#45;&gt;13 -->\n<g id=\"edge43\" class=\"edge\">\n<title>&#45;11&#45;&gt;13</title>\n<path fill=\"none\" stroke=\"#000000\" d=\"M2623.5246,-324C2654.913,-324 2697.6066,-324 2725.4765,-324\"/>\n<polygon fill=\"#000000\" stroke=\"#000000\" points=\"2725.7304,-327.5001 2735.7304,-324 2725.7304,-320.5001 2725.7304,-327.5001\"/>\n</g>\n<!-- &#45;12 -->\n<g id=\"node8\" class=\"node\">\n<title>&#45;12</title>\n<polygon fill=\"none\" stroke=\"#000000\" points=\"2622.5,-281 2543.5,-281 2543.5,-245 2622.5,-245 2622.5,-281\"/>\n<text text-anchor=\"middle\" x=\"2583\" y=\"-260.5\" font-family=\"Helvetica,sans-Serif\" font-size=\"10.00\" fill=\"#000000\">A_FINALIZED</text>\n</g>\n<!-- 15 -->\n<g id=\"node57\" class=\"node\">\n<title>15</title>\n<ellipse fill=\"#d3d3d3\" stroke=\"#d3d3d3\" cx=\"2754\" cy=\"-263\" rx=\"18\" ry=\"18\"/>\n<text text-anchor=\"middle\" x=\"2754\" y=\"-260.5\" font-family=\"Helvetica,sans-Serif\" font-size=\"10.00\" fill=\"#000000\">15</text>\n</g>\n<!-- &#45;12&#45;&gt;15 -->\n<g id=\"edge47\" class=\"edge\">\n<title>&#45;12&#45;&gt;15</title>\n<path fill=\"none\" stroke=\"#000000\" d=\"M2622.6606,-263C2654.191,-263 2697.5296,-263 2725.6515,-263\"/>\n<polygon fill=\"#000000\" stroke=\"#000000\" points=\"2725.983,-266.5001 2735.9829,-263 2725.9829,-259.5001 2725.983,-266.5001\"/>\n</g>\n<!-- &#45;13 -->\n<g id=\"node9\" class=\"node\">\n<title>&#45;13</title>\n<polygon fill=\"none\" stroke=\"#000000\" points=\"2968,-454 2882,-454 2882,-418 2968,-418 2968,-454\"/>\n<text text-anchor=\"middle\" x=\"2925\" y=\"-433.5\" font-family=\"Helvetica,sans-Serif\" font-size=\"10.00\" fill=\"#000000\">A_CANCELLED</text>\n</g>\n<!-- 11 -->\n<g id=\"node53\" class=\"node\">\n<title>11</title>\n<ellipse fill=\"#d3d3d3\" stroke=\"#d3d3d3\" cx=\"3096\" cy=\"-352\" rx=\"18\" ry=\"18\"/>\n<text text-anchor=\"middle\" x=\"3096\" y=\"-349.5\" font-family=\"Helvetica,sans-Serif\" font-size=\"10.00\" fill=\"#000000\">11</text>\n</g>\n<!-- &#45;13&#45;&gt;11 -->\n<g id=\"edge11\" class=\"edge\">\n<title>&#45;13&#45;&gt;11</title>\n<path fill=\"none\" stroke=\"#000000\" d=\"M2961.6838,-417.9799C2994.4825,-401.8682 3041.6946,-378.6763 3070.527,-364.5131\"/>\n<polygon fill=\"#000000\" stroke=\"#000000\" points=\"3072.1205,-367.6298 3079.5529,-360.0793 3069.0341,-361.3469 3072.1205,-367.6298\"/>\n</g>\n<!-- &#45;15 -->\n<g id=\"node10\" class=\"node\">\n<title>&#45;15</title>\n<polygon fill=\"none\" stroke=\"#000000\" points=\"3310.5,-424 3223.5,-424 3223.5,-388 3310.5,-388 3310.5,-424\"/>\n<text text-anchor=\"middle\" x=\"3267\" y=\"-403.5\" font-family=\"Helvetica,sans-Serif\" font-size=\"10.00\" fill=\"#000000\">O_CANCELLED</text>\n</g>\n<!-- 17 -->\n<g id=\"node59\" class=\"node\">\n<title>17</title>\n<ellipse fill=\"#d3d3d3\" stroke=\"#d3d3d3\" cx=\"3438\" cy=\"-397\" rx=\"18\" ry=\"18\"/>\n<text text-anchor=\"middle\" x=\"3438\" y=\"-394.5\" font-family=\"Helvetica,sans-Serif\" font-size=\"10.00\" fill=\"#000000\">17</text>\n</g>\n<!-- &#45;15&#45;&gt;17 -->\n<g id=\"edge68\" class=\"edge\">\n<title>&#45;15&#45;&gt;17</title>\n<path fill=\"none\" stroke=\"#000000\" d=\"M3310.593,-403.7056C3341.7278,-402.067 3382.7126,-399.9099 3409.6822,-398.4904\"/>\n<polygon fill=\"#000000\" stroke=\"#000000\" points=\"3410.1669,-401.9698 3419.9691,-397.949 3409.7989,-394.9795 3410.1669,-401.9698\"/>\n</g>\n<!-- &#45;17 -->\n<g id=\"node11\" class=\"node\">\n<title>&#45;17</title>\n<polygon fill=\"none\" stroke=\"#000000\" points=\"3646.5,-454 3571.5,-454 3571.5,-418 3646.5,-418 3646.5,-454\"/>\n<text text-anchor=\"middle\" x=\"3609\" y=\"-433.5\" font-family=\"Helvetica,sans-Serif\" font-size=\"10.00\" fill=\"#000000\">O_CREATED</text>\n</g>\n<!-- 19 -->\n<g id=\"node61\" class=\"node\">\n<title>19</title>\n<ellipse fill=\"#d3d3d3\" stroke=\"#d3d3d3\" cx=\"3780\" cy=\"-436\" rx=\"18\" ry=\"18\"/>\n<text text-anchor=\"middle\" x=\"3780\" y=\"-433.5\" font-family=\"Helvetica,sans-Serif\" font-size=\"10.00\" fill=\"#000000\">19</text>\n</g>\n<!-- &#45;17&#45;&gt;19 -->\n<g id=\"edge75\" class=\"edge\">\n<title>&#45;17&#45;&gt;19</title>\n<path fill=\"none\" stroke=\"#000000\" d=\"M3646.5267,-436C3678.259,-436 3723.0262,-436 3751.7833,-436\"/>\n<polygon fill=\"#000000\" stroke=\"#000000\" points=\"3751.9603,-439.5001 3761.9603,-436 3751.9602,-432.5001 3751.9603,-439.5001\"/>\n</g>\n<!-- &#45;18 -->\n<g id=\"node12\" class=\"node\">\n<title>&#45;18</title>\n<polygon fill=\"none\" stroke=\"#000000\" points=\"3979,-454 3923,-454 3923,-418 3979,-418 3979,-454\"/>\n<text text-anchor=\"middle\" x=\"3951\" y=\"-433.5\" font-family=\"Helvetica,sans-Serif\" font-size=\"10.00\" fill=\"#000000\">O_SENT</text>\n</g>\n<!-- 18 -->\n<g id=\"node60\" class=\"node\">\n<title>18</title>\n<ellipse fill=\"#d3d3d3\" stroke=\"#d3d3d3\" cx=\"4122\" cy=\"-375\" rx=\"18\" ry=\"18\"/>\n<text text-anchor=\"middle\" x=\"4122\" y=\"-372.5\" font-family=\"Helvetica,sans-Serif\" font-size=\"10.00\" fill=\"#000000\">18</text>\n</g>\n<!-- &#45;18&#45;&gt;18 -->\n<g id=\"edge42\" class=\"edge\">\n<title>&#45;18&#45;&gt;18</title>\n<path fill=\"none\" stroke=\"#000000\" d=\"M3979.2372,-425.9271C4011.4217,-414.4461 4063.641,-395.8181 4095.2099,-384.5567\"/>\n<polygon fill=\"#000000\" stroke=\"#000000\" points=\"4096.4397,-387.8341 4104.6824,-381.1776 4094.0877,-381.241 4096.4397,-387.8341\"/>\n</g>\n<!-- &#45;19 -->\n<g id=\"node13\" class=\"node\">\n<title>&#45;19</title>\n<polygon fill=\"none\" stroke=\"#000000\" points=\"4345,-386 4241,-386 4241,-350 4345,-350 4345,-386\"/>\n<text text-anchor=\"middle\" x=\"4293\" y=\"-365.5\" font-family=\"Helvetica,sans-Serif\" font-size=\"10.00\" fill=\"#000000\">W_Nabellen offertes</text>\n</g>\n<!-- 16 -->\n<g id=\"node58\" class=\"node\">\n<title>16</title>\n<ellipse fill=\"#d3d3d3\" stroke=\"#d3d3d3\" cx=\"4464\" cy=\"-349\" rx=\"18\" ry=\"18\"/>\n<text text-anchor=\"middle\" x=\"4464\" y=\"-346.5\" font-family=\"Helvetica,sans-Serif\" font-size=\"10.00\" fill=\"#000000\">16</text>\n</g>\n<!-- &#45;19&#45;&gt;16 -->\n<g id=\"edge64\" class=\"edge\">\n<title>&#45;19&#45;&gt;16</title>\n<path fill=\"none\" stroke=\"#000000\" d=\"M4345.2348,-362.1961C4375.0089,-358.8879 4411.1592,-354.8712 4435.6981,-352.1447\"/>\n<polygon fill=\"#000000\" stroke=\"#000000\" points=\"4436.2186,-355.6085 4445.7709,-351.0255 4435.4455,-348.6513 4436.2186,-355.6085\"/>\n</g>\n<!-- &#45;23 -->\n<g id=\"node14\" class=\"node\">\n<title>&#45;23</title>\n<polygon fill=\"none\" stroke=\"#000000\" points=\"3648,-342 3570,-342 3570,-306 3648,-306 3648,-342\"/>\n<text text-anchor=\"middle\" x=\"3609\" y=\"-321.5\" font-family=\"Helvetica,sans-Serif\" font-size=\"10.00\" fill=\"#000000\">O_DECLINED</text>\n</g>\n<!-- 21 -->\n<g id=\"node63\" class=\"node\">\n<title>21</title>\n<ellipse fill=\"#d3d3d3\" stroke=\"#d3d3d3\" cx=\"3780\" cy=\"-289\" rx=\"18\" ry=\"18\"/>\n<text text-anchor=\"middle\" x=\"3780\" y=\"-286.5\" font-family=\"Helvetica,sans-Serif\" font-size=\"10.00\" fill=\"#000000\">21</text>\n</g>\n<!-- &#45;23&#45;&gt;21 -->\n<g id=\"edge58\" class=\"edge\">\n<title>&#45;23&#45;&gt;21</title>\n<path fill=\"none\" stroke=\"#000000\" d=\"M3648.2309,-315.9703C3680.0567,-309.4562 3724.1223,-300.437 3752.3479,-294.6598\"/>\n<polygon fill=\"#000000\" stroke=\"#000000\" points=\"3753.2365,-298.0505 3762.3316,-292.6163 3751.8328,-291.1927 3753.2365,-298.0505\"/>\n</g>\n<!-- &#45;24 -->\n<g id=\"node15\" class=\"node\">\n<title>&#45;24</title>\n<polygon fill=\"none\" stroke=\"#000000\" points=\"3647.5,-220 3570.5,-220 3570.5,-184 3647.5,-184 3647.5,-220\"/>\n<text text-anchor=\"middle\" x=\"3609\" y=\"-199.5\" font-family=\"Helvetica,sans-Serif\" font-size=\"10.00\" fill=\"#000000\">A_DECLINED</text>\n</g>\n<!-- 23 -->\n<g id=\"node65\" class=\"node\">\n<title>23</title>\n<ellipse fill=\"#d3d3d3\" stroke=\"#d3d3d3\" cx=\"3780\" cy=\"-215\" rx=\"18\" ry=\"18\"/>\n<text text-anchor=\"middle\" x=\"3780\" y=\"-212.5\" font-family=\"Helvetica,sans-Serif\" font-size=\"10.00\" fill=\"#000000\">23</text>\n</g>\n<!-- &#45;24&#45;&gt;23 -->\n<g id=\"edge71\" class=\"edge\">\n<title>&#45;24&#45;&gt;23</title>\n<path fill=\"none\" stroke=\"#000000\" d=\"M3647.8025,-204.9499C3679.4329,-207.3545 3723.3631,-210.6943 3751.7383,-212.8514\"/>\n<polygon fill=\"#000000\" stroke=\"#000000\" points=\"3751.5571,-216.3477 3761.7937,-213.6159 3752.0878,-209.3678 3751.5571,-216.3477\"/>\n</g>\n<!-- &#45;26 -->\n<g id=\"node16\" class=\"node\">\n<title>&#45;26</title>\n<polygon fill=\"none\" stroke=\"#000000\" points=\"4679,-400 4591,-400 4591,-364 4679,-364 4679,-400\"/>\n<text text-anchor=\"middle\" x=\"4635\" y=\"-379.5\" font-family=\"Helvetica,sans-Serif\" font-size=\"10.00\" fill=\"#000000\">O_SENT_BACK</text>\n</g>\n<!-- 24 -->\n<g id=\"node66\" class=\"node\">\n<title>24</title>\n<ellipse fill=\"#d3d3d3\" stroke=\"#d3d3d3\" cx=\"4806\" cy=\"-342\" rx=\"18\" ry=\"18\"/>\n<text text-anchor=\"middle\" x=\"4806\" y=\"-339.5\" font-family=\"Helvetica,sans-Serif\" font-size=\"10.00\" fill=\"#000000\">24</text>\n</g>\n<!-- &#45;26&#45;&gt;24 -->\n<g id=\"edge4\" class=\"edge\">\n<title>&#45;26&#45;&gt;24</title>\n<path fill=\"none\" stroke=\"#000000\" d=\"M4679.0367,-371.699C4710.3119,-364.3832 4751.3533,-354.7829 4778.1871,-348.506\"/>\n<polygon fill=\"#000000\" stroke=\"#000000\" points=\"4779.126,-351.8809 4788.066,-346.1951 4777.5316,-345.0649 4779.126,-351.8809\"/>\n</g>\n<!-- &#45;30 -->\n<g id=\"node17\" class=\"node\">\n<title>&#45;30</title>\n<polygon fill=\"none\" stroke=\"#000000\" points=\"6059.5,-391 5946.5,-391 5946.5,-355 6059.5,-355 6059.5,-391\"/>\n<text text-anchor=\"middle\" x=\"6003\" y=\"-370.5\" font-family=\"Helvetica,sans-Serif\" font-size=\"10.00\" fill=\"#000000\">W_Valideren aanvraag</text>\n</g>\n<!-- 26 -->\n<g id=\"node68\" class=\"node\">\n<title>26</title>\n<ellipse fill=\"#d3d3d3\" stroke=\"#d3d3d3\" cx=\"6174\" cy=\"-374\" rx=\"18\" ry=\"18\"/>\n<text text-anchor=\"middle\" x=\"6174\" y=\"-371.5\" font-family=\"Helvetica,sans-Serif\" font-size=\"10.00\" fill=\"#000000\">26</text>\n</g>\n<!-- &#45;30&#45;&gt;26 -->\n<g id=\"edge50\" class=\"edge\">\n<title>&#45;30&#45;&gt;26</title>\n<path fill=\"none\" stroke=\"#000000\" d=\"M6059.9405,-373.333C6088.6251,-373.5007 6122.1551,-373.6968 6145.4041,-373.8328\"/>\n<polygon fill=\"#000000\" stroke=\"#000000\" points=\"6145.596,-377.3339 6155.6163,-373.8925 6145.637,-370.334 6145.596,-377.3339\"/>\n</g>\n<!-- &#45;31 -->\n<g id=\"node18\" class=\"node\">\n<title>&#45;31</title>\n<polygon fill=\"none\" stroke=\"#000000\" points=\"5398,-336 5240,-336 5240,-300 5398,-300 5398,-336\"/>\n<text text-anchor=\"middle\" x=\"5319\" y=\"-315.5\" font-family=\"Helvetica,sans-Serif\" font-size=\"10.00\" fill=\"#000000\">W_Nabellen incomplete dossiers</text>\n</g>\n<!-- 28 -->\n<g id=\"node70\" class=\"node\">\n<title>28</title>\n<ellipse fill=\"#d3d3d3\" stroke=\"#d3d3d3\" cx=\"6174\" cy=\"-313\" rx=\"18\" ry=\"18\"/>\n<text text-anchor=\"middle\" x=\"6174\" y=\"-310.5\" font-family=\"Helvetica,sans-Serif\" font-size=\"10.00\" fill=\"#000000\">28</text>\n</g>\n<!-- &#45;31&#45;&gt;28 -->\n<g id=\"edge9\" class=\"edge\">\n<title>&#45;31&#45;&gt;28</title>\n<path fill=\"none\" stroke=\"#000000\" d=\"M5398.1261,-316.9127C5467.4416,-316.0541 5570.895,-315 5661,-315 5661,-315 5661,-315 5832,-315 5948.3033,-315 6086.8504,-313.8291 6145.5134,-313.2791\"/>\n<polygon fill=\"#000000\" stroke=\"#000000\" points=\"6145.8667,-316.776 6155.8329,-313.181 6145.8001,-309.7763 6145.8667,-316.776\"/>\n</g>\n<!-- &#45;32 -->\n<g id=\"node19\" class=\"node\">\n<title>&#45;32</title>\n<polygon fill=\"none\" stroke=\"#000000\" points=\"5360.5,-275 5277.5,-275 5277.5,-239 5360.5,-239 5360.5,-275\"/>\n<text text-anchor=\"middle\" x=\"5319\" y=\"-254.5\" font-family=\"Helvetica,sans-Serif\" font-size=\"10.00\" fill=\"#000000\">O_ACCEPTED</text>\n</g>\n<!-- 30 -->\n<g id=\"node72\" class=\"node\">\n<title>30</title>\n<ellipse fill=\"#d3d3d3\" stroke=\"#d3d3d3\" cx=\"5832\" cy=\"-257\" rx=\"18\" ry=\"18\"/>\n<text text-anchor=\"middle\" x=\"5832\" y=\"-254.5\" font-family=\"Helvetica,sans-Serif\" font-size=\"10.00\" fill=\"#000000\">30</text>\n</g>\n<!-- &#45;32&#45;&gt;30 -->\n<g id=\"edge33\" class=\"edge\">\n<title>&#45;32&#45;&gt;30</title>\n<path fill=\"none\" stroke=\"#000000\" d=\"M5360.5464,-257C5461.5496,-257 5717.9517,-257 5803.6295,-257\"/>\n<polygon fill=\"#000000\" stroke=\"#000000\" points=\"5803.8845,-260.5001 5813.8845,-257 5803.8845,-253.5001 5803.8845,-260.5001\"/>\n</g>\n<!-- &#45;35 -->\n<g id=\"node20\" class=\"node\">\n<title>&#45;35</title>\n<polygon fill=\"none\" stroke=\"#000000\" points=\"5707,-158 5615,-158 5615,-122 5707,-122 5707,-158\"/>\n<text text-anchor=\"middle\" x=\"5661\" y=\"-137.5\" font-family=\"Helvetica,sans-Serif\" font-size=\"10.00\" fill=\"#000000\">A_REGISTERED</text>\n</g>\n<!-- 34 -->\n<g id=\"node76\" class=\"node\">\n<title>34</title>\n<ellipse fill=\"#d3d3d3\" stroke=\"#d3d3d3\" cx=\"5832\" cy=\"-140\" rx=\"18\" ry=\"18\"/>\n<text text-anchor=\"middle\" x=\"5832\" y=\"-137.5\" font-family=\"Helvetica,sans-Serif\" font-size=\"10.00\" fill=\"#000000\">34</text>\n</g>\n<!-- &#45;35&#45;&gt;34 -->\n<g id=\"edge19\" class=\"edge\">\n<title>&#45;35&#45;&gt;34</title>\n<path fill=\"none\" stroke=\"#000000\" d=\"M5707.2751,-140C5738.0495,-140 5777.4798,-140 5803.6817,-140\"/>\n<polygon fill=\"#000000\" stroke=\"#000000\" points=\"5803.7013,-143.5001 5813.7013,-140 5803.7012,-136.5001 5803.7013,-143.5001\"/>\n</g>\n<!-- &#45;36 -->\n<g id=\"node21\" class=\"node\">\n<title>&#45;36</title>\n<polygon fill=\"none\" stroke=\"#000000\" points=\"5702.5,-97 5619.5,-97 5619.5,-61 5702.5,-61 5702.5,-97\"/>\n<text text-anchor=\"middle\" x=\"5661\" y=\"-76.5\" font-family=\"Helvetica,sans-Serif\" font-size=\"10.00\" fill=\"#000000\">A_APPROVED</text>\n</g>\n<!-- 36 -->\n<g id=\"node78\" class=\"node\">\n<title>36</title>\n<ellipse fill=\"#d3d3d3\" stroke=\"#d3d3d3\" cx=\"5832\" cy=\"-79\" rx=\"18\" ry=\"18\"/>\n<text text-anchor=\"middle\" x=\"5832\" y=\"-76.5\" font-family=\"Helvetica,sans-Serif\" font-size=\"10.00\" fill=\"#000000\">36</text>\n</g>\n<!-- &#45;36&#45;&gt;36 -->\n<g id=\"edge45\" class=\"edge\">\n<title>&#45;36&#45;&gt;36</title>\n<path fill=\"none\" stroke=\"#000000\" d=\"M5702.8313,-79C5734.0806,-79 5775.9684,-79 5803.4539,-79\"/>\n<polygon fill=\"#000000\" stroke=\"#000000\" points=\"5803.5795,-82.5001 5813.5795,-79 5803.5794,-75.5001 5803.5795,-82.5001\"/>\n</g>\n<!-- &#45;37 -->\n<g id=\"node22\" class=\"node\">\n<title>&#45;37</title>\n<polygon fill=\"none\" stroke=\"#000000\" points=\"5702.5,-36 5619.5,-36 5619.5,0 5702.5,0 5702.5,-36\"/>\n<text text-anchor=\"middle\" x=\"5661\" y=\"-15.5\" font-family=\"Helvetica,sans-Serif\" font-size=\"10.00\" fill=\"#000000\">A_ACTIVATED</text>\n</g>\n<!-- 38 -->\n<g id=\"node80\" class=\"node\">\n<title>38</title>\n<ellipse fill=\"#d3d3d3\" stroke=\"#d3d3d3\" cx=\"5832\" cy=\"-18\" rx=\"18\" ry=\"18\"/>\n<text text-anchor=\"middle\" x=\"5832\" y=\"-15.5\" font-family=\"Helvetica,sans-Serif\" font-size=\"10.00\" fill=\"#000000\">38</text>\n</g>\n<!-- &#45;37&#45;&gt;38 -->\n<g id=\"edge26\" class=\"edge\">\n<title>&#45;37&#45;&gt;38</title>\n<path fill=\"none\" stroke=\"#000000\" d=\"M5702.8313,-18C5734.0806,-18 5775.9684,-18 5803.4539,-18\"/>\n<polygon fill=\"#000000\" stroke=\"#000000\" points=\"5803.5795,-21.5001 5813.5795,-18 5803.5794,-14.5001 5803.5795,-21.5001\"/>\n</g>\n<!-- &#45;38 -->\n<g id=\"node23\" class=\"node\">\n<title>&#45;38</title>\n<polygon fill=\"none\" stroke=\"#000000\" points=\"5564,-219 5416,-219 5416,-183 5564,-183 5564,-219\"/>\n<text text-anchor=\"middle\" x=\"5490\" y=\"-198.5\" font-family=\"Helvetica,sans-Serif\" font-size=\"10.00\" fill=\"#000000\">W_Wijzigen contractgegevens</text>\n</g>\n<!-- 32 -->\n<g id=\"node74\" class=\"node\">\n<title>32</title>\n<ellipse fill=\"#d3d3d3\" stroke=\"#d3d3d3\" cx=\"6174\" cy=\"-201\" rx=\"18\" ry=\"18\"/>\n<text text-anchor=\"middle\" x=\"6174\" y=\"-198.5\" font-family=\"Helvetica,sans-Serif\" font-size=\"10.00\" fill=\"#000000\">32</text>\n</g>\n<!-- &#45;38&#45;&gt;32 -->\n<g id=\"edge20\" class=\"edge\">\n<title>&#45;38&#45;&gt;32</title>\n<path fill=\"none\" stroke=\"#000000\" d=\"M5564.1757,-201C5714.0162,-201 6046.9396,-201 6145.7977,-201\"/>\n<polygon fill=\"#000000\" stroke=\"#000000\" points=\"6145.9068,-204.5001 6155.9068,-201 6145.9067,-197.5001 6145.9068,-204.5001\"/>\n</g>\n<!-- &#45;4 -->\n<g id=\"node24\" class=\"node\">\n<title>&#45;4</title>\n<polygon fill=\"#000000\" stroke=\"#000000\" points=\"1233,-518 1197,-518 1197,-482 1233,-482 1233,-518\"/>\n<text text-anchor=\"middle\" x=\"1215\" y=\"-499\" font-family=\"Helvetica,sans-Serif\" font-size=\"5.00\" fill=\"#000000\">&#45;4</text>\n</g>\n<!-- &#45;4&#45;&gt;6 -->\n<g id=\"edge29\" class=\"edge\">\n<title>&#45;4&#45;&gt;6</title>\n<path fill=\"none\" stroke=\"#000000\" d=\"M1233.3,-503.2105C1263.2052,-508.4571 1322.7405,-518.9018 1357.9889,-525.0858\"/>\n<polygon fill=\"#000000\" stroke=\"#000000\" points=\"1357.6342,-528.5769 1368.0886,-526.8576 1358.8438,-521.6822 1357.6342,-528.5769\"/>\n</g>\n<!-- &#45;8 -->\n<g id=\"node25\" class=\"node\">\n<title>&#45;8</title>\n<polygon fill=\"#000000\" stroke=\"#000000\" points=\"2259,-401 2223,-401 2223,-365 2259,-365 2259,-401\"/>\n<text text-anchor=\"middle\" x=\"2241\" y=\"-382\" font-family=\"Helvetica,sans-Serif\" font-size=\"5.00\" fill=\"#000000\">&#45;8</text>\n</g>\n<!-- &#45;8&#45;&gt;11 -->\n<g id=\"edge70\" class=\"edge\">\n<title>&#45;8&#45;&gt;11</title>\n<path fill=\"none\" stroke=\"#000000\" d=\"M2259.1668,-382.7285C2310.1978,-381.99 2459.1984,-380 2583,-380 2583,-380 2583,-380 2754,-380 2870.9331,-380 3009.6075,-363.5394 3067.9415,-355.86\"/>\n<polygon fill=\"#000000\" stroke=\"#000000\" points=\"3068.4264,-359.3264 3077.8755,-354.5342 3067.5003,-352.3879 3068.4264,-359.3264\"/>\n</g>\n<!-- &#45;9 -->\n<g id=\"node26\" class=\"node\">\n<title>&#45;9</title>\n<polygon fill=\"#000000\" stroke=\"#000000\" points=\"2259,-340 2223,-340 2223,-304 2259,-304 2259,-340\"/>\n<text text-anchor=\"middle\" x=\"2241\" y=\"-321\" font-family=\"Helvetica,sans-Serif\" font-size=\"5.00\" fill=\"#000000\">&#45;9</text>\n</g>\n<!-- 12 -->\n<g id=\"node54\" class=\"node\">\n<title>12</title>\n<ellipse fill=\"#d3d3d3\" stroke=\"#d3d3d3\" cx=\"2412\" cy=\"-324\" rx=\"18\" ry=\"18\"/>\n<text text-anchor=\"middle\" x=\"2412\" y=\"-321.5\" font-family=\"Helvetica,sans-Serif\" font-size=\"10.00\" fill=\"#000000\">12</text>\n</g>\n<!-- &#45;9&#45;&gt;12 -->\n<g id=\"edge36\" class=\"edge\">\n<title>&#45;9&#45;&gt;12</title>\n<path fill=\"none\" stroke=\"#000000\" d=\"M2259.3,-322.214C2289.1271,-322.5629 2348.4299,-323.2565 2383.7123,-323.6691\"/>\n<polygon fill=\"#000000\" stroke=\"#000000\" points=\"2383.7913,-327.1702 2393.8316,-323.7875 2383.8732,-320.1707 2383.7913,-327.1702\"/>\n</g>\n<!-- 14 -->\n<g id=\"node56\" class=\"node\">\n<title>14</title>\n<ellipse fill=\"#d3d3d3\" stroke=\"#d3d3d3\" cx=\"2412\" cy=\"-263\" rx=\"18\" ry=\"18\"/>\n<text text-anchor=\"middle\" x=\"2412\" y=\"-260.5\" font-family=\"Helvetica,sans-Serif\" font-size=\"10.00\" fill=\"#000000\">14</text>\n</g>\n<!-- &#45;9&#45;&gt;14 -->\n<g id=\"edge39\" class=\"edge\">\n<title>&#45;9&#45;&gt;14</title>\n<path fill=\"none\" stroke=\"#000000\" d=\"M2259.3,-315.686C2289.5694,-305.2422 2350.1949,-284.3246 2385.2656,-272.2241\"/>\n<polygon fill=\"#000000\" stroke=\"#000000\" points=\"2386.539,-275.4873 2394.8506,-268.9171 2384.2558,-268.8701 2386.539,-275.4873\"/>\n</g>\n<!-- &#45;10 -->\n<g id=\"node27\" class=\"node\">\n<title>&#45;10</title>\n<polygon fill=\"#000000\" stroke=\"#000000\" points=\"2943,-342 2907,-342 2907,-306 2943,-306 2943,-342\"/>\n<text text-anchor=\"middle\" x=\"2925\" y=\"-323\" font-family=\"Helvetica,sans-Serif\" font-size=\"5.00\" fill=\"#000000\">&#45;10</text>\n</g>\n<!-- &#45;10&#45;&gt;11 -->\n<g id=\"edge62\" class=\"edge\">\n<title>&#45;10&#45;&gt;11</title>\n<path fill=\"none\" stroke=\"#000000\" d=\"M2943.3,-326.9965C2973.2052,-331.8932 3032.7405,-341.6417 3067.9889,-347.4134\"/>\n<polygon fill=\"#000000\" stroke=\"#000000\" points=\"3067.6544,-350.9051 3078.0886,-349.0671 3068.7856,-343.9971 3067.6544,-350.9051\"/>\n</g>\n<!-- &#45;14 -->\n<g id=\"node28\" class=\"node\">\n<title>&#45;14</title>\n<polygon fill=\"#000000\" stroke=\"#000000\" points=\"3285,-363 3249,-363 3249,-327 3285,-327 3285,-363\"/>\n<text text-anchor=\"middle\" x=\"3267\" y=\"-344\" font-family=\"Helvetica,sans-Serif\" font-size=\"5.00\" fill=\"#000000\">&#45;14</text>\n</g>\n<!-- &#45;14&#45;&gt;17 -->\n<g id=\"edge92\" class=\"edge\">\n<title>&#45;14&#45;&gt;17</title>\n<path fill=\"none\" stroke=\"#000000\" d=\"M3285.3,-350.5649C3315.4909,-359.7458 3375.8809,-378.11 3410.9925,-388.7872\"/>\n<polygon fill=\"#000000\" stroke=\"#000000\" points=\"3410.0123,-392.1473 3420.5981,-391.7082 3412.049,-385.4501 3410.0123,-392.1473\"/>\n</g>\n<!-- &#45;16 -->\n<g id=\"node29\" class=\"node\">\n<title>&#45;16</title>\n<polygon fill=\"#000000\" stroke=\"#000000\" points=\"3969,-393 3933,-393 3933,-357 3969,-357 3969,-393\"/>\n<text text-anchor=\"middle\" x=\"3951\" y=\"-374\" font-family=\"Helvetica,sans-Serif\" font-size=\"5.00\" fill=\"#000000\">&#45;16</text>\n</g>\n<!-- &#45;16&#45;&gt;18 -->\n<g id=\"edge21\" class=\"edge\">\n<title>&#45;16&#45;&gt;18</title>\n<path fill=\"none\" stroke=\"#000000\" d=\"M3969.3,-375C3999.1271,-375 4058.4299,-375 4093.7123,-375\"/>\n<polygon fill=\"#000000\" stroke=\"#000000\" points=\"4093.8316,-378.5001 4103.8316,-375 4093.8316,-371.5001 4093.8316,-378.5001\"/>\n</g>\n<!-- &#45;20 -->\n<g id=\"node30\" class=\"node\">\n<title>&#45;20</title>\n<polygon fill=\"#000000\" stroke=\"#000000\" points=\"3285,-295 3249,-295 3249,-259 3285,-259 3285,-295\"/>\n<text text-anchor=\"middle\" x=\"3267\" y=\"-276\" font-family=\"Helvetica,sans-Serif\" font-size=\"5.00\" fill=\"#000000\">&#45;20</text>\n</g>\n<!-- 20 -->\n<g id=\"node62\" class=\"node\">\n<title>20</title>\n<ellipse fill=\"#d3d3d3\" stroke=\"#d3d3d3\" cx=\"3438\" cy=\"-277\" rx=\"18\" ry=\"18\"/>\n<text text-anchor=\"middle\" x=\"3438\" y=\"-274.5\" font-family=\"Helvetica,sans-Serif\" font-size=\"10.00\" fill=\"#000000\">20</text>\n</g>\n<!-- &#45;20&#45;&gt;20 -->\n<g id=\"edge81\" class=\"edge\">\n<title>&#45;20&#45;&gt;20</title>\n<path fill=\"none\" stroke=\"#000000\" d=\"M3285.3,-277C3315.1271,-277 3374.4299,-277 3409.7123,-277\"/>\n<polygon fill=\"#000000\" stroke=\"#000000\" points=\"3409.8316,-280.5001 3419.8316,-277 3409.8316,-273.5001 3409.8316,-280.5001\"/>\n</g>\n<!-- 22 -->\n<g id=\"node64\" class=\"node\">\n<title>22</title>\n<ellipse fill=\"#d3d3d3\" stroke=\"#d3d3d3\" cx=\"3438\" cy=\"-202\" rx=\"18\" ry=\"18\"/>\n<text text-anchor=\"middle\" x=\"3438\" y=\"-199.5\" font-family=\"Helvetica,sans-Serif\" font-size=\"10.00\" fill=\"#000000\">22</text>\n</g>\n<!-- &#45;20&#45;&gt;22 -->\n<g id=\"edge56\" class=\"edge\">\n<title>&#45;20&#45;&gt;22</title>\n<path fill=\"none\" stroke=\"#000000\" d=\"M3285.3,-268.9737C3315.7262,-255.6289 3376.8239,-228.8316 3411.8087,-213.4874\"/>\n<polygon fill=\"#000000\" stroke=\"#000000\" points=\"3413.599,-216.5241 3421.351,-209.3022 3410.7873,-210.1136 3413.599,-216.5241\"/>\n</g>\n<!-- &#45;21 -->\n<g id=\"node31\" class=\"node\">\n<title>&#45;21</title>\n<polygon fill=\"#000000\" stroke=\"#000000\" points=\"3969,-307 3933,-307 3933,-271 3969,-271 3969,-307\"/>\n<text text-anchor=\"middle\" x=\"3951\" y=\"-288\" font-family=\"Helvetica,sans-Serif\" font-size=\"5.00\" fill=\"#000000\">&#45;21</text>\n</g>\n<!-- &#45;21&#45;&gt;16 -->\n<g id=\"edge35\" class=\"edge\">\n<title>&#45;21&#45;&gt;16</title>\n<path fill=\"none\" stroke=\"#000000\" d=\"M3969.2579,-291.1354C4046.0031,-300.1115 4342.7682,-334.8208 4435.8844,-345.7116\"/>\n<polygon fill=\"#000000\" stroke=\"#000000\" points=\"4435.6219,-349.2047 4445.9608,-346.8902 4436.4352,-342.2521 4435.6219,-349.2047\"/>\n</g>\n<!-- &#45;22 -->\n<g id=\"node32\" class=\"node\">\n<title>&#45;22</title>\n<polygon fill=\"#000000\" stroke=\"#000000\" points=\"3627,-281 3591,-281 3591,-245 3627,-245 3627,-281\"/>\n<text text-anchor=\"middle\" x=\"3609\" y=\"-262\" font-family=\"Helvetica,sans-Serif\" font-size=\"5.00\" fill=\"#000000\">&#45;22</text>\n</g>\n<!-- &#45;22&#45;&gt;21 -->\n<g id=\"edge5\" class=\"edge\">\n<title>&#45;22&#45;&gt;21</title>\n<path fill=\"none\" stroke=\"#000000\" d=\"M3627.3,-265.7825C3657.2052,-270.3294 3716.7405,-279.3816 3751.9889,-284.741\"/>\n<polygon fill=\"#000000\" stroke=\"#000000\" points=\"3751.676,-288.2336 3762.0886,-286.2766 3752.7283,-281.3131 3751.676,-288.2336\"/>\n</g>\n<!-- &#45;25 -->\n<g id=\"node33\" class=\"node\">\n<title>&#45;25</title>\n<polygon fill=\"#000000\" stroke=\"#000000\" points=\"4653,-339 4617,-339 4617,-303 4653,-303 4653,-339\"/>\n<text text-anchor=\"middle\" x=\"4635\" y=\"-320\" font-family=\"Helvetica,sans-Serif\" font-size=\"5.00\" fill=\"#000000\">&#45;25</text>\n</g>\n<!-- &#45;25&#45;&gt;24 -->\n<g id=\"edge83\" class=\"edge\">\n<title>&#45;25&#45;&gt;24</title>\n<path fill=\"none\" stroke=\"#000000\" d=\"M4653.3,-323.2474C4683.2052,-326.9199 4742.7405,-334.2313 4777.9889,-338.56\"/>\n<polygon fill=\"#000000\" stroke=\"#000000\" points=\"4777.7365,-342.0553 4788.0886,-339.8004 4778.5898,-335.1074 4777.7365,-342.0553\"/>\n</g>\n<!-- &#45;27 -->\n<g id=\"node34\" class=\"node\">\n<title>&#45;27</title>\n<polygon fill=\"#000000\" stroke=\"#000000\" points=\"6021,-452 5985,-452 5985,-416 6021,-416 6021,-452\"/>\n<text text-anchor=\"middle\" x=\"6003\" y=\"-433\" font-family=\"Helvetica,sans-Serif\" font-size=\"5.00\" fill=\"#000000\">&#45;27</text>\n</g>\n<!-- 10 -->\n<g id=\"node52\" class=\"node\">\n<title>10</title>\n<ellipse fill=\"#d3d3d3\" stroke=\"#d3d3d3\" cx=\"6516\" cy=\"-430\" rx=\"18\" ry=\"18\"/>\n<text text-anchor=\"middle\" x=\"6516\" y=\"-427.5\" font-family=\"Helvetica,sans-Serif\" font-size=\"10.00\" fill=\"#000000\">10</text>\n</g>\n<!-- &#45;27&#45;&gt;10 -->\n<g id=\"edge72\" class=\"edge\">\n<title>&#45;27&#45;&gt;10</title>\n<path fill=\"none\" stroke=\"#000000\" d=\"M6021.2579,-433.8576C6098.0031,-433.2592 6394.7682,-430.9453 6487.8844,-430.2192\"/>\n<polygon fill=\"#000000\" stroke=\"#000000\" points=\"6487.9885,-433.7186 6497.9608,-430.1407 6487.9338,-426.7188 6487.9885,-433.7186\"/>\n</g>\n<!-- &#45;28 -->\n<g id=\"node35\" class=\"node\">\n<title>&#45;28</title>\n<polygon fill=\"#000000\" stroke=\"#000000\" points=\"4995,-336 4959,-336 4959,-300 4995,-300 4995,-336\"/>\n<text text-anchor=\"middle\" x=\"4977\" y=\"-317\" font-family=\"Helvetica,sans-Serif\" font-size=\"5.00\" fill=\"#000000\">&#45;28</text>\n</g>\n<!-- 25 -->\n<g id=\"node67\" class=\"node\">\n<title>25</title>\n<ellipse fill=\"#d3d3d3\" stroke=\"#d3d3d3\" cx=\"5661\" cy=\"-373\" rx=\"18\" ry=\"18\"/>\n<text text-anchor=\"middle\" x=\"5661\" y=\"-370.5\" font-family=\"Helvetica,sans-Serif\" font-size=\"10.00\" fill=\"#000000\">25</text>\n</g>\n<!-- &#45;28&#45;&gt;25 -->\n<g id=\"edge90\" class=\"edge\">\n<title>&#45;28&#45;&gt;25</title>\n<path fill=\"none\" stroke=\"#000000\" d=\"M4995.2316,-322.4765C5023.7706,-329.2787 5080.8232,-342.0536 5130,-348 5320.7639,-371.0669 5552.4691,-373.1495 5632.3349,-373.1232\"/>\n<polygon fill=\"#000000\" stroke=\"#000000\" points=\"5632.582,-376.6229 5642.5765,-373.1075 5632.5711,-369.6229 5632.582,-376.6229\"/>\n</g>\n<!-- 27 -->\n<g id=\"node69\" class=\"node\">\n<title>27</title>\n<ellipse fill=\"#d3d3d3\" stroke=\"#d3d3d3\" cx=\"5148\" cy=\"-318\" rx=\"18\" ry=\"18\"/>\n<text text-anchor=\"middle\" x=\"5148\" y=\"-315.5\" font-family=\"Helvetica,sans-Serif\" font-size=\"10.00\" fill=\"#000000\">27</text>\n</g>\n<!-- &#45;28&#45;&gt;27 -->\n<g id=\"edge12\" class=\"edge\">\n<title>&#45;28&#45;&gt;27</title>\n<path fill=\"none\" stroke=\"#000000\" d=\"M4995.3,-318C5025.1271,-318 5084.4299,-318 5119.7123,-318\"/>\n<polygon fill=\"#000000\" stroke=\"#000000\" points=\"5119.8316,-321.5001 5129.8316,-318 5119.8316,-314.5001 5119.8316,-321.5001\"/>\n</g>\n<!-- 29 -->\n<g id=\"node71\" class=\"node\">\n<title>29</title>\n<ellipse fill=\"#d3d3d3\" stroke=\"#d3d3d3\" cx=\"5148\" cy=\"-257\" rx=\"18\" ry=\"18\"/>\n<text text-anchor=\"middle\" x=\"5148\" y=\"-254.5\" font-family=\"Helvetica,sans-Serif\" font-size=\"10.00\" fill=\"#000000\">29</text>\n</g>\n<!-- &#45;28&#45;&gt;29 -->\n<g id=\"edge51\" class=\"edge\">\n<title>&#45;28&#45;&gt;29</title>\n<path fill=\"none\" stroke=\"#000000\" d=\"M4995.3,-311.4719C5025.5694,-300.6741 5086.1949,-279.0474 5121.2656,-266.5368\"/>\n<polygon fill=\"#000000\" stroke=\"#000000\" points=\"5122.6079,-269.7741 5130.8506,-263.1176 5120.2559,-263.181 5122.6079,-269.7741\"/>\n</g>\n<!-- 31 -->\n<g id=\"node73\" class=\"node\">\n<title>31</title>\n<ellipse fill=\"#d3d3d3\" stroke=\"#d3d3d3\" cx=\"5148\" cy=\"-196\" rx=\"18\" ry=\"18\"/>\n<text text-anchor=\"middle\" x=\"5148\" y=\"-193.5\" font-family=\"Helvetica,sans-Serif\" font-size=\"10.00\" fill=\"#000000\">31</text>\n</g>\n<!-- &#45;28&#45;&gt;31 -->\n<g id=\"edge24\" class=\"edge\">\n<title>&#45;28&#45;&gt;31</title>\n<path fill=\"none\" stroke=\"#000000\" d=\"M4995.3,-304.9439C5026.6201,-282.5985 5090.4404,-237.0659 5124.8231,-212.5356\"/>\n<polygon fill=\"#000000\" stroke=\"#000000\" points=\"5127.1834,-215.1511 5133.2912,-206.494 5123.1178,-209.4527 5127.1834,-215.1511\"/>\n</g>\n<!-- &#45;29 -->\n<g id=\"node36\" class=\"node\">\n<title>&#45;29</title>\n<polygon fill=\"#000000\" stroke=\"#000000\" points=\"6363,-331 6327,-331 6327,-295 6363,-295 6363,-331\"/>\n<text text-anchor=\"middle\" x=\"6345\" y=\"-312\" font-family=\"Helvetica,sans-Serif\" font-size=\"5.00\" fill=\"#000000\">&#45;29</text>\n</g>\n<!-- &#45;29&#45;&gt;10 -->\n<g id=\"edge97\" class=\"edge\">\n<title>&#45;29&#45;&gt;10</title>\n<path fill=\"none\" stroke=\"#000000\" d=\"M6363.3,-325.521C6394.4619,-346.8424 6457.7966,-390.1766 6492.2999,-413.7841\"/>\n<polygon fill=\"#000000\" stroke=\"#000000\" points=\"6490.586,-416.8523 6500.8155,-419.6106 6494.5388,-411.0751 6490.586,-416.8523\"/>\n</g>\n<!-- &#45;33 -->\n<g id=\"node37\" class=\"node\">\n<title>&#45;33</title>\n<polygon fill=\"#000000\" stroke=\"#000000\" points=\"5337,-128 5301,-128 5301,-92 5337,-92 5337,-128\"/>\n<text text-anchor=\"middle\" x=\"5319\" y=\"-109\" font-family=\"Helvetica,sans-Serif\" font-size=\"5.00\" fill=\"#000000\">&#45;33</text>\n</g>\n<!-- 33 -->\n<g id=\"node75\" class=\"node\">\n<title>33</title>\n<ellipse fill=\"#d3d3d3\" stroke=\"#d3d3d3\" cx=\"5490\" cy=\"-140\" rx=\"18\" ry=\"18\"/>\n<text text-anchor=\"middle\" x=\"5490\" y=\"-137.5\" font-family=\"Helvetica,sans-Serif\" font-size=\"10.00\" fill=\"#000000\">33</text>\n</g>\n<!-- &#45;33&#45;&gt;33 -->\n<g id=\"edge88\" class=\"edge\">\n<title>&#45;33&#45;&gt;33</title>\n<path fill=\"none\" stroke=\"#000000\" d=\"M5337.3,-113.2105C5367.2052,-118.4571 5426.7405,-128.9018 5461.9889,-135.0858\"/>\n<polygon fill=\"#000000\" stroke=\"#000000\" points=\"5461.6342,-138.5769 5472.0886,-136.8576 5462.8438,-131.6822 5461.6342,-138.5769\"/>\n</g>\n<!-- 35 -->\n<g id=\"node77\" class=\"node\">\n<title>35</title>\n<ellipse fill=\"#d3d3d3\" stroke=\"#d3d3d3\" cx=\"5490\" cy=\"-79\" rx=\"18\" ry=\"18\"/>\n<text text-anchor=\"middle\" x=\"5490\" y=\"-76.5\" font-family=\"Helvetica,sans-Serif\" font-size=\"10.00\" fill=\"#000000\">35</text>\n</g>\n<!-- &#45;33&#45;&gt;35 -->\n<g id=\"edge73\" class=\"edge\">\n<title>&#45;33&#45;&gt;35</title>\n<path fill=\"none\" stroke=\"#000000\" d=\"M5337.3,-106.6825C5367.2052,-101.261 5426.7405,-90.4681 5461.9889,-84.078\"/>\n<polygon fill=\"#000000\" stroke=\"#000000\" points=\"5462.8733,-87.4748 5472.0886,-82.2471 5461.6246,-80.5871 5462.8733,-87.4748\"/>\n</g>\n<!-- 37 -->\n<g id=\"node79\" class=\"node\">\n<title>37</title>\n<ellipse fill=\"#d3d3d3\" stroke=\"#d3d3d3\" cx=\"5490\" cy=\"-18\" rx=\"18\" ry=\"18\"/>\n<text text-anchor=\"middle\" x=\"5490\" y=\"-15.5\" font-family=\"Helvetica,sans-Serif\" font-size=\"10.00\" fill=\"#000000\">37</text>\n</g>\n<!-- &#45;33&#45;&gt;37 -->\n<g id=\"edge74\" class=\"edge\">\n<title>&#45;33&#45;&gt;37</title>\n<path fill=\"none\" stroke=\"#000000\" d=\"M5337.3494,-96.8254C5356.4173,-83.4859 5387.4129,-62.7718 5416,-48 5431.1628,-40.1649 5448.8567,-32.9273 5463.1402,-27.5247\"/>\n<polygon fill=\"#000000\" stroke=\"#000000\" points=\"5464.6878,-30.6841 5472.853,-23.9327 5462.2598,-24.1186 5464.6878,-30.6841\"/>\n</g>\n<!-- &#45;34 -->\n<g id=\"node38\" class=\"node\">\n<title>&#45;34</title>\n<polygon fill=\"#000000\" stroke=\"#000000\" points=\"6021,-128 5985,-128 5985,-92 6021,-92 6021,-128\"/>\n<text text-anchor=\"middle\" x=\"6003\" y=\"-109\" font-family=\"Helvetica,sans-Serif\" font-size=\"5.00\" fill=\"#000000\">&#45;34</text>\n</g>\n<!-- &#45;34&#45;&gt;32 -->\n<g id=\"edge25\" class=\"edge\">\n<title>&#45;34&#45;&gt;32</title>\n<path fill=\"none\" stroke=\"#000000\" d=\"M6021.3,-119.7386C6052.0143,-136.0836 6113.9837,-169.0615 6148.7954,-187.587\"/>\n<polygon fill=\"#000000\" stroke=\"#000000\" points=\"6147.3733,-190.7949 6157.8454,-192.4031 6150.6618,-184.6155 6147.3733,-190.7949\"/>\n</g>\n<!-- &#45;39 -->\n<g id=\"node39\" class=\"node\">\n<title>&#45;39</title>\n<polygon fill=\"#000000\" stroke=\"#000000\" points=\"6705,-507 6669,-507 6669,-471 6705,-471 6705,-507\"/>\n<text text-anchor=\"middle\" x=\"6687\" y=\"-488\" font-family=\"Helvetica,sans-Serif\" font-size=\"5.00\" fill=\"#000000\">&#45;39</text>\n</g>\n<!-- &#45;39&#45;&gt;9 -->\n<g id=\"edge86\" class=\"edge\">\n<title>&#45;39&#45;&gt;9</title>\n<path fill=\"none\" stroke=\"#000000\" d=\"M6668.8332,-489.2715C6617.8022,-490.01 6468.8016,-492 6345,-492 2412,-492 2412,-492 2412,-492 2293.7829,-492 2155.2627,-460.6929 2097.4789,-446.2021\"/>\n<polygon fill=\"#000000\" stroke=\"#000000\" points=\"2098.2062,-442.7757 2087.6521,-443.7034 2096.4811,-449.5599 2098.2062,-442.7757\"/>\n</g>\n<!-- &#45;40 -->\n<g id=\"node40\" class=\"node\">\n<title>&#45;40</title>\n<polygon fill=\"#000000\" stroke=\"#000000\" points=\"6705,-446 6669,-446 6669,-410 6705,-410 6705,-446\"/>\n<text text-anchor=\"middle\" x=\"6687\" y=\"-427\" font-family=\"Helvetica,sans-Serif\" font-size=\"5.00\" fill=\"#000000\">&#45;40</text>\n</g>\n<!-- 7 -->\n<g id=\"node49\" class=\"node\">\n<title>7</title>\n<ellipse fill=\"#d3d3d3\" stroke=\"#d3d3d3\" cx=\"6858\" cy=\"-442\" rx=\"18\" ry=\"18\"/>\n<text text-anchor=\"middle\" x=\"6858\" y=\"-439.5\" font-family=\"Helvetica,sans-Serif\" font-size=\"10.00\" fill=\"#000000\">7</text>\n</g>\n<!-- &#45;40&#45;&gt;7 -->\n<g id=\"edge94\" class=\"edge\">\n<title>&#45;40&#45;&gt;7</title>\n<path fill=\"none\" stroke=\"#000000\" d=\"M6705.3,-429.4982C6735.1271,-431.9402 6794.4299,-436.7954 6829.7123,-439.684\"/>\n<polygon fill=\"#000000\" stroke=\"#000000\" points=\"6829.5793,-443.1848 6839.8316,-440.5125 6830.1506,-436.2081 6829.5793,-443.1848\"/>\n</g>\n<!-- &#45;41 -->\n<g id=\"node41\" class=\"node\">\n<title>&#45;41</title>\n<polygon fill=\"#000000\" stroke=\"#000000\" points=\"7047,-549 7011,-549 7011,-513 7047,-513 7047,-549\"/>\n<text text-anchor=\"middle\" x=\"7029\" y=\"-530\" font-family=\"Helvetica,sans-Serif\" font-size=\"5.00\" fill=\"#000000\">&#45;41</text>\n</g>\n<!-- &#45;41&#45;&gt;6 -->\n<g id=\"edge23\" class=\"edge\">\n<title>&#45;41&#45;&gt;6</title>\n<path fill=\"none\" stroke=\"#000000\" d=\"M7010.8434,-532.2671C6959.8389,-535.7133 6810.9006,-545 6687,-545 1728,-545 1728,-545 1728,-545 1611.5868,-545 1473.098,-536.2184 1414.4685,-532.0935\"/>\n<polygon fill=\"#000000\" stroke=\"#000000\" points=\"1414.3788,-528.5783 1404.155,-531.3576 1413.8805,-535.5606 1414.3788,-528.5783\"/>\n</g>\n<!-- &#45;42 -->\n<g id=\"node42\" class=\"node\">\n<title>&#45;42</title>\n<polygon fill=\"#000000\" stroke=\"#000000\" points=\"7047,-460 7011,-460 7011,-424 7047,-424 7047,-460\"/>\n<text text-anchor=\"middle\" x=\"7029\" y=\"-441\" font-family=\"Helvetica,sans-Serif\" font-size=\"5.00\" fill=\"#000000\">&#45;42</text>\n</g>\n<!-- 2 -->\n<g id=\"node44\" class=\"node\">\n<title>2</title>\n<ellipse fill=\"#d3d3d3\" stroke=\"#d3d3d3\" cx=\"7200\" cy=\"-442\" rx=\"18\" ry=\"18\"/>\n<text text-anchor=\"middle\" x=\"7200\" y=\"-439.5\" font-family=\"Helvetica,sans-Serif\" font-size=\"10.00\" fill=\"#000000\">2</text>\n</g>\n<!-- &#45;42&#45;&gt;2 -->\n<g id=\"edge34\" class=\"edge\">\n<title>&#45;42&#45;&gt;2</title>\n<path fill=\"none\" stroke=\"#000000\" d=\"M7047.3,-442C7077.1271,-442 7136.4299,-442 7171.7123,-442\"/>\n<polygon fill=\"#000000\" stroke=\"#000000\" points=\"7171.8316,-445.5001 7181.8316,-442 7171.8316,-438.5001 7171.8316,-445.5001\"/>\n</g>\n<!-- 1 -->\n<g id=\"node43\" class=\"node\">\n<title>1</title>\n<ellipse fill=\"#d3d3d3\" stroke=\"#d3d3d3\" cx=\"18\" cy=\"-530\" rx=\"18\" ry=\"18\"/>\n<text text-anchor=\"middle\" x=\"18\" y=\"-527.5\" font-family=\"Helvetica,sans-Serif\" font-size=\"10.00\" fill=\"#000000\">1</text>\n</g>\n<!-- 1&#45;&gt;&#45;1 -->\n<g id=\"edge6\" class=\"edge\">\n<title>1&#45;&gt;&#45;1</title>\n<path fill=\"none\" stroke=\"#000000\" d=\"M36.3,-530C59.8025,-530 101.6058,-530 135.5382,-530\"/>\n<polygon fill=\"#000000\" stroke=\"#000000\" points=\"135.7874,-533.5001 145.7873,-530 135.7873,-526.5001 135.7874,-533.5001\"/>\n</g>\n<!-- 3&#45;&gt;&#45;2 -->\n<g id=\"edge22\" class=\"edge\">\n<title>3&#45;&gt;&#45;2</title>\n<path fill=\"none\" stroke=\"#000000\" d=\"M378.3,-530C397.7221,-530 429.6419,-530 459.2897,-530\"/>\n<polygon fill=\"#000000\" stroke=\"#000000\" points=\"459.6576,-533.5001 469.6576,-530 459.6575,-526.5001 459.6576,-533.5001\"/>\n</g>\n<!-- 4&#45;&gt;&#45;3 -->\n<g id=\"edge89\" class=\"edge\">\n<title>4&#45;&gt;&#45;3</title>\n<path fill=\"none\" stroke=\"#000000\" d=\"M720.3,-530C741.9908,-530 779.2697,-530 811.5629,-530\"/>\n<polygon fill=\"#000000\" stroke=\"#000000\" points=\"811.8464,-533.5001 821.8464,-530 811.8464,-526.5001 811.8464,-533.5001\"/>\n</g>\n<!-- 5&#45;&gt;&#45;5 -->\n<g id=\"edge59\" class=\"edge\">\n<title>5&#45;&gt;&#45;5</title>\n<path fill=\"none\" stroke=\"#000000\" d=\"M1061.9768,-533.259C1082.7907,-537.0322 1118.2623,-543.4628 1149.8156,-549.1829\"/>\n<polygon fill=\"#000000\" stroke=\"#000000\" points=\"1149.4349,-552.6709 1159.8989,-551.0109 1150.6836,-545.7832 1149.4349,-552.6709\"/>\n</g>\n<!-- 5&#45;&gt;&#45;4 -->\n<g id=\"edge40\" class=\"edge\">\n<title>5&#45;&gt;&#45;4</title>\n<path fill=\"none\" stroke=\"#000000\" d=\"M1061.9768,-526.8462C1091.6621,-521.6382 1151.1626,-511.1996 1186.5879,-504.9846\"/>\n<polygon fill=\"#000000\" stroke=\"#000000\" points=\"1187.5046,-508.3773 1196.7494,-503.2019 1186.295,-501.4826 1187.5046,-508.3773\"/>\n</g>\n<!-- 6&#45;&gt;&#45;6 -->\n<g id=\"edge52\" class=\"edge\">\n<title>6&#45;&gt;&#45;6</title>\n<path fill=\"none\" stroke=\"#000000\" d=\"M1403.3374,-524.8292C1424.4982,-518.5181 1461.4662,-507.4925 1493.8392,-497.8374\"/>\n<polygon fill=\"#000000\" stroke=\"#000000\" points=\"1495.1333,-501.1039 1503.7158,-494.8918 1493.1326,-494.3959 1495.1333,-501.1039\"/>\n</g>\n<!-- 7&#45;&gt;&#45;41 -->\n<g id=\"edge63\" class=\"edge\">\n<title>7&#45;&gt;&#45;41</title>\n<path fill=\"none\" stroke=\"#000000\" d=\"M6874.0873,-450.3729C6903.3944,-465.6263 6965.7756,-498.0937 7001.7979,-516.8422\"/>\n<polygon fill=\"#000000\" stroke=\"#000000\" points=\"7000.2946,-520.0054 7010.781,-521.5176 7003.5264,-513.7961 7000.2946,-520.0054\"/>\n</g>\n<!-- 7&#45;&gt;&#45;42 -->\n<g id=\"edge41\" class=\"edge\">\n<title>7&#45;&gt;&#45;42</title>\n<path fill=\"none\" stroke=\"#000000\" d=\"M6876.3,-442C6906.1271,-442 6965.4299,-442 7000.7123,-442\"/>\n<polygon fill=\"#000000\" stroke=\"#000000\" points=\"7000.8316,-445.5001 7010.8316,-442 7000.8316,-438.5001 7000.8316,-445.5001\"/>\n</g>\n<!-- 8&#45;&gt;&#45;7 -->\n<g id=\"edge14\" class=\"edge\">\n<title>8&#45;&gt;&#45;7</title>\n<path fill=\"none\" stroke=\"#000000\" d=\"M1745.9768,-454.8436C1764.7696,-453.6347 1795.5116,-451.6571 1824.5298,-449.7905\"/>\n<polygon fill=\"#000000\" stroke=\"#000000\" points=\"1824.9449,-453.2711 1834.6996,-449.1363 1824.4955,-446.2855 1824.9449,-453.2711\"/>\n</g>\n<!-- 9&#45;&gt;&#45;13 -->\n<g id=\"edge85\" class=\"edge\">\n<title>9&#45;&gt;&#45;13</title>\n<path fill=\"none\" stroke=\"#000000\" d=\"M2088.1673,-439C2139.1996,-439 2288.2031,-439 2412,-439 2412,-439 2412,-439 2583,-439 2685.0153,-439 2804.1409,-437.6488 2871.4616,-436.76\"/>\n<polygon fill=\"#000000\" stroke=\"#000000\" points=\"2871.8585,-440.2551 2881.8108,-436.6216 2871.7649,-433.2557 2871.8585,-440.2551\"/>\n</g>\n<!-- 9&#45;&gt;&#45;8 -->\n<g id=\"edge57\" class=\"edge\">\n<title>9&#45;&gt;&#45;8</title>\n<path fill=\"none\" stroke=\"#000000\" d=\"M2087.3374,-433.3222C2116.9357,-423.6293 2177.4597,-403.8085 2213.0785,-392.1439\"/>\n<polygon fill=\"#000000\" stroke=\"#000000\" points=\"2214.4308,-395.384 2222.8448,-388.9455 2212.2522,-388.7316 2214.4308,-395.384\"/>\n</g>\n<!-- 9&#45;&gt;&#45;9 -->\n<g id=\"edge10\" class=\"edge\">\n<title>9&#45;&gt;&#45;9</title>\n<path fill=\"none\" stroke=\"#000000\" d=\"M2084.876,-428.8217C2113.7906,-409.038 2177.9268,-365.1553 2214.3594,-340.2278\"/>\n<polygon fill=\"#000000\" stroke=\"#000000\" points=\"2216.71,-342.8603 2222.9867,-334.3249 2212.7572,-337.0832 2216.71,-342.8603\"/>\n</g>\n<!-- 10&#45;&gt;&#45;39 -->\n<g id=\"edge27\" class=\"edge\">\n<title>10&#45;&gt;&#45;39</title>\n<path fill=\"none\" stroke=\"#000000\" d=\"M6533.0213,-435.8728C6562.4693,-446.0333 6623.1942,-466.9851 6658.9566,-479.3242\"/>\n<polygon fill=\"#000000\" stroke=\"#000000\" points=\"6658.1686,-482.7547 6668.7633,-482.7078 6660.4518,-476.1375 6658.1686,-482.7547\"/>\n</g>\n<!-- 10&#45;&gt;&#45;40 -->\n<g id=\"edge93\" class=\"edge\">\n<title>10&#45;&gt;&#45;40</title>\n<path fill=\"none\" stroke=\"#000000\" d=\"M6534.3,-429.786C6564.1271,-429.4371 6623.4299,-428.7435 6658.7123,-428.3309\"/>\n<polygon fill=\"#000000\" stroke=\"#000000\" points=\"6658.8732,-431.8293 6668.8316,-428.2125 6658.7913,-424.8298 6658.8732,-431.8293\"/>\n</g>\n<!-- 11&#45;&gt;&#45;15 -->\n<g id=\"edge54\" class=\"edge\">\n<title>11&#45;&gt;&#45;15</title>\n<path fill=\"none\" stroke=\"#000000\" d=\"M3113.3374,-357.475C3136.5987,-364.8206 3178.961,-378.1982 3213.3237,-389.0496\"/>\n<polygon fill=\"#000000\" stroke=\"#000000\" points=\"3212.6501,-392.5072 3223.2399,-392.181 3214.7581,-385.8321 3212.6501,-392.5072\"/>\n</g>\n<!-- 11&#45;&gt;&#45;14 -->\n<g id=\"edge67\" class=\"edge\">\n<title>11&#45;&gt;&#45;14</title>\n<path fill=\"none\" stroke=\"#000000\" d=\"M3114.3,-351.2509C3144.1271,-350.0299 3203.4299,-347.6023 3238.7123,-346.158\"/>\n<polygon fill=\"#000000\" stroke=\"#000000\" points=\"3238.9831,-349.6499 3248.8316,-345.7437 3238.6968,-342.6558 3238.9831,-349.6499\"/>\n</g>\n<!-- 11&#45;&gt;&#45;20 -->\n<g id=\"edge84\" class=\"edge\">\n<title>11&#45;&gt;&#45;20</title>\n<path fill=\"none\" stroke=\"#000000\" d=\"M3112.7075,-344.6721C3142.2053,-331.7345 3203.7724,-304.7314 3239.5756,-289.0283\"/>\n<polygon fill=\"#000000\" stroke=\"#000000\" points=\"3241.1906,-292.1418 3248.9426,-284.9199 3238.3789,-285.7313 3241.1906,-292.1418\"/>\n</g>\n<!-- 12&#45;&gt;&#45;11 -->\n<g id=\"edge38\" class=\"edge\">\n<title>12&#45;&gt;&#45;11</title>\n<path fill=\"none\" stroke=\"#000000\" d=\"M2430.3,-324C2454.3491,-324 2497.56,-324 2531.8925,-324\"/>\n<polygon fill=\"#000000\" stroke=\"#000000\" points=\"2532.2314,-327.5001 2542.2314,-324 2532.2313,-320.5001 2532.2314,-327.5001\"/>\n</g>\n<!-- 13&#45;&gt;&#45;10 -->\n<g id=\"edge7\" class=\"edge\">\n<title>13&#45;&gt;&#45;10</title>\n<path fill=\"none\" stroke=\"#000000\" d=\"M2772.3,-324C2802.1271,-324 2861.4299,-324 2896.7123,-324\"/>\n<polygon fill=\"#000000\" stroke=\"#000000\" points=\"2896.8316,-327.5001 2906.8316,-324 2896.8316,-320.5001 2896.8316,-327.5001\"/>\n</g>\n<!-- 14&#45;&gt;&#45;12 -->\n<g id=\"edge48\" class=\"edge\">\n<title>14&#45;&gt;&#45;12</title>\n<path fill=\"none\" stroke=\"#000000\" d=\"M2430.3,-263C2454.5833,-263 2498.4036,-263 2532.8932,-263\"/>\n<polygon fill=\"#000000\" stroke=\"#000000\" points=\"2533.2654,-266.5001 2543.2653,-263 2533.2653,-259.5001 2533.2654,-266.5001\"/>\n</g>\n<!-- 15&#45;&gt;&#45;10 -->\n<g id=\"edge77\" class=\"edge\">\n<title>15&#45;&gt;&#45;10</title>\n<path fill=\"none\" stroke=\"#000000\" d=\"M2771.0213,-269.0719C2800.4693,-279.5768 2861.1942,-301.2389 2896.9566,-313.9962\"/>\n<polygon fill=\"#000000\" stroke=\"#000000\" points=\"2896.1687,-317.4311 2906.7633,-317.4945 2898.5206,-310.838 2896.1687,-317.4311\"/>\n</g>\n<!-- 16&#45;&gt;&#45;26 -->\n<g id=\"edge87\" class=\"edge\">\n<title>16&#45;&gt;&#45;26</title>\n<path fill=\"none\" stroke=\"#000000\" d=\"M4481.9768,-352.4692C4505.2122,-356.9532 4546.7139,-364.9623 4580.6396,-371.5094\"/>\n<polygon fill=\"#000000\" stroke=\"#000000\" points=\"4580.4143,-375.0304 4590.8964,-373.4888 4581.7408,-368.1572 4580.4143,-375.0304\"/>\n</g>\n<!-- 16&#45;&gt;&#45;25 -->\n<g id=\"edge60\" class=\"edge\">\n<title>16&#45;&gt;&#45;25</title>\n<path fill=\"none\" stroke=\"#000000\" d=\"M4481.9768,-346.0564C4511.6621,-341.1957 4571.1626,-331.4529 4606.5879,-325.6523\"/>\n<polygon fill=\"#000000\" stroke=\"#000000\" points=\"4607.4464,-329.0584 4616.7494,-323.9884 4606.3152,-322.1504 4607.4464,-329.0584\"/>\n</g>\n<!-- 17&#45;&gt;&#45;17 -->\n<g id=\"edge32\" class=\"edge\">\n<title>17&#45;&gt;&#45;17</title>\n<path fill=\"none\" stroke=\"#000000\" d=\"M3455.6559,-401.0268C3480.3537,-406.6596 3526.1305,-417.0999 3561.2623,-425.1125\"/>\n<polygon fill=\"#000000\" stroke=\"#000000\" points=\"3560.7966,-428.596 3571.3245,-427.4073 3562.3532,-421.7713 3560.7966,-428.596\"/>\n</g>\n<!-- 17&#45;&gt;&#45;16 -->\n<g id=\"edge2\" class=\"edge\">\n<title>17&#45;&gt;&#45;16</title>\n<path fill=\"none\" stroke=\"#000000\" d=\"M3456.2579,-396.217C3533.0031,-392.9258 3829.7682,-380.199 3922.8844,-376.2057\"/>\n<polygon fill=\"#000000\" stroke=\"#000000\" points=\"3923.12,-379.6989 3932.9608,-375.7736 3922.82,-372.7054 3923.12,-379.6989\"/>\n</g>\n<!-- 18&#45;&gt;&#45;19 -->\n<g id=\"edge28\" class=\"edge\">\n<title>18&#45;&gt;&#45;19</title>\n<path fill=\"none\" stroke=\"#000000\" d=\"M4140.3,-374.2509C4161.7576,-373.3725 4198.4698,-371.8697 4230.5195,-370.5577\"/>\n<polygon fill=\"#000000\" stroke=\"#000000\" points=\"4230.8877,-374.0456 4240.7361,-370.1395 4230.6013,-367.0515 4230.8877,-374.0456\"/>\n</g>\n<!-- 19&#45;&gt;&#45;18 -->\n<g id=\"edge76\" class=\"edge\">\n<title>19&#45;&gt;&#45;18</title>\n<path fill=\"none\" stroke=\"#000000\" d=\"M3798.3,-436C3825.511,-436 3877.254,-436 3912.9104,-436\"/>\n<polygon fill=\"#000000\" stroke=\"#000000\" points=\"3912.9603,-439.5001 3922.9603,-436 3912.9603,-432.5001 3912.9603,-439.5001\"/>\n</g>\n<!-- 20&#45;&gt;&#45;23 -->\n<g id=\"edge13\" class=\"edge\">\n<title>20&#45;&gt;&#45;23</title>\n<path fill=\"none\" stroke=\"#000000\" d=\"M3455.6559,-281.8528C3480.043,-288.5557 3524.9822,-300.9074 3559.9316,-310.5134\"/>\n<polygon fill=\"#000000\" stroke=\"#000000\" points=\"3559.39,-313.9942 3569.9601,-313.2697 3561.2453,-307.2446 3559.39,-313.9942\"/>\n</g>\n<!-- 20&#45;&gt;&#45;22 -->\n<g id=\"edge55\" class=\"edge\">\n<title>20&#45;&gt;&#45;22</title>\n<path fill=\"none\" stroke=\"#000000\" d=\"M3455.9768,-275.5282C3485.6621,-273.0978 3545.1626,-268.2265 3580.5879,-265.3261\"/>\n<polygon fill=\"#000000\" stroke=\"#000000\" points=\"3581.0684,-268.7986 3590.7494,-264.4942 3580.4971,-261.8219 3581.0684,-268.7986\"/>\n</g>\n<!-- 21&#45;&gt;&#45;21 -->\n<g id=\"edge16\" class=\"edge\">\n<title>21&#45;&gt;&#45;21</title>\n<path fill=\"none\" stroke=\"#000000\" d=\"M3798.3,-289C3828.1271,-289 3887.4299,-289 3922.7123,-289\"/>\n<polygon fill=\"#000000\" stroke=\"#000000\" points=\"3922.8316,-292.5001 3932.8316,-289 3922.8316,-285.5001 3922.8316,-292.5001\"/>\n</g>\n<!-- 22&#45;&gt;&#45;24 -->\n<g id=\"edge82\" class=\"edge\">\n<title>22&#45;&gt;&#45;24</title>\n<path fill=\"none\" stroke=\"#000000\" d=\"M3456.3,-202C3480.8176,-202 3525.2509,-202 3559.8887,-202\"/>\n<polygon fill=\"#000000\" stroke=\"#000000\" points=\"3560.291,-205.5001 3570.2909,-202 3560.2909,-198.5001 3560.291,-205.5001\"/>\n</g>\n<!-- 23&#45;&gt;&#45;21 -->\n<g id=\"edge44\" class=\"edge\">\n<title>23&#45;&gt;&#45;21</title>\n<path fill=\"none\" stroke=\"#000000\" d=\"M3796.7075,-222.2302C3826.2053,-234.9953 3887.7724,-261.6383 3923.5756,-277.1321\"/>\n<polygon fill=\"#000000\" stroke=\"#000000\" points=\"3922.375,-280.4262 3932.9426,-281.1857 3925.1552,-274.0019 3922.375,-280.4262\"/>\n</g>\n<!-- 24&#45;&gt;&#45;27 -->\n<g id=\"edge8\" class=\"edge\">\n<title>24&#45;&gt;&#45;27</title>\n<path fill=\"none\" stroke=\"#000000\" d=\"M4822.6789,-349.5881C4871.5619,-371.1108 5019.1596,-431 5148,-431 5148,-431 5148,-431 5661,-431 5777.3058,-431 5915.8515,-432.7563 5974.5138,-433.5813\"/>\n<polygon fill=\"#000000\" stroke=\"#000000\" points=\"5974.7843,-437.0854 5984.8332,-433.7285 5974.8842,-430.0861 5974.7843,-437.0854\"/>\n</g>\n<!-- 24&#45;&gt;&#45;28 -->\n<g id=\"edge49\" class=\"edge\">\n<title>24&#45;&gt;&#45;28</title>\n<path fill=\"none\" stroke=\"#000000\" d=\"M4823.9768,-339.4769C4853.6621,-335.3106 4913.1626,-326.9596 4948.5879,-321.9877\"/>\n<polygon fill=\"#000000\" stroke=\"#000000\" points=\"4949.3329,-325.4175 4958.7494,-320.5615 4948.36,-318.4854 4949.3329,-325.4175\"/>\n</g>\n<!-- 25&#45;&gt;&#45;30 -->\n<g id=\"edge78\" class=\"edge\">\n<title>25&#45;&gt;&#45;30</title>\n<path fill=\"none\" stroke=\"#000000\" d=\"M5679.3874,-373C5726.9235,-373 5855.7515,-373 5935.7882,-373\"/>\n<polygon fill=\"#000000\" stroke=\"#000000\" points=\"5936.2619,-376.5001 5946.2618,-373 5936.2618,-369.5001 5936.2619,-376.5001\"/>\n</g>\n<!-- 26&#45;&gt;&#45;29 -->\n<g id=\"edge15\" class=\"edge\">\n<title>26&#45;&gt;&#45;29</title>\n<path fill=\"none\" stroke=\"#000000\" d=\"M6191.0213,-367.9281C6220.4693,-357.4232 6281.1942,-335.7611 6316.9566,-323.0038\"/>\n<polygon fill=\"#000000\" stroke=\"#000000\" points=\"6318.5206,-326.162 6326.7633,-319.5055 6316.1687,-319.5689 6318.5206,-326.162\"/>\n</g>\n<!-- 27&#45;&gt;&#45;31 -->\n<g id=\"edge17\" class=\"edge\">\n<title>27&#45;&gt;&#45;31</title>\n<path fill=\"none\" stroke=\"#000000\" d=\"M5166.3,-318C5181.9752,-318 5205.7912,-318 5229.9832,-318\"/>\n<polygon fill=\"#000000\" stroke=\"#000000\" points=\"5229.9837,-321.5001 5239.9837,-318 5229.9836,-314.5001 5229.9837,-321.5001\"/>\n</g>\n<!-- 28&#45;&gt;&#45;29 -->\n<g id=\"edge46\" class=\"edge\">\n<title>28&#45;&gt;&#45;29</title>\n<path fill=\"none\" stroke=\"#000000\" d=\"M6192.3,-313C6222.1271,-313 6281.4299,-313 6316.7123,-313\"/>\n<polygon fill=\"#000000\" stroke=\"#000000\" points=\"6316.8316,-316.5001 6326.8316,-313 6316.8316,-309.5001 6316.8316,-316.5001\"/>\n</g>\n<!-- 29&#45;&gt;&#45;32 -->\n<g id=\"edge18\" class=\"edge\">\n<title>29&#45;&gt;&#45;32</title>\n<path fill=\"none\" stroke=\"#000000\" d=\"M5166.3,-257C5190.1148,-257 5232.7201,-257 5266.8868,-257\"/>\n<polygon fill=\"#000000\" stroke=\"#000000\" points=\"5267.1892,-260.5001 5277.1892,-257 5267.1892,-253.5001 5267.1892,-260.5001\"/>\n</g>\n<!-- 30&#45;&gt;&#45;29 -->\n<g id=\"edge3\" class=\"edge\">\n<title>30&#45;&gt;&#45;29</title>\n<path fill=\"none\" stroke=\"#000000\" d=\"M5850.0648,-257.4211C5902.8977,-258.8313 6061.6243,-264.3419 6192,-282 6235.9648,-287.9546 6286.2641,-298.9696 6316.8197,-306.1385\"/>\n<polygon fill=\"#000000\" stroke=\"#000000\" points=\"6316.2234,-309.5942 6326.7615,-308.4992 6317.8407,-302.7835 6316.2234,-309.5942\"/>\n</g>\n<!-- 31&#45;&gt;&#45;38 -->\n<g id=\"edge79\" class=\"edge\">\n<title>31&#45;&gt;&#45;38</title>\n<path fill=\"none\" stroke=\"#000000\" d=\"M5166.3874,-196.2688C5210.6942,-196.9166 5325.6231,-198.5968 5405.8418,-199.7696\"/>\n<polygon fill=\"#000000\" stroke=\"#000000\" points=\"5405.8858,-203.2705 5415.9359,-199.9172 5405.9882,-196.2713 5405.8858,-203.2705\"/>\n</g>\n<!-- 31&#45;&gt;&#45;33 -->\n<g id=\"edge66\" class=\"edge\">\n<title>31&#45;&gt;&#45;33</title>\n<path fill=\"none\" stroke=\"#000000\" d=\"M5164.0873,-187.9093C5193.3944,-173.1701 5255.7756,-141.7971 5291.7979,-123.6806\"/>\n<polygon fill=\"#000000\" stroke=\"#000000\" points=\"5293.4198,-126.7827 5300.781,-119.1628 5290.2746,-120.529 5293.4198,-126.7827\"/>\n</g>\n<!-- 32&#45;&gt;&#45;29 -->\n<g id=\"edge80\" class=\"edge\">\n<title>32&#45;&gt;&#45;29</title>\n<path fill=\"none\" stroke=\"#000000\" d=\"M6189.1751,-210.9393C6218.1859,-229.9405 6281.8551,-271.642 6318.1912,-295.441\"/>\n<polygon fill=\"#000000\" stroke=\"#000000\" points=\"6316.5194,-298.5299 6326.8025,-301.0812 6320.3548,-292.6742 6316.5194,-298.5299\"/>\n</g>\n<!-- 33&#45;&gt;&#45;35 -->\n<g id=\"edge53\" class=\"edge\">\n<title>33&#45;&gt;&#45;35</title>\n<path fill=\"none\" stroke=\"#000000\" d=\"M5508.3,-140C5531.1779,-140 5571.3966,-140 5604.8165,-140\"/>\n<polygon fill=\"#000000\" stroke=\"#000000\" points=\"5604.9432,-143.5001 5614.9432,-140 5604.9431,-136.5001 5604.9432,-143.5001\"/>\n</g>\n<!-- 34&#45;&gt;&#45;34 -->\n<g id=\"edge91\" class=\"edge\">\n<title>34&#45;&gt;&#45;34</title>\n<path fill=\"none\" stroke=\"#000000\" d=\"M5849.9768,-136.8462C5879.6621,-131.6382 5939.1626,-121.1996 5974.5879,-114.9846\"/>\n<polygon fill=\"#000000\" stroke=\"#000000\" points=\"5975.5046,-118.3773 5984.7494,-113.2019 5974.295,-111.4826 5975.5046,-118.3773\"/>\n</g>\n<!-- 35&#45;&gt;&#45;36 -->\n<g id=\"edge31\" class=\"edge\">\n<title>35&#45;&gt;&#45;36</title>\n<path fill=\"none\" stroke=\"#000000\" d=\"M5508.3,-79C5532.1148,-79 5574.7201,-79 5608.8868,-79\"/>\n<polygon fill=\"#000000\" stroke=\"#000000\" points=\"5609.1892,-82.5001 5619.1892,-79 5609.1892,-75.5001 5609.1892,-82.5001\"/>\n</g>\n<!-- 36&#45;&gt;&#45;34 -->\n<g id=\"edge37\" class=\"edge\">\n<title>36&#45;&gt;&#45;34</title>\n<path fill=\"none\" stroke=\"#000000\" d=\"M5849.9768,-82.259C5879.6621,-87.6405 5939.1626,-98.4271 5974.5879,-104.8493\"/>\n<polygon fill=\"#000000\" stroke=\"#000000\" points=\"5974.2854,-108.3514 5984.7494,-106.6914 5975.5341,-101.4637 5974.2854,-108.3514\"/>\n</g>\n<!-- 37&#45;&gt;&#45;37 -->\n<g id=\"edge69\" class=\"edge\">\n<title>37&#45;&gt;&#45;37</title>\n<path fill=\"none\" stroke=\"#000000\" d=\"M5508.3,-18C5532.1148,-18 5574.7201,-18 5608.8868,-18\"/>\n<polygon fill=\"#000000\" stroke=\"#000000\" points=\"5609.1892,-21.5001 5619.1892,-18 5609.1892,-14.5001 5609.1892,-21.5001\"/>\n</g>\n<!-- 38&#45;&gt;&#45;34 -->\n<g id=\"edge98\" class=\"edge\">\n<title>38&#45;&gt;&#45;34</title>\n<path fill=\"none\" stroke=\"#000000\" d=\"M5848.0873,-26.6551C5877.3944,-42.4227 5939.7756,-75.9845 5975.7979,-95.3649\"/>\n<polygon fill=\"#000000\" stroke=\"#000000\" points=\"5974.3164,-98.5422 5984.781,-100.198 5977.6329,-92.3778 5974.3164,-98.5422\"/>\n</g>\n</g>\n</svg>\n"
          },
          "metadata": {
            "tags": []
          },
          "execution_count": 4
        }
      ]
    },
    {
      "cell_type": "markdown",
      "metadata": {
        "id": "IQ3HT9SxDhyS",
        "colab_type": "text"
      },
      "source": [
        "Set up some helper dictionaries to relate transition IDs (from the Petri net) and activity labels to each other. Observe that an activity label is only assigned to a single transition. However, multiple transitions may carry a _tau_ label, representing a silent transition.\n",
        "\n"
      ]
    },
    {
      "cell_type": "code",
      "metadata": {
        "id": "Qh3g0yFYDhyW",
        "colab_type": "code",
        "outputId": "5d56a6b2-cee2-4391-fe2d-12a554b6b8ae",
        "colab": {
          "base_uri": "https://localhost:8080/",
          "height": 1560
        }
      },
      "source": [
        "# helper mappings between ids and labels\n",
        "mapping = net.get_mapping()\n",
        "rev_mapping = {}\n",
        "for k, v in net.get_mapping().items():\n",
        "    for k2 in v:\n",
        "        rev_mapping[k2] = k\n",
        "\n",
        "from pprint import pprint\n",
        "# mapping from labels to LISTS of transitions ids\n",
        "pprint(mapping)\n",
        "\n",
        "# mapping from transitions id to label\n",
        "pprint(rev_mapping)\n"
      ],
      "execution_count": 0,
      "outputs": [
        {
          "output_type": "stream",
          "text": [
            "{'A_ACTIVATED': [-37],\n",
            " 'A_APPROVED': [-36],\n",
            " 'A_CANCELLED': [-13],\n",
            " 'A_DECLINED': [-24],\n",
            " 'A_FINALIZED': [-12],\n",
            " 'A_PARTLYSUBMITTED': [-2],\n",
            " 'A_PREACCEPTED': [-3],\n",
            " 'A_REGISTERED': [-35],\n",
            " 'A_SUBMITTED': [-1],\n",
            " 'O_ACCEPTED': [-32],\n",
            " 'O_CANCELLED': [-15],\n",
            " 'O_CREATED': [-17],\n",
            " 'O_DECLINED': [-23],\n",
            " 'O_SELECTED': [-11],\n",
            " 'O_SENT': [-18],\n",
            " 'O_SENT_BACK': [-26],\n",
            " 'W_Afhandelen leads': [-6],\n",
            " 'W_Beoordelen fraude': [-5],\n",
            " 'W_Completeren aanvraag': [-7],\n",
            " 'W_Nabellen incomplete dossiers': [-31],\n",
            " 'W_Nabellen offertes': [-19],\n",
            " 'W_Valideren aanvraag': [-30],\n",
            " 'W_Wijzigen contractgegevens': [-38],\n",
            " 'tau': [-4,\n",
            "         -8,\n",
            "         -9,\n",
            "         -10,\n",
            "         -14,\n",
            "         -16,\n",
            "         -20,\n",
            "         -21,\n",
            "         -22,\n",
            "         -25,\n",
            "         -27,\n",
            "         -28,\n",
            "         -29,\n",
            "         -33,\n",
            "         -34,\n",
            "         -39,\n",
            "         -40,\n",
            "         -41,\n",
            "         -42]}\n",
            "{-42: 'tau',\n",
            " -41: 'tau',\n",
            " -40: 'tau',\n",
            " -39: 'tau',\n",
            " -38: 'W_Wijzigen contractgegevens',\n",
            " -37: 'A_ACTIVATED',\n",
            " -36: 'A_APPROVED',\n",
            " -35: 'A_REGISTERED',\n",
            " -34: 'tau',\n",
            " -33: 'tau',\n",
            " -32: 'O_ACCEPTED',\n",
            " -31: 'W_Nabellen incomplete dossiers',\n",
            " -30: 'W_Valideren aanvraag',\n",
            " -29: 'tau',\n",
            " -28: 'tau',\n",
            " -27: 'tau',\n",
            " -26: 'O_SENT_BACK',\n",
            " -25: 'tau',\n",
            " -24: 'A_DECLINED',\n",
            " -23: 'O_DECLINED',\n",
            " -22: 'tau',\n",
            " -21: 'tau',\n",
            " -20: 'tau',\n",
            " -19: 'W_Nabellen offertes',\n",
            " -18: 'O_SENT',\n",
            " -17: 'O_CREATED',\n",
            " -16: 'tau',\n",
            " -15: 'O_CANCELLED',\n",
            " -14: 'tau',\n",
            " -13: 'A_CANCELLED',\n",
            " -12: 'A_FINALIZED',\n",
            " -11: 'O_SELECTED',\n",
            " -10: 'tau',\n",
            " -9: 'tau',\n",
            " -8: 'tau',\n",
            " -7: 'W_Completeren aanvraag',\n",
            " -6: 'W_Afhandelen leads',\n",
            " -5: 'W_Beoordelen fraude',\n",
            " -4: 'tau',\n",
            " -3: 'A_PREACCEPTED',\n",
            " -2: 'A_PARTLYSUBMITTED',\n",
            " -1: 'A_SUBMITTED'}\n"
          ],
          "name": "stdout"
        }
      ]
    },
    {
      "cell_type": "markdown",
      "metadata": {
        "id": "OMRGzd_-Dhyn",
        "colab_type": "text"
      },
      "source": [
        "Next, we illustrate how, given an initial marking, the currently enabled transitions may be identified, how the marking is changed by firing a transition, and how the marking may be adapted to enable a transition. "
      ]
    },
    {
      "cell_type": "code",
      "metadata": {
        "id": "myJEDGtHDhyt",
        "colab_type": "code",
        "outputId": "2e604369-2f2f-4b58-d2dc-0c07ca6a90c5",
        "colab": {
          "base_uri": "https://localhost:8080/",
          "height": 146
        }
      },
      "source": [
        "print(\"Initial marking: \", net.get_marking())\n",
        "\n",
        "enabled = net.all_enabled_transitions()\n",
        "print(\"Enabled transitions in initial marking: \", \n",
        "      list(map((lambda k: rev_mapping[k]), enabled)))\n",
        "\n",
        "# Fire enabled transition (take the first, but there is only one)\n",
        "net.fire_transition(enabled[0])\n",
        "enabled = net.all_enabled_transitions()\n",
        "print(\"Enabled transitions after firing first transition: \", \n",
        "      list(map((lambda k: rev_mapping[k]), enabled)))\n",
        "\n",
        "# Check whether the transition with label 'O_CREATED' is enabled \n",
        "# (there is only one transition carrying this label)\n",
        "print(\"Is transition 'O_CREATED' enabled?\", \n",
        "      net.is_enabled(net.get_mapping()['O_CREATED'][0]))\n",
        "\n",
        "# Enable the transition by changing the marking and adding tokens to the input \n",
        "# places of the transition with label 'O_CREATED' \n",
        "input_places = net.get_input_places(net.get_mapping()['O_CREATED'][0])\n",
        "\n",
        "for p in input_places:\n",
        "    net.add_marking(p,1)\n",
        "\n",
        "# Again, check whether the transition with label 'O_CREATED' is enabled \n",
        "print(\"Is transition 'O_CREATED' enabled after tokens have been added to the places in its preset?\", \n",
        "      net.is_enabled(net.get_mapping()['O_CREATED'][0]))\n",
        "\n",
        "# Check whether further transitions have been enabled by adding the token to \n",
        "# the places in the preset of the transition with label 'O_CREATED'\n",
        "enabled = net.all_enabled_transitions()\n",
        "print(\"Enabled transitions after adapting the marking: \", \n",
        "      list(map((lambda k: rev_mapping[k]), enabled)))\n",
        "\n",
        "print(\"Current marking: \", net.get_marking())\n",
        "\n",
        "\n"
      ],
      "execution_count": 0,
      "outputs": [
        {
          "output_type": "stream",
          "text": [
            "Initial marking:  [1, 0, 0, 0, 0, 0, 0, 0, 0, 0, 0, 0, 0, 0, 0, 0, 0, 0, 0, 0, 0, 0, 0, 0, 0, 0, 0, 0, 0, 0, 0, 0, 0, 0, 0, 0, 0, 0]\n",
            "Enabled transitions in initial marking:  ['A_SUBMITTED']\n",
            "Enabled transitions after firing first transition:  ['A_PARTLYSUBMITTED']\n",
            "Is transition 'O_CREATED' enabled? False\n",
            "Is transition 'O_CREATED' enabled after tokens have been added to the places in its preset? True\n",
            "Enabled transitions after adapting the marking:  ['A_PARTLYSUBMITTED', 'tau', 'O_CREATED']\n",
            "Current marking:  [0, 0, 1, 0, 0, 0, 0, 0, 0, 0, 0, 0, 0, 0, 0, 0, 1, 0, 0, 0, 0, 0, 0, 0, 0, 0, 0, 0, 0, 0, 0, 0, 0, 0, 0, 0, 0, 0]\n"
          ],
          "name": "stdout"
        }
      ]
    },
    {
      "cell_type": "markdown",
      "metadata": {
        "id": "L-qGA0saGcAB",
        "colab_type": "text"
      },
      "source": [
        "## Rule Checking\n",
        "\n",
        "First, we assess the conformance of the given event log and process model using rules that are derived from the model. Specifically, we consider a cardinality rule that checks a lower and an upper bound for the number of executions of an activity for a particular trace, as well as an ordering rule that checks whether executions of one activity happen only after executions of another activity.\n",
        "\n",
        "**Task:** Complete the following functions to check the respective rules in a rather generic manner. "
      ]
    },
    {
      "cell_type": "code",
      "metadata": {
        "id": "rySg4oQQIMMA",
        "colab_type": "code",
        "colab": {}
      },
      "source": [
        "def check_lower_bound(trace: [], act: str, bound: int) -> bool:\n",
        "    count = trace.count(act)\n",
        "    return count >= bound\n",
        "\n",
        "def check_upper_bound(trace: [], act: str, bound: int) -> bool:\n",
        "    count = trace.count(act)\n",
        "    return count <= bound\n",
        "\n",
        "def check_order_after(trace: [], act_1: str, act_2: str) -> bool:\n",
        "    if act_1 not in trace or act_2 not in trace:\n",
        "      return True\n",
        "    idx_1 = [i for i, x in enumerate(trace) if x == act_1]\n",
        "    idx_2 = [i for i, x in enumerate(trace) if x == act_2]\n",
        "    return idx_1[0] >= idx_2[-1]\n",
        "\n"
      ],
      "execution_count": 0,
      "outputs": []
    },
    {
      "cell_type": "markdown",
      "metadata": {
        "id": "TfoHBqWVKD9G",
        "colab_type": "text"
      },
      "source": [
        "Check whether the five most frequent trace variants actually satisfy the following rules:\n",
        "\n",
        "\n",
        "*   The application is completed at least once (activity \"W_Completeren aanvraag\").\n",
        "*   The application is submitted at most once (activity \"A_SUBMITTED\").\n",
        "*   The income lead (\"W_Afhandelen leads\") is fixed only after the preacceptance (\"A_PREACCEPTED\"), but never before. \n",
        "\n"
      ]
    },
    {
      "cell_type": "code",
      "metadata": {
        "id": "kZPs7BQNLmN2",
        "colab_type": "code",
        "outputId": "12d681bd-7e3c-422d-d864-5ea7c5d884b4",
        "colab": {
          "base_uri": "https://localhost:8080/",
          "height": 404
        }
      },
      "source": [
        "for k in range(5):\n",
        "    trace_k = list(trace_variants_sorted_by_freq[k][0])\n",
        "    print(\"Checking trace: %s\" % trace_k)\n",
        "    print(\"Application completed at least once? \", check_lower_bound(trace_k, 'W_Completeren aanvraag', 1))\n",
        "    print(\"Application submitted at most once? \", check_upper_bound(trace_k, 'A_SUBMITTED', 1))\n",
        "    print(\"Fixing income lead only after preaceptance? \", check_order_after(trace_k, 'W_Afhandelen leads', 'A_PREACCEPTED'))"
      ],
      "execution_count": 0,
      "outputs": [
        {
          "output_type": "stream",
          "text": [
            "Checking trace: ['A_SUBMITTED', 'A_PARTLYSUBMITTED', 'A_DECLINED']\n",
            "Application completed at least once?  False\n",
            "Application submitted at most once?  True\n",
            "Fixing income lead only after preaceptance?  True\n",
            "Checking trace: ['A_SUBMITTED', 'A_PARTLYSUBMITTED', 'W_Afhandelen leads', 'W_Afhandelen leads', 'A_DECLINED', 'W_Afhandelen leads']\n",
            "Application completed at least once?  False\n",
            "Application submitted at most once?  True\n",
            "Fixing income lead only after preaceptance?  True\n",
            "Checking trace: ['A_SUBMITTED', 'A_PARTLYSUBMITTED', 'W_Afhandelen leads', 'W_Afhandelen leads', 'W_Afhandelen leads', 'W_Afhandelen leads', 'A_DECLINED', 'W_Afhandelen leads']\n",
            "Application completed at least once?  False\n",
            "Application submitted at most once?  True\n",
            "Fixing income lead only after preaceptance?  True\n",
            "Checking trace: ['A_SUBMITTED', 'A_PARTLYSUBMITTED', 'W_Afhandelen leads', 'W_Afhandelen leads', 'A_PREACCEPTED', 'W_Completeren aanvraag', 'W_Afhandelen leads', 'W_Completeren aanvraag', 'A_DECLINED', 'W_Completeren aanvraag']\n",
            "Application completed at least once?  True\n",
            "Application submitted at most once?  True\n",
            "Fixing income lead only after preaceptance?  False\n",
            "Checking trace: ['A_SUBMITTED', 'A_PARTLYSUBMITTED', 'A_PREACCEPTED', 'W_Completeren aanvraag', 'W_Completeren aanvraag', 'A_DECLINED', 'W_Completeren aanvraag']\n",
            "Application completed at least once?  True\n",
            "Application submitted at most once?  True\n",
            "Fixing income lead only after preaceptance?  True\n"
          ],
          "name": "stdout"
        }
      ]
    },
    {
      "cell_type": "markdown",
      "metadata": {
        "id": "szkoNygqDhy7",
        "colab_type": "text"
      },
      "source": [
        "## Replay-based Conformance\n",
        "\n",
        "Next, consider replay-based conformance checking. \n",
        "\n",
        "**Task:** The following function shall take a Petri net and a trace and replay it. It shall return the numbers of produced, consumed, missing, and remaining tokens. "
      ]
    },
    {
      "cell_type": "code",
      "metadata": {
        "id": "sDUEupg-Dhy-",
        "colab_type": "code",
        "colab": {}
      },
      "source": [
        "\n",
        "def replay_trace(net: PetriNet, trace: []) -> (int, int, int, int):\n",
        "    produced = 1\n",
        "    consumed = 1\n",
        "    missing = 0\n",
        "\n",
        "    # replay trace, event by event\n",
        "    for event in trace:\n",
        "        # identify transition, assumption here is that there is only one transition for the label\n",
        "        transition = net.get_mapping()[event][0]\n",
        "        # check if the transition is enabled\n",
        "        if not net.is_enabled(transition):\n",
        "            # not enabled, so add a token to all input places that are not marked\n",
        "            for p in net.get_input_places(transition):\n",
        "                if net.marking[net.index_of_place(p)] == 0:\n",
        "                    # record the token as missing\n",
        "                    missing += 1\n",
        "                    net.add_marking(p, 1)\n",
        "\n",
        "        # record the numbers produced and consumed tokens when firing the transition\n",
        "        produced += len(net.get_input_places(transition))\n",
        "        consumed += len(net.get_output_places(transition))\n",
        "        net.fire_transition(transition)\n",
        "\n",
        "    # we expect one token left, everything else counts as remaining\n",
        "    remaining = sum(net.get_marking()) - 1\n",
        "    return produced, consumed, missing, remaining\n",
        "\n",
        "\n",
        "def fitness(net: PetriNet, log_freq: dict) -> float:\n",
        "    sum_prod = 0\n",
        "    sum_cons = 0\n",
        "    sum_miss = 0\n",
        "    sum_rema = 0\n",
        "\n",
        "    for trace_var, freq in log_freq.items():\n",
        "        # keep copy of marking\n",
        "        marking = list(net.get_marking())\n",
        "        # replay trace\n",
        "        replay_values = replay_trace(net, trace_var)\n",
        "        sum_prod += log_freq[trace_var] * replay_values[0]\n",
        "        sum_cons += log_freq[trace_var] * replay_values[1]\n",
        "        sum_miss += log_freq[trace_var] * replay_values[2]\n",
        "        sum_rema += log_freq[trace_var] * replay_values[3]\n",
        "        # restore marking\n",
        "        for k,v in net.places.items():\n",
        "            net.add_marking(v, marking[k])\n",
        "\n",
        "    return 0.5 * (1 - sum_miss / sum_cons) + 0.5 * (1 - sum_rema / sum_prod)"
      ],
      "execution_count": 0,
      "outputs": []
    },
    {
      "cell_type": "markdown",
      "metadata": {
        "id": "vNe3rwXxDhzI",
        "colab_type": "text"
      },
      "source": [
        "Measure fitness of the most frequent trace variant: "
      ]
    },
    {
      "cell_type": "code",
      "metadata": {
        "id": "saN_S2ZnDhzK",
        "colab_type": "code",
        "outputId": "8c41d408-9099-43e2-f399-f3fd191f0102",
        "colab": {
          "base_uri": "https://localhost:8080/",
          "height": 35
        }
      },
      "source": [
        "log_1 = {t[0]:t[1] for t in trace_variants_sorted_by_freq[0:1]}\n",
        "fitness_value = fitness(net, log_1)\n",
        "print(\"Fitness value of most frequent trace variant:\", fitness_value)"
      ],
      "execution_count": 0,
      "outputs": [
        {
          "output_type": "stream",
          "text": [
            "Fitness value of most frequent trace variant: 0.375\n"
          ],
          "name": "stdout"
        }
      ]
    },
    {
      "cell_type": "markdown",
      "metadata": {
        "id": "EvEh62rADhzX",
        "colab_type": "text"
      },
      "source": [
        "Now, see how the fitness value changes when considering the _k_-most frequent trace variants."
      ]
    },
    {
      "cell_type": "code",
      "metadata": {
        "id": "ntNc8c4HDhza",
        "colab_type": "code",
        "outputId": "b02e3b2a-9a03-4cb7-ba29-2dd3737b6854",
        "colab": {
          "base_uri": "https://localhost:8080/",
          "height": 1119
        }
      },
      "source": [
        "fitness_value = 0\n",
        "for k in range(30):\n",
        "    log_k = {t[0]:t[1] for t in trace_variants_sorted_by_freq[k:k+1]}\n",
        "    log_x = {t[0]:t[1] for t in trace_variants_sorted_by_freq[0:k+1]}\n",
        "    fitness_value_k = fitness(net, log_k)\n",
        "    fitness_value = fitness(net, log_x)\n",
        "    print(\"Fitness value of the single %s-most frequent trace variant: %f\" % (k+1, fitness_value))\n",
        "    print(\"Fitness value of %s-most frequent trace variants: %f\" % (k+1, fitness_value))"
      ],
      "execution_count": 0,
      "outputs": [
        {
          "output_type": "stream",
          "text": [
            "Fitness value of the single 1-most frequent trace variant: 0.375000\n",
            "Fitness value of 1-most frequent trace variants: 0.375000\n",
            "Fitness value of the single 2-most frequent trace variant: 0.296477\n",
            "Fitness value of 2-most frequent trace variants: 0.296477\n",
            "Fitness value of the single 3-most frequent trace variant: 0.285656\n",
            "Fitness value of 3-most frequent trace variants: 0.285656\n",
            "Fitness value of the single 4-most frequent trace variant: 0.301271\n",
            "Fitness value of 4-most frequent trace variants: 0.301271\n",
            "Fitness value of the single 5-most frequent trace variant: 0.301708\n",
            "Fitness value of 5-most frequent trace variants: 0.301708\n",
            "Fitness value of the single 6-most frequent trace variant: 0.306001\n",
            "Fitness value of 6-most frequent trace variants: 0.306001\n",
            "Fitness value of the single 7-most frequent trace variant: 0.311396\n",
            "Fitness value of 7-most frequent trace variants: 0.311396\n",
            "Fitness value of the single 8-most frequent trace variant: 0.309831\n",
            "Fitness value of 8-most frequent trace variants: 0.309831\n",
            "Fitness value of the single 9-most frequent trace variant: 0.310766\n",
            "Fitness value of 9-most frequent trace variants: 0.310766\n",
            "Fitness value of the single 10-most frequent trace variant: 0.312380\n",
            "Fitness value of 10-most frequent trace variants: 0.312380\n",
            "Fitness value of the single 11-most frequent trace variant: 0.311980\n",
            "Fitness value of 11-most frequent trace variants: 0.311980\n",
            "Fitness value of the single 12-most frequent trace variant: 0.309169\n",
            "Fitness value of 12-most frequent trace variants: 0.309169\n",
            "Fitness value of the single 13-most frequent trace variant: 0.313382\n",
            "Fitness value of 13-most frequent trace variants: 0.313382\n",
            "Fitness value of the single 14-most frequent trace variant: 0.313607\n",
            "Fitness value of 14-most frequent trace variants: 0.313607\n",
            "Fitness value of the single 15-most frequent trace variant: 0.312281\n",
            "Fitness value of 15-most frequent trace variants: 0.312281\n",
            "Fitness value of the single 16-most frequent trace variant: 0.311480\n",
            "Fitness value of 16-most frequent trace variants: 0.311480\n",
            "Fitness value of the single 17-most frequent trace variant: 0.310049\n",
            "Fitness value of 17-most frequent trace variants: 0.310049\n",
            "Fitness value of the single 18-most frequent trace variant: 0.309093\n",
            "Fitness value of 18-most frequent trace variants: 0.309093\n",
            "Fitness value of the single 19-most frequent trace variant: 0.310146\n",
            "Fitness value of 19-most frequent trace variants: 0.310146\n",
            "Fitness value of the single 20-most frequent trace variant: 0.311829\n",
            "Fitness value of 20-most frequent trace variants: 0.311829\n",
            "Fitness value of the single 21-most frequent trace variant: 0.311543\n",
            "Fitness value of 21-most frequent trace variants: 0.311543\n",
            "Fitness value of the single 22-most frequent trace variant: 0.310897\n",
            "Fitness value of 22-most frequent trace variants: 0.310897\n",
            "Fitness value of the single 23-most frequent trace variant: 0.306933\n",
            "Fitness value of 23-most frequent trace variants: 0.306933\n",
            "Fitness value of the single 24-most frequent trace variant: 0.305758\n",
            "Fitness value of 24-most frequent trace variants: 0.305758\n",
            "Fitness value of the single 25-most frequent trace variant: 0.302918\n",
            "Fitness value of 25-most frequent trace variants: 0.302918\n",
            "Fitness value of the single 26-most frequent trace variant: 0.302212\n",
            "Fitness value of 26-most frequent trace variants: 0.302212\n",
            "Fitness value of the single 27-most frequent trace variant: 0.303073\n",
            "Fitness value of 27-most frequent trace variants: 0.303073\n",
            "Fitness value of the single 28-most frequent trace variant: 0.301238\n",
            "Fitness value of 28-most frequent trace variants: 0.301238\n",
            "Fitness value of the single 29-most frequent trace variant: 0.299673\n",
            "Fitness value of 29-most frequent trace variants: 0.299673\n",
            "Fitness value of the single 30-most frequent trace variant: 0.300833\n",
            "Fitness value of 30-most frequent trace variants: 0.300833\n"
          ],
          "name": "stdout"
        }
      ]
    },
    {
      "cell_type": "markdown",
      "metadata": {
        "id": "dVHB-fXrGqzI",
        "colab_type": "text"
      },
      "source": [
        "##-- End"
      ]
    }
  ]
}
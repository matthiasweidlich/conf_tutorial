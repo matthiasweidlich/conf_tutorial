{
 "cells": [
  {
   "cell_type": "markdown",
   "metadata": {},
   "source": [
    "<a href=\"https://colab.research.google.com/github/matthiasweidlich/conf_tutorial/blob/master/01_Log_Exploration_Solution.ipynb\" target=\"_parent\"><img src=\"https://colab.research.google.com/assets/colab-badge.svg\" alt=\"Open In Colab\"/></a>"
   ]
  },
  {
   "cell_type": "markdown",
   "metadata": {
    "id": "Gq10WSkQmsLI"
   },
   "source": [
    "# Hands-On Exercise 1: Event Log Exploration\n",
    "\n",
    "In this exercise, you will get first insights into the structure of a real-life event log. We are going to use a log which was part of the Business Process Intelligence Challenge 2012 (BPI Challenge 2012). \n",
    "\n",
    "**A few details about the scenario of the event log**\n",
    "\n",
    "The log originates from a Dutch Financial Institute. It contains some 262.200 events in 13.087 cases. Apart from some anonymization, the log contains all data as it came from the financial institute. The process represented in the event log is an application process for a personal loan or overdraft within a global financing organization. The amount requested by the customer is indicated in the case attribute AMOUNT_REQ, which is global, i.e. every case contains this attribute. The event log is a merger of three intertwined sub processes. The first letter of each task name identifies from which sub process (source) it originated from.\n",
    "\n",
    "In the process, an application is submitted through a webpage. Then, some automatic checks are performed, after which the application is complemented with additional information. This information is obtained trough contacting the customer by phone. If an applicant is eligible, an offer is sent to the client by mail. After this offer is received back, it is assessed. When it is incomplete, missing information is added by again contacting the customer. Then a final assessment is done, after which the application is approved and activated.\n",
    "\n",
    "**Event type explanation**\n",
    "\n",
    "| Event Type | Meaning |\n",
    "| --- | --- | \n",
    "| States starting with ‘A_’ | States of the application |\n",
    "| States starting with ‘O_’ |\tStates of the offer belonging to the application |\n",
    "| States starting with ‘W_’ |\tStates of the work item belonging to the application |\n",
    "COMPLETE |\tThe task (of type ‘A_’ or ‘O_’) is completed |\n",
    "SCHEDULE |\tThe work item (of type ‘W_’) is created in the queue (automatic step following manual actions)|\n",
    "START \t| The work item (of type ‘W_’) is obtained by the resource|\n",
    "COMPLETE |\tThe work item (of type ‘W_’) is released by the resource and put back in the queue or transferred to another queue (SCHEDULE)|\n",
    "\n",
    "**Event translation**\n",
    "\n",
    "| Dutch state name | \tEnglish translation |\n",
    "| --- | --- | \n",
    "|W_Afhandelen leads |\tW_Fixing incoming lead|\n",
    "|W_Completeren aanvraag  |\tW_Filling in information for the application|\n",
    "|W_Valideren aanvraag |\tW_Assessing the application|\n",
    "|W_Nabellen offertes \t| W_Calling after sent offers|\n",
    "|W_Nabellen incomplete dossiers |\tW_Calling to add missing information to the application|\n",
    "\n",
    "\n",
    "\n",
    "You should be able to clone the repository containing the notebooks and the example data with the code in the next cell. If this does not work, however, you can also download the event log (XES format, please unzip) [here](http://www.win.tue.nl/bpi/doku.php?id=2012:challenge) and then either copy it to your google drive, mount it, and read it from there, or directly upload it using your browser."
   ]
  },
  {
   "cell_type": "code",
   "execution_count": 1,
   "metadata": {
    "colab": {
     "base_uri": "https://localhost:8080/"
    },
    "executionInfo": {
     "elapsed": 4491,
     "status": "ok",
     "timestamp": 1605084920062,
     "user": {
      "displayName": "Glenn Dittmann",
      "photoUrl": "",
      "userId": "09282768545803181559"
     },
     "user_tz": -60
    },
    "id": "u8VFb3HAmsLJ",
    "outputId": "cfca6b0f-ce58-4d31-9c97-e2e40eab7452"
   },
   "outputs": [
    {
     "name": "stdout",
     "output_type": "stream",
     "text": [
      "Collecting pmlab_lite\n",
      "\u001b[?25l  Downloading https://files.pythonhosted.org/packages/d7/3e/5d7d2a1c57db805d7b5f8e50baa56d88f1db4b93d1806b08061921ff5a79/pmlab_lite-0.4.4.0-py3-none-any.whl (47kB)\n",
      "\r",
      "\u001b[K     |███████                         | 10kB 23.3MB/s eta 0:00:01\r",
      "\u001b[K     |█████████████▉                  | 20kB 2.8MB/s eta 0:00:01\r",
      "\u001b[K     |████████████████████▉           | 30kB 3.5MB/s eta 0:00:01\r",
      "\u001b[K     |███████████████████████████▊    | 40kB 3.9MB/s eta 0:00:01\r",
      "\u001b[K     |████████████████████████████████| 51kB 2.5MB/s \n",
      "\u001b[?25hRequirement already satisfied: graphviz in /usr/local/lib/python3.6/dist-packages (from pmlab_lite) (0.10.1)\n",
      "Requirement already satisfied: tqdm in /usr/local/lib/python3.6/dist-packages (from pmlab_lite) (4.41.1)\n",
      "Requirement already satisfied: lxml in /usr/local/lib/python3.6/dist-packages (from pmlab_lite) (4.2.6)\n",
      "Requirement already satisfied: numpy in /usr/local/lib/python3.6/dist-packages (from pmlab_lite) (1.18.5)\n",
      "Installing collected packages: pmlab-lite\n",
      "Successfully installed pmlab-lite-0.4.4.0\n"
     ]
    }
   ],
   "source": [
    "# basic configuration\n",
    "%config InlineBackend.figure_format = 'svg'\n",
    "%matplotlib inline\n",
    "\n",
    "# import data from google drive\n",
    "#from google.colab import drive\n",
    "#drive.mount('/content/drive')\n",
    "\n",
    "# direct data upload\n",
    "#from google.colab import files\n",
    "#files.upload()\n",
    "\n",
    "# clone the repository that contains the notebooks and also the data file\n",
    "! git clone https://github.com/matthiasweidlich/conf_tutorial.git\n",
    "! pip install pmlab_lite"
   ]
  },
  {
   "cell_type": "markdown",
   "metadata": {
    "id": "YUOlqmwqmsLR"
   },
   "source": [
    "## Import Event Log\n"
   ]
  },
  {
   "cell_type": "code",
   "execution_count": 1,
   "metadata": {
    "colab": {
     "base_uri": "https://localhost:8080/"
    },
    "executionInfo": {
     "elapsed": 78432,
     "status": "ok",
     "timestamp": 1605085002478,
     "user": {
      "displayName": "Glenn Dittmann",
      "photoUrl": "",
      "userId": "09282768545803181559"
     },
     "user_tz": -60
    },
    "id": "l_MgxPNVPylO",
    "outputId": "04881ab3-1120-44db-bbff-b8ae5fbdc13d"
   },
   "outputs": [
    {
     "name": "stderr",
     "output_type": "stream",
     "text": [
      "100%|██████████| 13087/13087 [01:09<00:00, 188.91it/s]\n"
     ]
    }
   ],
   "source": [
    "from pmlab_lite.helper.io import xes\n",
    "\n",
    "log_file = '/content/conf_tutorial/financial_log.xes' # if not in colab or import from different folder: insert path here\n",
    "log = xes.import_xes(log_file)"
   ]
  },
  {
   "cell_type": "markdown",
   "metadata": {
    "id": "FYM88B70msLf"
   },
   "source": [
    "Now import the given log and inspect the first three traces."
   ]
  },
  {
   "cell_type": "code",
   "execution_count": 2,
   "metadata": {
    "colab": {
     "base_uri": "https://localhost:8080/"
    },
    "executionInfo": {
     "elapsed": 728,
     "status": "ok",
     "timestamp": 1605085006023,
     "user": {
      "displayName": "Glenn Dittmann",
      "photoUrl": "",
      "userId": "09282768545803181559"
     },
     "user_tz": -60
    },
    "id": "ZtC-gDW4h3xF",
    "outputId": "299ff0e4-4ff2-4e78-df4d-1801691995cf"
   },
   "outputs": [
    {
     "name": "stdout",
     "output_type": "stream",
     "text": [
      "Load log with 13087 traces.\n",
      "TRACE_ID: 173688 (trace number 0 )\n",
      "  activity name               time                           transition     \n",
      "> A_SUBMITTED                 10/01/2011 00:38:44.546000     COMPLETE       \n",
      "> A_PARTLYSUBMITTED           10/01/2011 00:38:44.880000     COMPLETE       \n",
      "> A_PREACCEPTED               10/01/2011 00:39:37.906000     COMPLETE       \n",
      "> W_Completeren aanvraag      10/01/2011 00:39:38.875000     SCHEDULE       \n",
      "> W_Completeren aanvraag      10/01/2011 11:36:46.437000     START          \n",
      "> A_ACCEPTED                  10/01/2011 11:42:43.308000     COMPLETE       \n",
      "> O_SELECTED                  10/01/2011 11:45:09.243000     COMPLETE       \n",
      "> A_FINALIZED                 10/01/2011 11:45:09.243000     COMPLETE       \n",
      "> O_CREATED                   10/01/2011 11:45:11.197000     COMPLETE       \n",
      "> O_SENT                      10/01/2011 11:45:11.380000     COMPLETE       \n",
      "> W_Nabellen offertes         10/01/2011 11:45:11.554000     SCHEDULE       \n",
      "> W_Completeren aanvraag      10/01/2011 11:45:13.917000     COMPLETE       \n",
      "> W_Nabellen offertes         10/01/2011 12:15:41.290000     START          \n",
      "> W_Nabellen offertes         10/01/2011 12:17:08.924000     COMPLETE       \n",
      "> W_Nabellen offertes         10/08/2011 16:26:57.720000     START          \n",
      "> W_Nabellen offertes         10/08/2011 16:32:00.886000     COMPLETE       \n",
      "> W_Nabellen offertes         10/10/2011 11:32:22.495000     START          \n",
      "> O_SENT_BACK                 10/10/2011 11:33:03.668000     COMPLETE       \n",
      "> W_Valideren aanvraag        10/10/2011 11:33:04.560000     SCHEDULE       \n",
      "> W_Nabellen offertes         10/10/2011 11:33:05.791000     COMPLETE       \n",
      "> W_Valideren aanvraag        10/13/2011 10:05:26.925000     START          \n",
      "> A_REGISTERED                10/13/2011 10:37:29.226000     COMPLETE       \n",
      "> A_APPROVED                  10/13/2011 10:37:29.226000     COMPLETE       \n",
      "> O_ACCEPTED                  10/13/2011 10:37:29.226000     COMPLETE       \n",
      "> A_ACTIVATED                 10/13/2011 10:37:29.226000     COMPLETE       \n",
      "> W_Valideren aanvraag        10/13/2011 10:37:37.026000     COMPLETE       \n",
      "\n",
      "TRACE_ID: 173691 (trace number 1 )\n",
      "  activity name               time                           transition     \n",
      "> A_SUBMITTED                 10/01/2011 08:08:58.256000     COMPLETE       \n",
      "> A_PARTLYSUBMITTED           10/01/2011 08:09:02.195000     COMPLETE       \n",
      "> A_PREACCEPTED               10/01/2011 08:09:56.648000     COMPLETE       \n",
      "> W_Completeren aanvraag      10/01/2011 08:09:59.578000     SCHEDULE       \n",
      "> W_Completeren aanvraag      10/01/2011 11:37:32.393000     START          \n",
      "> W_Completeren aanvraag      10/01/2011 11:43:13.178000     COMPLETE       \n",
      "> W_Completeren aanvraag      10/01/2011 14:27:57.775000     START          \n",
      "> A_ACCEPTED                  10/01/2011 14:33:54.614000     COMPLETE       \n",
      "> A_FINALIZED                 10/01/2011 14:35:46.016000     COMPLETE       \n",
      "> O_SELECTED                  10/01/2011 14:35:46.016000     COMPLETE       \n",
      "> O_CREATED                   10/01/2011 14:35:47.488000     COMPLETE       \n",
      "> O_SENT                      10/01/2011 14:35:47.583000     COMPLETE       \n",
      "> W_Nabellen offertes         10/01/2011 14:35:47.682000     SCHEDULE       \n",
      "> W_Completeren aanvraag      10/01/2011 14:35:48.791000     COMPLETE       \n",
      "> W_Nabellen offertes         10/01/2011 14:36:13.443000     START          \n",
      "> W_Nabellen offertes         10/01/2011 14:36:25.794000     COMPLETE       \n",
      "> W_Nabellen offertes         10/03/2011 16:54:43.257000     START          \n",
      "> O_SELECTED                  10/03/2011 16:56:17.731000     COMPLETE       \n",
      "> O_CANCELLED                 10/03/2011 16:56:17.731000     COMPLETE       \n",
      "> O_CREATED                   10/03/2011 16:56:19.613000     COMPLETE       \n",
      "> O_SENT                      10/03/2011 16:56:19.645000     COMPLETE       \n",
      "> W_Nabellen offertes         10/03/2011 16:56:19.941000     SCHEDULE       \n",
      "> W_Nabellen offertes         10/03/2011 16:56:21.195000     COMPLETE       \n",
      "> W_Nabellen offertes         10/03/2011 16:56:34.792000     START          \n",
      "> W_Nabellen offertes         10/03/2011 16:57:16.563000     COMPLETE       \n",
      "> W_Nabellen offertes         10/10/2011 10:13:44.827000     START          \n",
      "> O_SENT_BACK                 10/10/2011 10:14:43.775000     COMPLETE       \n",
      "> W_Valideren aanvraag        10/10/2011 10:14:44.052000     SCHEDULE       \n",
      "> W_Nabellen offertes         10/10/2011 10:14:45.514000     COMPLETE       \n",
      "> W_Valideren aanvraag        10/10/2011 11:12:36.612000     START          \n",
      "> W_Valideren aanvraag        10/10/2011 11:30:54.893000     COMPLETE       \n",
      "> W_Valideren aanvraag        10/10/2011 14:11:42.124000     START          \n",
      "> W_Valideren aanvraag        10/10/2011 14:14:13.394000     COMPLETE       \n",
      "> W_Valideren aanvraag        10/10/2011 14:14:52.842000     START          \n",
      "> O_ACCEPTED                  10/10/2011 14:17:26.306000     COMPLETE       \n",
      "> A_APPROVED                  10/10/2011 14:17:26.307000     COMPLETE       \n",
      "> A_REGISTERED                10/10/2011 14:17:26.307000     COMPLETE       \n",
      "> A_ACTIVATED                 10/10/2011 14:17:26.307000     COMPLETE       \n",
      "> W_Valideren aanvraag        10/10/2011 14:17:34.633000     COMPLETE       \n",
      "\n",
      "TRACE_ID: 173694 (trace number 2 )\n",
      "  activity name               time                           transition     \n",
      "> A_SUBMITTED                 10/01/2011 08:10:30.287000     COMPLETE       \n",
      "> A_PARTLYSUBMITTED           10/01/2011 08:10:30.591000     COMPLETE       \n",
      "> A_PREACCEPTED               10/01/2011 08:11:13.026000     COMPLETE       \n",
      "> W_Completeren aanvraag      10/01/2011 08:11:13.390000     SCHEDULE       \n",
      "> W_Completeren aanvraag      10/01/2011 11:31:25.301000     START          \n",
      "> W_Completeren aanvraag      10/01/2011 11:35:59.637000     COMPLETE       \n",
      "> W_Completeren aanvraag      10/03/2011 11:12:02.445000     START          \n",
      "> W_Completeren aanvraag      10/03/2011 11:21:22.417000     COMPLETE       \n",
      "> W_Completeren aanvraag      10/03/2011 13:21:06.626000     START          \n",
      "> W_Completeren aanvraag      10/03/2011 13:32:43.313000     COMPLETE       \n",
      "> W_Completeren aanvraag      10/03/2011 13:32:52.818000     START          \n",
      "> A_ACCEPTED                  10/03/2011 13:34:25.421000     COMPLETE       \n",
      "> A_FINALIZED                 10/03/2011 13:40:14.632000     COMPLETE       \n",
      "> O_SELECTED                  10/03/2011 13:40:14.632000     COMPLETE       \n",
      "> O_CREATED                   10/03/2011 13:40:15.605000     COMPLETE       \n",
      "> O_SENT                      10/03/2011 13:40:15.651000     COMPLETE       \n",
      "> W_Nabellen offertes         10/03/2011 13:40:15.865000     SCHEDULE       \n",
      "> W_Completeren aanvraag      10/03/2011 13:40:17.062000     COMPLETE       \n",
      "> W_Nabellen offertes         10/03/2011 13:40:42.469000     START          \n",
      "> O_SELECTED                  10/03/2011 13:44:17.619000     COMPLETE       \n",
      "> O_CANCELLED                 10/03/2011 13:44:17.619000     COMPLETE       \n",
      "> O_CREATED                   10/03/2011 13:44:19.671000     COMPLETE       \n",
      "> O_SENT                      10/03/2011 13:44:19.719000     COMPLETE       \n",
      "> W_Nabellen offertes         10/03/2011 13:44:19.954000     SCHEDULE       \n",
      "> W_Nabellen offertes         10/03/2011 13:44:21.261000     COMPLETE       \n",
      "> W_Nabellen offertes         10/10/2011 16:46:59.853000     START          \n",
      "> W_Nabellen offertes         10/10/2011 16:47:18.803000     COMPLETE       \n",
      "> W_Nabellen offertes         10/10/2011 19:29:54.155000     START          \n",
      "> W_Nabellen offertes         10/10/2011 19:34:36.027000     COMPLETE       \n",
      "> W_Nabellen offertes         10/14/2011 18:15:44.625000     START          \n",
      "> W_Nabellen offertes         10/14/2011 18:16:42.245000     COMPLETE       \n",
      "> W_Nabellen offertes         10/17/2011 19:41:28.395000     START          \n",
      "> O_SELECTED                  10/17/2011 19:43:53.587000     COMPLETE       \n",
      "> O_CANCELLED                 10/17/2011 19:43:53.587000     COMPLETE       \n",
      "> O_CREATED                   10/17/2011 19:43:55.219000     COMPLETE       \n",
      "> O_SENT                      10/17/2011 19:43:55.387000     COMPLETE       \n",
      "> W_Nabellen offertes         10/17/2011 19:43:56.402000     SCHEDULE       \n",
      "> W_Nabellen offertes         10/17/2011 19:43:57.774000     COMPLETE       \n",
      "> W_Nabellen offertes         10/25/2011 10:46:08.191000     START          \n",
      "> W_Nabellen offertes         10/25/2011 10:50:48.186000     COMPLETE       \n",
      "> W_Nabellen offertes         10/26/2011 18:48:57.136000     START          \n",
      "> W_Nabellen offertes         10/26/2011 18:50:22.004000     COMPLETE       \n",
      "> W_Nabellen offertes         10/29/2011 12:39:08.212000     START          \n",
      "> W_Nabellen offertes         10/29/2011 12:41:29.569000     COMPLETE       \n",
      "> W_Nabellen offertes         11/01/2011 14:54:40.128000     START          \n",
      "> W_Nabellen offertes         11/01/2011 14:55:35.020000     COMPLETE       \n",
      "> W_Nabellen offertes         11/01/2011 17:16:31.149000     START          \n",
      "> W_Nabellen offertes         11/01/2011 17:21:02.356000     COMPLETE       \n",
      "> W_Nabellen offertes         11/02/2011 09:11:44.251000     START          \n",
      "> O_SENT_BACK                 11/02/2011 09:15:16.203000     COMPLETE       \n",
      "> W_Valideren aanvraag        11/02/2011 09:15:16.386000     SCHEDULE       \n",
      "> W_Nabellen offertes         11/02/2011 09:15:18.683000     COMPLETE       \n",
      "> W_Valideren aanvraag        11/04/2011 15:24:21.954000     START          \n",
      "> O_ACCEPTED                  11/04/2011 16:04:52.611000     COMPLETE       \n",
      "> A_APPROVED                  11/04/2011 16:04:52.612000     COMPLETE       \n",
      "> A_REGISTERED                11/04/2011 16:04:52.612000     COMPLETE       \n",
      "> A_ACTIVATED                 11/04/2011 16:04:52.612000     COMPLETE       \n",
      "> W_Valideren aanvraag        11/04/2011 16:05:01.532000     COMPLETE       \n",
      "> W_Wijzigen contractgegevens 02/15/2012 12:29:26.299000     SCHEDULE       \n",
      "\n"
     ]
    }
   ],
   "source": [
    "print('Load log with %s traces.' %len(log.traces))\n",
    "log.print_traces(0,3)"
   ]
  },
  {
   "cell_type": "markdown",
   "metadata": {
    "id": "VXq59CL2msLr"
   },
   "source": [
    "## Section 1: Traces\n",
    "Each log contains at least one trace. Each trace again consists of events. In the first section, you will inspect several trace properties, like trace length, trace variants and more."
   ]
  },
  {
   "cell_type": "markdown",
   "metadata": {
    "id": "SL8iU6kjmsLu"
   },
   "source": [
    "### Trace length\n",
    "A trace consists of events. The number of events in a trace defines its length. The code snippet below computes the length of the shortest and the longest trace in the log."
   ]
  },
  {
   "cell_type": "code",
   "execution_count": 3,
   "metadata": {
    "colab": {
     "base_uri": "https://localhost:8080/"
    },
    "executionInfo": {
     "elapsed": 631,
     "status": "ok",
     "timestamp": 1605085076273,
     "user": {
      "displayName": "Glenn Dittmann",
      "photoUrl": "",
      "userId": "09282768545803181559"
     },
     "user_tz": -60
    },
    "id": "y3fwP-DdmsLw",
    "outputId": "1dd64fbe-8573-4659-8e55-549ec90241c7"
   },
   "outputs": [
    {
     "name": "stdout",
     "output_type": "stream",
     "text": [
      "The longest trace contains 175 events. The shortest trace: 3 events.\n"
     ]
    }
   ],
   "source": [
    "max_length = 0\n",
    "min_length = 1000\n",
    "\n",
    "for trace in log.get_traces():\n",
    "    if len(trace) > max_length:\n",
    "        max_length = len(trace)\n",
    "        \n",
    "    if len(trace) < min_length:\n",
    "        min_length = len(trace)\n",
    "\n",
    "print('The longest trace contains %s events. The shortest trace: %s events.' %(max_length, min_length))"
   ]
  },
  {
   "cell_type": "markdown",
   "metadata": {
    "id": "DYcXs-VnmsL9"
   },
   "source": [
    "**Task**: Compute the length of all traces in the log. Use a histogram to visualize your findings."
   ]
  },
  {
   "cell_type": "code",
   "execution_count": 4,
   "metadata": {
    "colab": {
     "base_uri": "https://localhost:8080/",
     "height": 371
    },
    "executionInfo": {
     "elapsed": 627,
     "status": "ok",
     "timestamp": 1605085111477,
     "user": {
      "displayName": "Glenn Dittmann",
      "photoUrl": "",
      "userId": "09282768545803181559"
     },
     "user_tz": -60
    },
    "id": "5MLfILJpmsMA",
    "outputId": "cf9008c7-906b-4cbc-b9cc-034c56d7e1de"
   },
   "outputs": [
    {
     "data": {
      "image/png": "[encoded data removed]",
      "text/plain": [
       "<Figure size 432x288 with 1 Axes>"
      ]
     },
     "metadata": {
      "needs_background": "light"
     },
     "output_type": "display_data"
    }
   ],
   "source": [
    "import matplotlib.pyplot as plt\n",
    "\n",
    "trace_length = []\n",
    "\n",
    "for trace in log.get_traces():\n",
    "    trace_length.append(len(trace))\n",
    "    \n",
    "\n",
    "plt.hist(trace_length, bins=range(min_length, max_length, 5))\n",
    "plt.xlabel('events per trace')\n",
    "plt.ylabel('number of traces')\n",
    "plt.show()"
   ]
  },
  {
   "cell_type": "markdown",
   "metadata": {
    "id": "afREBeR1msMH"
   },
   "source": [
    "### Trace variants\n",
    "A trace can be seen as a sequence of events. Since the same sequence of event classes may occur multiple times in the same log, it might be interesting to know how many different traces exist. Such different traces are called trace variants. The code snippet below computes all trace variants in the log:"
   ]
  },
  {
   "cell_type": "code",
   "execution_count": 5,
   "metadata": {
    "colab": {
     "base_uri": "https://localhost:8080/"
    },
    "executionInfo": {
     "elapsed": 664,
     "status": "ok",
     "timestamp": 1605085130966,
     "user": {
      "displayName": "Glenn Dittmann",
      "photoUrl": "",
      "userId": "09282768545803181559"
     },
     "user_tz": -60
    },
    "id": "yKNEq1x1msMK",
    "outputId": "86f1b4ad-a123-474c-87be-0767cf8fbbfc"
   },
   "outputs": [
    {
     "name": "stdout",
     "output_type": "stream",
     "text": [
      "The log contains 4366 trace variants.\n"
     ]
    }
   ],
   "source": [
    "trace_list = []\n",
    "\n",
    "for trace in log.get_traces():\n",
    "    events = []\n",
    "    for event in trace:\n",
    "        events.append(event['concept:name'])\n",
    "        \n",
    "    trace_list.append(tuple(events))\n",
    "\n",
    "trace_variants = set(trace_list)\n",
    "\n",
    "print('The log contains %s trace variants.' %len(trace_variants))\n"
   ]
  },
  {
   "cell_type": "markdown",
   "metadata": {
    "id": "mxLOyd1emsMT"
   },
   "source": [
    "### Trace variant frequency\n",
    "\n",
    "**Task**: Compute the frequency of each trace variant in the log."
   ]
  },
  {
   "cell_type": "code",
   "execution_count": 6,
   "metadata": {
    "colab": {
     "base_uri": "https://localhost:8080/",
     "height": 371
    },
    "executionInfo": {
     "elapsed": 1174,
     "status": "ok",
     "timestamp": 1605085135852,
     "user": {
      "displayName": "Glenn Dittmann",
      "photoUrl": "",
      "userId": "09282768545803181559"
     },
     "user_tz": -60
    },
    "id": "XNYPVMt6msMU",
    "outputId": "e9af33bb-c617-4c35-fac3-195f96780e7f"
   },
   "outputs": [
    {
     "data": {
      "image/png": "[encoded data removed]",
      "text/plain": [
       "<Figure size 432x288 with 1 Axes>"
      ]
     },
     "metadata": {
      "needs_background": "light"
     },
     "output_type": "display_data"
    }
   ],
   "source": [
    "from collections import Counter\n",
    "counter = [1]\n",
    "\n",
    "counter = (Counter(trace_list).values())\n",
    "# counter.sort(reverse=True)\n",
    "# print(counter)\n",
    " \n",
    "plt.hist(counter, bins=range(min(counter), max(counter)+100, 50))\n",
    "plt.xlabel('traces of variant')\n",
    "plt.ylabel('frequency')\n",
    "plt.yscale('log')\n",
    "plt.show()"
   ]
  },
  {
   "cell_type": "markdown",
   "metadata": {
    "id": "fCkQxRCmmsMc"
   },
   "source": [
    "**Task**: Which variant is the most frequent one?"
   ]
  },
  {
   "cell_type": "code",
   "execution_count": 7,
   "metadata": {
    "colab": {
     "base_uri": "https://localhost:8080/"
    },
    "executionInfo": {
     "elapsed": 728,
     "status": "ok",
     "timestamp": 1605085140503,
     "user": {
      "displayName": "Glenn Dittmann",
      "photoUrl": "",
      "userId": "09282768545803181559"
     },
     "user_tz": -60
    },
    "id": "xO8mt93emsMd",
    "outputId": "42dc5dab-3f82-41af-e606-2b8a0827f111"
   },
   "outputs": [
    {
     "data": {
      "text/plain": [
       "(('A_SUBMITTED', 'A_PARTLYSUBMITTED', 'A_DECLINED'), 3429)"
      ]
     },
     "execution_count": 7,
     "metadata": {},
     "output_type": "execute_result"
    }
   ],
   "source": [
    "Counter(trace_list).most_common()[0]\n"
   ]
  },
  {
   "cell_type": "markdown",
   "metadata": {
    "id": "oZnqCay_msMf"
   },
   "source": [
    "### Trace duration\n",
    "Events may have several attributes like a timestamp or a resource. We can use these timestamps to compute the duration of a single trace. The following code returns the shortest and longest duration of all traces in the log."
   ]
  },
  {
   "cell_type": "code",
   "execution_count": 8,
   "metadata": {
    "colab": {
     "base_uri": "https://localhost:8080/"
    },
    "executionInfo": {
     "elapsed": 653,
     "status": "ok",
     "timestamp": 1605085159692,
     "user": {
      "displayName": "Glenn Dittmann",
      "photoUrl": "",
      "userId": "09282768545803181559"
     },
     "user_tz": -60
    },
    "id": "2NkVjseOmsMh",
    "outputId": "f757de9f-da7c-4726-f6b1-7965d95c8124"
   },
   "outputs": [
    {
     "name": "stdout",
     "output_type": "stream",
     "text": [
      "The shortest process instance took 0:00:01.855000; the longest 137 days, 5:18:56.012000\n"
     ]
    }
   ],
   "source": [
    "from datetime import datetime, timedelta\n",
    "\n",
    "\n",
    "max_duration = timedelta(microseconds=1)\n",
    "min_duration = timedelta(days=10000)\n",
    "\n",
    "for trace in log.get_traces():\n",
    "    \n",
    "    # we only need to consider the first and last event in the trace\n",
    "    first_e = trace[0]\n",
    "    last_e = trace[-1]\n",
    "    \n",
    "    t0 = first_e['time:timestamp']\n",
    "    t1 = last_e['time:timestamp']\n",
    "    duration = t1 - t0\n",
    "    \n",
    "    if duration > max_duration:\n",
    "        max_duration = duration\n",
    "    elif duration < min_duration:\n",
    "        min_duration = duration\n",
    "        \n",
    "print('The shortest process instance took %s; the longest %s' %(min_duration, max_duration))"
   ]
  },
  {
   "cell_type": "markdown",
   "metadata": {
    "id": "JQ5ag9XNmsMi"
   },
   "source": [
    "**Task:** Compute the duration of each trace in seconds in the log and visualize the result in a histogram. *Hint*: use the method `total_seconds()` to obtain the number of seconds from a duration object."
   ]
  },
  {
   "cell_type": "code",
   "execution_count": 9,
   "metadata": {
    "colab": {
     "base_uri": "https://localhost:8080/",
     "height": 379
    },
    "executionInfo": {
     "elapsed": 1133,
     "status": "ok",
     "timestamp": 1605085178605,
     "user": {
      "displayName": "Glenn Dittmann",
      "photoUrl": "",
      "userId": "09282768545803181559"
     },
     "user_tz": -60
    },
    "id": "AA4XL9eimsMj",
    "outputId": "75717a61-fde2-4c28-f7bf-277e212fd63a"
   },
   "outputs": [
    {
     "data": {
      "image/png": "[encoded data removed]",
      "text/plain": [
       "<Figure size 432x288 with 1 Axes>"
      ]
     },
     "metadata": {
      "needs_background": "light"
     },
     "output_type": "display_data"
    }
   ],
   "source": [
    "durations = []\n",
    "\n",
    "for trace in log.get_traces():\n",
    "    first_e = trace[0]\n",
    "    last_e = trace[-1]\n",
    "    \n",
    "    t0 = first_e['time:timestamp']\n",
    "    t1 = last_e['time:timestamp']\n",
    "    durations.append((t1 - t0).total_seconds())\n",
    "    \n",
    "plt.hist(durations, bins=range(0, round(max(durations)), 86400))\n",
    "ax = plt.gca()\n",
    "plt.xticks(rotation='vertical')\n",
    "plt.xlabel('duration in seconds')\n",
    "plt.ylabel('number of traces')\n",
    "plt.show()"
   ]
  },
  {
   "cell_type": "markdown",
   "metadata": {
    "id": "Cb1Aiob_msMm"
   },
   "source": [
    "### Trace start days\n",
    "We can use timestamps to get even more insights. For example, it might be interesting to know at which weekday the most process instances start. \n",
    "\n",
    "**Task:** Extract for all traces the day of the week at which the instance was started and visualize the results in a histogram. *Hint*: use `isoweekday()` to get the weekday of an datetime object."
   ]
  },
  {
   "cell_type": "code",
   "execution_count": 10,
   "metadata": {
    "colab": {
     "base_uri": "https://localhost:8080/",
     "height": 353
    },
    "executionInfo": {
     "elapsed": 579,
     "status": "ok",
     "timestamp": 1605085190374,
     "user": {
      "displayName": "Glenn Dittmann",
      "photoUrl": "",
      "userId": "09282768545803181559"
     },
     "user_tz": -60
    },
    "id": "d3Yfk7H3msMo",
    "outputId": "6567e79c-69dc-4461-e089-0db6ba3df0f6"
   },
   "outputs": [
    {
     "data": {
      "image/png": "[encoded data removed]",
      "text/plain": [
       "<Figure size 432x288 with 1 Axes>"
      ]
     },
     "metadata": {
      "needs_background": "light"
     },
     "output_type": "display_data"
    }
   ],
   "source": [
    "import numpy as np\n",
    "\n",
    "weekdays = []\n",
    "\n",
    "for trace in log.get_traces():\n",
    "    first_e = trace[0]\n",
    "    t0 = first_e['time:timestamp']\n",
    "    weekdays.append(t0.isoweekday())\n",
    "    \n",
    "data = np.bincount(weekdays)[1:]\n",
    "x_ticks = range(0,7)\n",
    "plt.bar(x_ticks, data)\n",
    "ax = plt.gca()\n",
    "ax.set_xticks(x_ticks)\n",
    "ax.set_xticklabels(['Mon', 'Tue', 'Wed', 'Thu', 'Fir', 'Sat', 'Sun'])\n",
    "plt.show()"
   ]
  },
  {
   "cell_type": "markdown",
   "metadata": {
    "id": "6Pvgj_01msMs"
   },
   "source": [
    "## Section 2: Events\n",
    "So far, you got some insights into the trace level of the event log. Now, we will have a closer look at the individual events."
   ]
  },
  {
   "cell_type": "markdown",
   "metadata": {
    "id": "Dc1uRRzEmsMt"
   },
   "source": [
    "### Events in the log\n",
    "**Task**: Get the total number of events in the log."
   ]
  },
  {
   "cell_type": "code",
   "execution_count": 11,
   "metadata": {
    "colab": {
     "base_uri": "https://localhost:8080/"
    },
    "executionInfo": {
     "elapsed": 790,
     "status": "ok",
     "timestamp": 1605085195745,
     "user": {
      "displayName": "Glenn Dittmann",
      "photoUrl": "",
      "userId": "09282768545803181559"
     },
     "user_tz": -60
    },
    "id": "apzozwoFmsMu",
    "outputId": "08345575-56c7-4469-afd3-e2df6df4e6bd"
   },
   "outputs": [
    {
     "name": "stdout",
     "output_type": "stream",
     "text": [
      "The log contains 262200 events.\n"
     ]
    }
   ],
   "source": [
    "   print('The log contains %s events.' %len(log.events))"
   ]
  },
  {
   "cell_type": "markdown",
   "metadata": {
    "id": "sGlY3jkQmsMw"
   },
   "source": [
    "### Event classes\n",
    "Events may refer to different lifecycle states of activity execution. For example, the execution of an activity *A* can be scheduled, started and finally be completed. Here, the lifecycle of executing activity *A* has three states. Each state transition in such a lifecycle of activity execution can be considered as a separate event class. For example, \"an activity of name A being started\" and \"an activity of name A being scheduled\" are then two separate event classes.\n",
    "\n",
    "**Task**: Get the number of event classes based on information about the executed activity and the lifecycle transition and print out all identified event classes."
   ]
  },
  {
   "cell_type": "code",
   "execution_count": 12,
   "metadata": {
    "colab": {
     "base_uri": "https://localhost:8080/"
    },
    "executionInfo": {
     "elapsed": 671,
     "status": "ok",
     "timestamp": 1605085208524,
     "user": {
      "displayName": "Glenn Dittmann",
      "photoUrl": "",
      "userId": "09282768545803181559"
     },
     "user_tz": -60
    },
    "id": "4AQg8TSNmsMw",
    "outputId": "0ee3e6e8-a104-454a-8dc6-bc4beca52151"
   },
   "outputs": [
    {
     "name": "stdout",
     "output_type": "stream",
     "text": [
      "The log contains 36 event classes.\n",
      "{('A_ACCEPTED', 'COMPLETE'),\n",
      " ('A_ACTIVATED', 'COMPLETE'),\n",
      " ('A_APPROVED', 'COMPLETE'),\n",
      " ('A_CANCELLED', 'COMPLETE'),\n",
      " ('A_DECLINED', 'COMPLETE'),\n",
      " ('A_FINALIZED', 'COMPLETE'),\n",
      " ('A_PARTLYSUBMITTED', 'COMPLETE'),\n",
      " ('A_PREACCEPTED', 'COMPLETE'),\n",
      " ('A_REGISTERED', 'COMPLETE'),\n",
      " ('A_SUBMITTED', 'COMPLETE'),\n",
      " ('O_ACCEPTED', 'COMPLETE'),\n",
      " ('O_CANCELLED', 'COMPLETE'),\n",
      " ('O_CREATED', 'COMPLETE'),\n",
      " ('O_DECLINED', 'COMPLETE'),\n",
      " ('O_SELECTED', 'COMPLETE'),\n",
      " ('O_SENT', 'COMPLETE'),\n",
      " ('O_SENT_BACK', 'COMPLETE'),\n",
      " ('W_Afhandelen leads', 'COMPLETE'),\n",
      " ('W_Afhandelen leads', 'SCHEDULE'),\n",
      " ('W_Afhandelen leads', 'START'),\n",
      " ('W_Beoordelen fraude', 'COMPLETE'),\n",
      " ('W_Beoordelen fraude', 'SCHEDULE'),\n",
      " ('W_Beoordelen fraude', 'START'),\n",
      " ('W_Completeren aanvraag', 'COMPLETE'),\n",
      " ('W_Completeren aanvraag', 'SCHEDULE'),\n",
      " ('W_Completeren aanvraag', 'START'),\n",
      " ('W_Nabellen incomplete dossiers', 'COMPLETE'),\n",
      " ('W_Nabellen incomplete dossiers', 'SCHEDULE'),\n",
      " ('W_Nabellen incomplete dossiers', 'START'),\n",
      " ('W_Nabellen offertes', 'COMPLETE'),\n",
      " ('W_Nabellen offertes', 'SCHEDULE'),\n",
      " ('W_Nabellen offertes', 'START'),\n",
      " ('W_Valideren aanvraag', 'COMPLETE'),\n",
      " ('W_Valideren aanvraag', 'SCHEDULE'),\n",
      " ('W_Valideren aanvraag', 'START'),\n",
      " ('W_Wijzigen contractgegevens', 'SCHEDULE')}\n"
     ]
    }
   ],
   "source": [
    "from pprint import pprint\n",
    "\n",
    "\n",
    "event_classes = set()\n",
    "\n",
    "for trace in log.get_traces():\n",
    "    for event in trace:\n",
    "        event_classes.add((event['concept:name'], event['lifecycle:transition']))\n",
    "\n",
    "\n",
    "print('The log contains %s event classes.' %len(event_classes))\n",
    "pprint(event_classes)"
   ]
  },
  {
   "cell_type": "markdown",
   "metadata": {
    "id": "65iLStsqmsMz"
   },
   "source": [
    "### Event schedule\n",
    "We already computed how many process instances started at which day of the week. We can do the same for each event class. \n",
    "\n",
    "**Task:** Use the code snippet below as a starting point. *Hint:* use the methods `get_timestamp()` and `isoweekday()`."
   ]
  },
  {
   "cell_type": "code",
   "execution_count": 13,
   "metadata": {
    "colab": {
     "base_uri": "https://localhost:8080/",
     "height": 1000
    },
    "executionInfo": {
     "elapsed": 6629,
     "status": "ok",
     "timestamp": 1605085227659,
     "user": {
      "displayName": "Glenn Dittmann",
      "photoUrl": "",
      "userId": "09282768545803181559"
     },
     "user_tz": -60
    },
    "id": "rnqC2WnCmsM0",
    "outputId": "372f9864-e612-445c-9d95-16aa2a4b16c7"
   },
   "outputs": [
    {
     "data": {
      "image/png": "[encoded data removed]",
      "text/plain": [
       "<Figure size 864x1800 with 36 Axes>"
      ]
     },
     "metadata": {
      "needs_background": "light"
     },
     "output_type": "display_data"
    }
   ],
   "source": [
    "# setup subplots\n",
    "fig, ax = plt.subplots(12, 3, figsize=(12, 25))\n",
    "fig.subplots_adjust(hspace = 2, wspace=0.3)\n",
    "ax = ax.flatten()\n",
    "\n",
    "for idx, target_event in enumerate(list(event_classes)):\n",
    "    weekdays = []\n",
    "    \n",
    "    for trace in log.get_traces():\n",
    "        for event in trace:\n",
    "            if event['concept:name'] == target_event[0] and event['lifecycle:transition'] == target_event[1]:\n",
    "                t0 = event['time:timestamp']\n",
    "                weekdays.append(t0.isoweekday())\n",
    "\n",
    "    \n",
    "    # plot\n",
    "    data = np.bincount(weekdays)[1:]\n",
    "    \n",
    "    x_ticks = range(0,len(data), 1)\n",
    "    ax[idx].bar(x_ticks, data)\n",
    "    ax[idx].set_xticks(x_ticks)\n",
    "    ax[idx].set_xticklabels(['Mon', 'Tue', 'Wed', 'Thu', 'Fri', 'Sat', 'Sun'], rotation=45)\n",
    "    ax[idx].set_title(target_event[0] + ' ' + target_event[1])\n",
    "    \n",
    "plt.show()"
   ]
  },
  {
   "cell_type": "markdown",
   "metadata": {
    "id": "V-BjmIRvmsM2"
   },
   "source": [
    "### Event resource assignments\n",
    "Sometimes an event is processed by a resource. Possible resources are machines and employees. The used resource can be specified in the events attributes.\n",
    "\n",
    "**Task:** How many different resources are used across the process instances?"
   ]
  },
  {
   "cell_type": "code",
   "execution_count": 14,
   "metadata": {
    "colab": {
     "base_uri": "https://localhost:8080/"
    },
    "executionInfo": {
     "elapsed": 640,
     "status": "ok",
     "timestamp": 1605085244922,
     "user": {
      "displayName": "Glenn Dittmann",
      "photoUrl": "",
      "userId": "09282768545803181559"
     },
     "user_tz": -60
    },
    "id": "WKus593wmsM3",
    "outputId": "cfcf27f1-58db-4041-e3ca-dbbdda03cec7"
   },
   "outputs": [
    {
     "name": "stdout",
     "output_type": "stream",
     "text": [
      "All process instances use 69 different resource in total\n"
     ]
    }
   ],
   "source": [
    "resources = []\n",
    "\n",
    "for trace in log.get_traces():\n",
    "  for event in trace:\n",
    "    resources.append(event.get('org:resource', None))\n",
    "print('All process instances use %s different resource in total' % len(set(resources)))"
   ]
  },
  {
   "cell_type": "markdown",
   "metadata": {
    "id": "amrpizXOmsM_"
   },
   "source": [
    "**Task**: Are all events processed by a resource? If not, compute the ratio of events that are processed by a resource."
   ]
  },
  {
   "cell_type": "code",
   "execution_count": 15,
   "metadata": {
    "colab": {
     "base_uri": "https://localhost:8080/"
    },
    "executionInfo": {
     "elapsed": 793,
     "status": "ok",
     "timestamp": 1605085248160,
     "user": {
      "displayName": "Glenn Dittmann",
      "photoUrl": "",
      "userId": "09282768545803181559"
     },
     "user_tz": -60
    },
    "id": "6gFQq31TmsNA",
    "outputId": "341b4871-9855-4bfc-d4bc-b941b1f1a19f"
   },
   "outputs": [
    {
     "name": "stdout",
     "output_type": "stream",
     "text": [
      "93.13% of all events are processed by a resource.\n"
     ]
    }
   ],
   "source": [
    "no_res = resources.count(None)\n",
    "\n",
    "print('%.2f%% of all events are processed by a resource.' %(((len(resources)-no_res)/len(resources))*100 ))"
   ]
  },
  {
   "cell_type": "markdown",
   "metadata": {
    "id": "R13lAbHOp94v"
   },
   "source": [
    "## -- End"
   ]
  }
 ],
 "metadata": {
  "colab": {
   "collapsed_sections": [],
   "name": "Reworked: log_exploration_solution.ipynb",
   "provenance": [
    {
     "file_id": "https://github.com/matthiasweidlich/conf_tutorial/blob/master/log_exploration_solution.ipynb",
     "timestamp": 1601910376002
    }
   ],
   "toc_visible": true
  },
  "kernelspec": {
   "display_name": "Python 3",
   "language": "python",
   "name": "python3"
  },
  "language_info": {
   "codemirror_mode": {
    "name": "ipython",
    "version": 3
   },
   "file_extension": ".py",
   "mimetype": "text/x-python",
   "name": "python",
   "nbconvert_exporter": "python",
   "pygments_lexer": "ipython3",
   "version": "3.9.1"
  }
 },
 "nbformat": 4,
 "nbformat_minor": 1
}

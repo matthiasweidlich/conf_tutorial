{
  "nbformat": 4,
  "nbformat_minor": 0,
  "metadata": {
    "colab": {
      "name": "alignment_solution.ipynb",
      "version": "0.3.2",
      "provenance": [],
      "toc_visible": true,
      "include_colab_link": true
    },
    "language_info": {
      "codemirror_mode": {
        "name": "ipython",
        "version": 3
      },
      "file_extension": ".py",
      "mimetype": "text/x-python",
      "name": "python",
      "nbconvert_exporter": "python",
      "pygments_lexer": "ipython3",
      "version": "3.6.6"
    },
    "kernelspec": {
      "display_name": "Python 3",
      "language": "python",
      "name": "python3"
    }
  },
  "cells": [
    {
      "cell_type": "markdown",
      "metadata": {
        "id": "view-in-github",
        "colab_type": "text"
      },
      "source": [
        "<a href=\"https://colab.research.google.com/github/matthiasweidlich/conf_tutorial/blob/master/alignment_solution.ipynb\" target=\"_parent\"><img src=\"https://colab.research.google.com/assets/colab-badge.svg\" alt=\"Open In Colab\"/></a>"
      ]
    },
    {
      "cell_type": "markdown",
      "metadata": {
        "id": "9dGNrw7MDhwr",
        "colab_type": "text"
      },
      "source": [
        "# Hands-On Exercise 3: Alignment-based Conformance\n",
        "\n",
        "In this exercise, we will again take up the real-life event log of a Dutch financial institute. Be reminded that you should be able to clone the repository containing the notebooks and the example data with the code in the next cell. If this does not work, however, you can also download the event log (XES format, please unzip) [here](http://www.win.tue.nl/bpi/doku.php?id=2012:challenge) and then either copy it to your google drive, mount it, and read it from there, or directly upload it using your browser.\n",
        "\n",
        "Also, further details can be found in the [description of the dataset](http://www.win.tue.nl/bpi/doku.php?id=2012:challenge)."
      ]
    },
    {
      "cell_type": "code",
      "metadata": {
        "id": "76CKPHMlDhw3",
        "colab_type": "code",
        "outputId": "ebb90ee8-a6a2-4d28-f65d-3b1ae77abbf9",
        "colab": {
          "base_uri": "https://localhost:8080/",
          "height": 146
        }
      },
      "source": [
        "# basic configuration\n",
        "%config InlineBackend.figure_format = 'svg'\n",
        "%matplotlib inline\n",
        "\n",
        "# import data from google drive\n",
        "#from google.colab import drive\n",
        "#drive.mount('/content/drive')\n",
        "\n",
        "# direct data upload\n",
        "#from google.colab import files\n",
        "#files.upload()\n",
        "\n",
        "# clone the repository that contains the notebooks and also the data file\n",
        "! git clone https://github.com/matthiasweidlich/conf_tutorial.git"
      ],
      "execution_count": 1,
      "outputs": [
        {
          "output_type": "stream",
          "text": [
            "Cloning into 'conf_tutorial'...\n",
            "remote: Enumerating objects: 103, done.\u001b[K\n",
            "remote: Counting objects: 100% (103/103), done.\u001b[K\n",
            "remote: Compressing objects: 100% (90/90), done.\u001b[K\n",
            "remote: Total 103 (delta 56), reused 31 (delta 11), pack-reused 0\u001b[K\n",
            "Receiving objects: 100% (103/103), 3.36 MiB | 5.87 MiB/s, done.\n",
            "Resolving deltas: 100% (56/56), done.\n"
          ],
          "name": "stdout"
        }
      ]
    },
    {
      "cell_type": "markdown",
      "metadata": {
        "id": "LAP26A4kDhxN",
        "colab_type": "text"
      },
      "source": [
        "## Import Event Log\n",
        "The following method imports the log file and returns it in a list structure."
      ]
    },
    {
      "cell_type": "code",
      "metadata": {
        "id": "hgalrSbIDhxT",
        "colab_type": "code",
        "colab": {}
      },
      "source": [
        "import xml.etree.ElementTree as et\n",
        "\n",
        "def load_xes(file, event_filter = []):\n",
        "    log = []\n",
        "    \n",
        "    tree = et.parse(file)\n",
        "    data = tree.getroot()\n",
        "    \n",
        "    # find all traces\n",
        "    traces = data.findall('{http://www.xes-standard.org/}trace')\n",
        "    \n",
        "    for t in traces:\n",
        "        trace_id = None\n",
        "        \n",
        "        # get trace id\n",
        "        for a in t.findall('{http://www.xes-standard.org/}string'):\n",
        "            if a.attrib['key'] == 'concept:name':\n",
        "                trace_id = a.attrib['value']\n",
        "        \n",
        "        events = []\n",
        "        # events\n",
        "        for event in t.iter('{http://www.xes-standard.org/}event'):\n",
        "            \n",
        "            e = {'name': None, 'timestamp': None, 'resource': None, 'transition': None}\n",
        "            \n",
        "            for a in event:\n",
        "                e[a.attrib['key'].split(':')[1]] = a.attrib['value']\n",
        "            \n",
        "            if e['name'] in event_filter or len(event_filter) == 0:\n",
        "                events.append(e)\n",
        "        \n",
        "        # add trace to log\n",
        "        if len(events) > 0:\n",
        "            log.append({'trace_id': trace_id, 'events': events})\n",
        "        \n",
        "    return log"
      ],
      "execution_count": 0,
      "outputs": []
    },
    {
      "cell_type": "markdown",
      "metadata": {
        "id": "aWx5L0-QDhxj",
        "colab_type": "text"
      },
      "source": [
        "Now import the given log and compute the trace variants of the log along with their frequencies."
      ]
    },
    {
      "cell_type": "code",
      "metadata": {
        "id": "FgiU7VsnDhxm",
        "colab_type": "code",
        "outputId": "fdb27a1d-4221-451b-f383-e9c49125e622",
        "colab": {
          "base_uri": "https://localhost:8080/",
          "height": 182
        }
      },
      "source": [
        "from pprint import pprint\n",
        "\n",
        "log_file = 'conf_tutorial/financial_log.xes'\n",
        "log = load_xes(log_file)\n",
        "\n",
        "print('Load log with %s traces.' %len(log))\n",
        "\n",
        "trace_variants = {}\n",
        "for trace in log:\n",
        "    events = []\n",
        "    for event in trace['events']:\n",
        "        events.append(event['name'])\n",
        "    trace_variants[tuple(events)] = trace_variants.get(tuple(events), 0) + 1\n",
        "    \n",
        "# print the two most frequent variants\n",
        "trace_variants_sorted_by_freq = sorted(trace_variants.items(), key=lambda kv: kv[1], reverse=True)\n",
        "pprint(trace_variants_sorted_by_freq[:2])"
      ],
      "execution_count": 3,
      "outputs": [
        {
          "output_type": "stream",
          "text": [
            "Load log with 13087 traces.\n",
            "[(('A_SUBMITTED', 'A_PARTLYSUBMITTED', 'A_DECLINED'), 3429),\n",
            " (('A_SUBMITTED',\n",
            "   'A_PARTLYSUBMITTED',\n",
            "   'W_Afhandelen leads',\n",
            "   'W_Afhandelen leads',\n",
            "   'A_DECLINED',\n",
            "   'W_Afhandelen leads'),\n",
            "  1872)]\n"
          ],
          "name": "stdout"
        }
      ]
    },
    {
      "cell_type": "markdown",
      "metadata": {
        "id": "9XlqD30dDhx6",
        "colab_type": "text"
      },
      "source": [
        "## Import Process Model\n",
        "\n",
        "For the log, a process model is given in the form of a Petri net. Such a process model is typically created manually. For this particular example, however, the model has been discovered automatically using the Inductive Miner, applying some noise filtering threshold. \n",
        "\n",
        "Note that here, we relabel the silent transitions (label *tau*) so that all transitions are uniquely labelled (e.g., *tau* becomes *tau-x* with x being an id). This is purely a technical consideration as it is required by the code used later."
      ]
    },
    {
      "cell_type": "code",
      "metadata": {
        "id": "_09nxDhHDhx8",
        "colab_type": "code",
        "outputId": "3b81db1f-c68d-4251-9bd5-8d85702d1bce",
        "colab": {
          "base_uri": "https://localhost:8080/",
          "height": 823
        }
      },
      "source": [
        "%run ./conf_tutorial/pn.py\n",
        "\n",
        "net = PetriNet()\n",
        "load(net, \"./conf_tutorial/financial_log_80_noise.pnml\")\n",
        "\n",
        "# mark the initial place\n",
        "net.add_marking(1,1)\n",
        "\n",
        "# make sure to assign unique labels to silent transitions\n",
        "t_transitions = dict()\n",
        "for t in net.transitions['tau']:\n",
        "    net.transitions['tau' + str(t)] = [t]\n",
        "net.transitions.pop('tau', None)\n",
        "\n",
        "\n",
        "# visualise it \n",
        "draw_petri_net(net)"
      ],
      "execution_count": 4,
      "outputs": [
        {
          "output_type": "execute_result",
          "data": {
            "text/plain": [
              "<graphviz.dot.Digraph at 0x7f0be4e3c0b8>"
            ],
            "image/svg+xml": "<?xml version=\"1.0\" encoding=\"UTF-8\" standalone=\"no\"?>\n<!DOCTYPE svg PUBLIC \"-//W3C//DTD SVG 1.1//EN\"\n \"http://www.w3.org/Graphics/SVG/1.1/DTD/svg11.dtd\">\n<!-- Generated by graphviz version 2.40.1 (20161225.0304)\n -->\n<!-- Title: petri_net Pages: 1 -->\n<svg width=\"7226pt\" height=\"587pt\"\n viewBox=\"0.00 0.00 7226.00 587.00\" xmlns=\"http://www.w3.org/2000/svg\" xmlns:xlink=\"http://www.w3.org/1999/xlink\">\n<g id=\"graph0\" class=\"graph\" transform=\"scale(1 1) rotate(0) translate(4 583)\">\n<title>petri_net</title>\n<polygon fill=\"#ffffff\" stroke=\"transparent\" points=\"-4,4 -4,-583 7222,-583 7222,4 -4,4\"/>\n<!-- &#45;1 -->\n<g id=\"node1\" class=\"node\">\n<title>&#45;1</title>\n<polygon fill=\"none\" stroke=\"#000000\" points=\"232,-548 146,-548 146,-512 232,-512 232,-548\"/>\n<text text-anchor=\"middle\" x=\"189\" y=\"-527.5\" font-family=\"Helvetica,sans-Serif\" font-size=\"10.00\" fill=\"#000000\">A_SUBMITTED</text>\n</g>\n<!-- 3 -->\n<g id=\"node45\" class=\"node\">\n<title>3</title>\n<ellipse fill=\"#d3d3d3\" stroke=\"#d3d3d3\" cx=\"360\" cy=\"-530\" rx=\"18\" ry=\"18\"/>\n<text text-anchor=\"middle\" x=\"360\" y=\"-527.5\" font-family=\"Helvetica,sans-Serif\" font-size=\"10.00\" fill=\"#000000\">3</text>\n</g>\n<!-- &#45;1&#45;&gt;3 -->\n<g id=\"edge61\" class=\"edge\">\n<title>&#45;1&#45;&gt;3</title>\n<path fill=\"none\" stroke=\"#000000\" d=\"M232.1505,-530C263.2819,-530 304.4346,-530 331.5341,-530\"/>\n<polygon fill=\"#000000\" stroke=\"#000000\" points=\"331.872,-533.5001 341.872,-530 331.872,-526.5001 331.872,-533.5001\"/>\n</g>\n<!-- &#45;2 -->\n<g id=\"node2\" class=\"node\">\n<title>&#45;2</title>\n<polygon fill=\"none\" stroke=\"#000000\" points=\"592,-548 470,-548 470,-512 592,-512 592,-548\"/>\n<text text-anchor=\"middle\" x=\"531\" y=\"-527.5\" font-family=\"Helvetica,sans-Serif\" font-size=\"10.00\" fill=\"#000000\">A_PARTLYSUBMITTED</text>\n</g>\n<!-- 4 -->\n<g id=\"node46\" class=\"node\">\n<title>4</title>\n<ellipse fill=\"#d3d3d3\" stroke=\"#d3d3d3\" cx=\"702\" cy=\"-530\" rx=\"18\" ry=\"18\"/>\n<text text-anchor=\"middle\" x=\"702\" y=\"-527.5\" font-family=\"Helvetica,sans-Serif\" font-size=\"10.00\" fill=\"#000000\">4</text>\n</g>\n<!-- &#45;2&#45;&gt;4 -->\n<g id=\"edge95\" class=\"edge\">\n<title>&#45;2&#45;&gt;4</title>\n<path fill=\"none\" stroke=\"#000000\" d=\"M592.2519,-530C620.0885,-530 651.6633,-530 673.7755,-530\"/>\n<polygon fill=\"#000000\" stroke=\"#000000\" points=\"673.8127,-533.5001 683.8126,-530 673.8126,-526.5001 673.8127,-533.5001\"/>\n</g>\n<!-- &#45;3 -->\n<g id=\"node3\" class=\"node\">\n<title>&#45;3</title>\n<polygon fill=\"none\" stroke=\"#000000\" points=\"924,-548 822,-548 822,-512 924,-512 924,-548\"/>\n<text text-anchor=\"middle\" x=\"873\" y=\"-527.5\" font-family=\"Helvetica,sans-Serif\" font-size=\"10.00\" fill=\"#000000\">A_PREACCEPTED</text>\n</g>\n<!-- 5 -->\n<g id=\"node47\" class=\"node\">\n<title>5</title>\n<ellipse fill=\"#d3d3d3\" stroke=\"#d3d3d3\" cx=\"1044\" cy=\"-530\" rx=\"18\" ry=\"18\"/>\n<text text-anchor=\"middle\" x=\"1044\" y=\"-527.5\" font-family=\"Helvetica,sans-Serif\" font-size=\"10.00\" fill=\"#000000\">5</text>\n</g>\n<!-- &#45;3&#45;&gt;5 -->\n<g id=\"edge30\" class=\"edge\">\n<title>&#45;3&#45;&gt;5</title>\n<path fill=\"none\" stroke=\"#000000\" d=\"M924.3056,-530C954.2992,-530 991.0143,-530 1015.8106,-530\"/>\n<polygon fill=\"#000000\" stroke=\"#000000\" points=\"1015.9754,-533.5001 1025.9754,-530 1015.9753,-526.5001 1015.9754,-533.5001\"/>\n</g>\n<!-- &#45;5 -->\n<g id=\"node4\" class=\"node\">\n<title>&#45;5</title>\n<polygon fill=\"none\" stroke=\"#000000\" points=\"1270,-579 1160,-579 1160,-543 1270,-543 1270,-579\"/>\n<text text-anchor=\"middle\" x=\"1215\" y=\"-558.5\" font-family=\"Helvetica,sans-Serif\" font-size=\"10.00\" fill=\"#000000\">W_Beoordelen fraude</text>\n</g>\n<!-- 6 -->\n<g id=\"node48\" class=\"node\">\n<title>6</title>\n<ellipse fill=\"#d3d3d3\" stroke=\"#d3d3d3\" cx=\"1386\" cy=\"-530\" rx=\"18\" ry=\"18\"/>\n<text text-anchor=\"middle\" x=\"1386\" y=\"-527.5\" font-family=\"Helvetica,sans-Serif\" font-size=\"10.00\" fill=\"#000000\">6</text>\n</g>\n<!-- &#45;5&#45;&gt;6 -->\n<g id=\"edge65\" class=\"edge\">\n<title>&#45;5&#45;&gt;6</title>\n<path fill=\"none\" stroke=\"#000000\" d=\"M1270.0467,-551.0208C1299.3416,-545.71 1334.123,-539.4046 1357.8997,-535.0942\"/>\n<polygon fill=\"#000000\" stroke=\"#000000\" points=\"1358.7752,-538.4926 1367.9905,-533.2649 1357.5265,-531.6049 1358.7752,-538.4926\"/>\n</g>\n<!-- &#45;6 -->\n<g id=\"node5\" class=\"node\">\n<title>&#45;6</title>\n<polygon fill=\"none\" stroke=\"#000000\" points=\"1610,-497 1504,-497 1504,-461 1610,-461 1610,-497\"/>\n<text text-anchor=\"middle\" x=\"1557\" y=\"-476.5\" font-family=\"Helvetica,sans-Serif\" font-size=\"10.00\" fill=\"#000000\">W_Afhandelen leads</text>\n</g>\n<!-- 8 -->\n<g id=\"node50\" class=\"node\">\n<title>8</title>\n<ellipse fill=\"#d3d3d3\" stroke=\"#d3d3d3\" cx=\"1728\" cy=\"-456\" rx=\"18\" ry=\"18\"/>\n<text text-anchor=\"middle\" x=\"1728\" y=\"-453.5\" font-family=\"Helvetica,sans-Serif\" font-size=\"10.00\" fill=\"#000000\">8</text>\n</g>\n<!-- &#45;6&#45;&gt;8 -->\n<g id=\"edge1\" class=\"edge\">\n<title>&#45;6&#45;&gt;8</title>\n<path fill=\"none\" stroke=\"#000000\" d=\"M1610.1681,-471.8487C1639.8886,-467.8512 1675.7216,-463.0316 1700.0105,-459.7647\"/>\n<polygon fill=\"#000000\" stroke=\"#000000\" points=\"1700.5337,-463.2259 1709.9779,-458.424 1699.6006,-456.2884 1700.5337,-463.2259\"/>\n</g>\n<!-- &#45;7 -->\n<g id=\"node6\" class=\"node\">\n<title>&#45;7</title>\n<polygon fill=\"none\" stroke=\"#000000\" points=\"1963,-463 1835,-463 1835,-427 1963,-427 1963,-463\"/>\n<text text-anchor=\"middle\" x=\"1899\" y=\"-442.5\" font-family=\"Helvetica,sans-Serif\" font-size=\"10.00\" fill=\"#000000\">W_Completeren aanvraag</text>\n</g>\n<!-- 9 -->\n<g id=\"node51\" class=\"node\">\n<title>9</title>\n<ellipse fill=\"#d3d3d3\" stroke=\"#d3d3d3\" cx=\"2070\" cy=\"-439\" rx=\"18\" ry=\"18\"/>\n<text text-anchor=\"middle\" x=\"2070\" y=\"-436.5\" font-family=\"Helvetica,sans-Serif\" font-size=\"10.00\" fill=\"#000000\">9</text>\n</g>\n<!-- &#45;7&#45;&gt;9 -->\n<g id=\"edge96\" class=\"edge\">\n<title>&#45;7&#45;&gt;9</title>\n<path fill=\"none\" stroke=\"#000000\" d=\"M1963.1606,-442.7488C1990.2387,-441.7986 2020.3675,-440.7415 2041.7091,-439.9927\"/>\n<polygon fill=\"#000000\" stroke=\"#000000\" points=\"2041.8454,-443.4901 2051.7165,-439.6415 2041.5999,-436.4944 2041.8454,-443.4901\"/>\n</g>\n<!-- &#45;11 -->\n<g id=\"node7\" class=\"node\">\n<title>&#45;11</title>\n<polygon fill=\"none\" stroke=\"#000000\" points=\"2623.5,-342 2542.5,-342 2542.5,-306 2623.5,-306 2623.5,-342\"/>\n<text text-anchor=\"middle\" x=\"2583\" y=\"-321.5\" font-family=\"Helvetica,sans-Serif\" font-size=\"10.00\" fill=\"#000000\">O_SELECTED</text>\n</g>\n<!-- 13 -->\n<g id=\"node55\" class=\"node\">\n<title>13</title>\n<ellipse fill=\"#d3d3d3\" stroke=\"#d3d3d3\" cx=\"2754\" cy=\"-324\" rx=\"18\" ry=\"18\"/>\n<text text-anchor=\"middle\" x=\"2754\" y=\"-321.5\" font-family=\"Helvetica,sans-Serif\" font-size=\"10.00\" fill=\"#000000\">13</text>\n</g>\n<!-- &#45;11&#45;&gt;13 -->\n<g id=\"edge43\" class=\"edge\">\n<title>&#45;11&#45;&gt;13</title>\n<path fill=\"none\" stroke=\"#000000\" d=\"M2623.5246,-324C2654.913,-324 2697.6066,-324 2725.4765,-324\"/>\n<polygon fill=\"#000000\" stroke=\"#000000\" points=\"2725.7304,-327.5001 2735.7304,-324 2725.7304,-320.5001 2725.7304,-327.5001\"/>\n</g>\n<!-- &#45;12 -->\n<g id=\"node8\" class=\"node\">\n<title>&#45;12</title>\n<polygon fill=\"none\" stroke=\"#000000\" points=\"2622.5,-281 2543.5,-281 2543.5,-245 2622.5,-245 2622.5,-281\"/>\n<text text-anchor=\"middle\" x=\"2583\" y=\"-260.5\" font-family=\"Helvetica,sans-Serif\" font-size=\"10.00\" fill=\"#000000\">A_FINALIZED</text>\n</g>\n<!-- 15 -->\n<g id=\"node57\" class=\"node\">\n<title>15</title>\n<ellipse fill=\"#d3d3d3\" stroke=\"#d3d3d3\" cx=\"2754\" cy=\"-263\" rx=\"18\" ry=\"18\"/>\n<text text-anchor=\"middle\" x=\"2754\" y=\"-260.5\" font-family=\"Helvetica,sans-Serif\" font-size=\"10.00\" fill=\"#000000\">15</text>\n</g>\n<!-- &#45;12&#45;&gt;15 -->\n<g id=\"edge47\" class=\"edge\">\n<title>&#45;12&#45;&gt;15</title>\n<path fill=\"none\" stroke=\"#000000\" d=\"M2622.6606,-263C2654.191,-263 2697.5296,-263 2725.6515,-263\"/>\n<polygon fill=\"#000000\" stroke=\"#000000\" points=\"2725.983,-266.5001 2735.9829,-263 2725.9829,-259.5001 2725.983,-266.5001\"/>\n</g>\n<!-- &#45;13 -->\n<g id=\"node9\" class=\"node\">\n<title>&#45;13</title>\n<polygon fill=\"none\" stroke=\"#000000\" points=\"2968,-454 2882,-454 2882,-418 2968,-418 2968,-454\"/>\n<text text-anchor=\"middle\" x=\"2925\" y=\"-433.5\" font-family=\"Helvetica,sans-Serif\" font-size=\"10.00\" fill=\"#000000\">A_CANCELLED</text>\n</g>\n<!-- 11 -->\n<g id=\"node53\" class=\"node\">\n<title>11</title>\n<ellipse fill=\"#d3d3d3\" stroke=\"#d3d3d3\" cx=\"3096\" cy=\"-352\" rx=\"18\" ry=\"18\"/>\n<text text-anchor=\"middle\" x=\"3096\" y=\"-349.5\" font-family=\"Helvetica,sans-Serif\" font-size=\"10.00\" fill=\"#000000\">11</text>\n</g>\n<!-- &#45;13&#45;&gt;11 -->\n<g id=\"edge11\" class=\"edge\">\n<title>&#45;13&#45;&gt;11</title>\n<path fill=\"none\" stroke=\"#000000\" d=\"M2961.6838,-417.9799C2994.4825,-401.8682 3041.6946,-378.6763 3070.527,-364.5131\"/>\n<polygon fill=\"#000000\" stroke=\"#000000\" points=\"3072.1205,-367.6298 3079.5529,-360.0793 3069.0341,-361.3469 3072.1205,-367.6298\"/>\n</g>\n<!-- &#45;15 -->\n<g id=\"node10\" class=\"node\">\n<title>&#45;15</title>\n<polygon fill=\"none\" stroke=\"#000000\" points=\"3310.5,-424 3223.5,-424 3223.5,-388 3310.5,-388 3310.5,-424\"/>\n<text text-anchor=\"middle\" x=\"3267\" y=\"-403.5\" font-family=\"Helvetica,sans-Serif\" font-size=\"10.00\" fill=\"#000000\">O_CANCELLED</text>\n</g>\n<!-- 17 -->\n<g id=\"node59\" class=\"node\">\n<title>17</title>\n<ellipse fill=\"#d3d3d3\" stroke=\"#d3d3d3\" cx=\"3438\" cy=\"-397\" rx=\"18\" ry=\"18\"/>\n<text text-anchor=\"middle\" x=\"3438\" y=\"-394.5\" font-family=\"Helvetica,sans-Serif\" font-size=\"10.00\" fill=\"#000000\">17</text>\n</g>\n<!-- &#45;15&#45;&gt;17 -->\n<g id=\"edge68\" class=\"edge\">\n<title>&#45;15&#45;&gt;17</title>\n<path fill=\"none\" stroke=\"#000000\" d=\"M3310.593,-403.7056C3341.7278,-402.067 3382.7126,-399.9099 3409.6822,-398.4904\"/>\n<polygon fill=\"#000000\" stroke=\"#000000\" points=\"3410.1669,-401.9698 3419.9691,-397.949 3409.7989,-394.9795 3410.1669,-401.9698\"/>\n</g>\n<!-- &#45;17 -->\n<g id=\"node11\" class=\"node\">\n<title>&#45;17</title>\n<polygon fill=\"none\" stroke=\"#000000\" points=\"3646.5,-454 3571.5,-454 3571.5,-418 3646.5,-418 3646.5,-454\"/>\n<text text-anchor=\"middle\" x=\"3609\" y=\"-433.5\" font-family=\"Helvetica,sans-Serif\" font-size=\"10.00\" fill=\"#000000\">O_CREATED</text>\n</g>\n<!-- 19 -->\n<g id=\"node61\" class=\"node\">\n<title>19</title>\n<ellipse fill=\"#d3d3d3\" stroke=\"#d3d3d3\" cx=\"3780\" cy=\"-436\" rx=\"18\" ry=\"18\"/>\n<text text-anchor=\"middle\" x=\"3780\" y=\"-433.5\" font-family=\"Helvetica,sans-Serif\" font-size=\"10.00\" fill=\"#000000\">19</text>\n</g>\n<!-- &#45;17&#45;&gt;19 -->\n<g id=\"edge75\" class=\"edge\">\n<title>&#45;17&#45;&gt;19</title>\n<path fill=\"none\" stroke=\"#000000\" d=\"M3646.5267,-436C3678.259,-436 3723.0262,-436 3751.7833,-436\"/>\n<polygon fill=\"#000000\" stroke=\"#000000\" points=\"3751.9603,-439.5001 3761.9603,-436 3751.9602,-432.5001 3751.9603,-439.5001\"/>\n</g>\n<!-- &#45;18 -->\n<g id=\"node12\" class=\"node\">\n<title>&#45;18</title>\n<polygon fill=\"none\" stroke=\"#000000\" points=\"3979,-454 3923,-454 3923,-418 3979,-418 3979,-454\"/>\n<text text-anchor=\"middle\" x=\"3951\" y=\"-433.5\" font-family=\"Helvetica,sans-Serif\" font-size=\"10.00\" fill=\"#000000\">O_SENT</text>\n</g>\n<!-- 18 -->\n<g id=\"node60\" class=\"node\">\n<title>18</title>\n<ellipse fill=\"#d3d3d3\" stroke=\"#d3d3d3\" cx=\"4122\" cy=\"-375\" rx=\"18\" ry=\"18\"/>\n<text text-anchor=\"middle\" x=\"4122\" y=\"-372.5\" font-family=\"Helvetica,sans-Serif\" font-size=\"10.00\" fill=\"#000000\">18</text>\n</g>\n<!-- &#45;18&#45;&gt;18 -->\n<g id=\"edge42\" class=\"edge\">\n<title>&#45;18&#45;&gt;18</title>\n<path fill=\"none\" stroke=\"#000000\" d=\"M3979.2372,-425.9271C4011.4217,-414.4461 4063.641,-395.8181 4095.2099,-384.5567\"/>\n<polygon fill=\"#000000\" stroke=\"#000000\" points=\"4096.4397,-387.8341 4104.6824,-381.1776 4094.0877,-381.241 4096.4397,-387.8341\"/>\n</g>\n<!-- &#45;19 -->\n<g id=\"node13\" class=\"node\">\n<title>&#45;19</title>\n<polygon fill=\"none\" stroke=\"#000000\" points=\"4345,-386 4241,-386 4241,-350 4345,-350 4345,-386\"/>\n<text text-anchor=\"middle\" x=\"4293\" y=\"-365.5\" font-family=\"Helvetica,sans-Serif\" font-size=\"10.00\" fill=\"#000000\">W_Nabellen offertes</text>\n</g>\n<!-- 16 -->\n<g id=\"node58\" class=\"node\">\n<title>16</title>\n<ellipse fill=\"#d3d3d3\" stroke=\"#d3d3d3\" cx=\"4464\" cy=\"-349\" rx=\"18\" ry=\"18\"/>\n<text text-anchor=\"middle\" x=\"4464\" y=\"-346.5\" font-family=\"Helvetica,sans-Serif\" font-size=\"10.00\" fill=\"#000000\">16</text>\n</g>\n<!-- &#45;19&#45;&gt;16 -->\n<g id=\"edge64\" class=\"edge\">\n<title>&#45;19&#45;&gt;16</title>\n<path fill=\"none\" stroke=\"#000000\" d=\"M4345.2348,-362.1961C4375.0089,-358.8879 4411.1592,-354.8712 4435.6981,-352.1447\"/>\n<polygon fill=\"#000000\" stroke=\"#000000\" points=\"4436.2186,-355.6085 4445.7709,-351.0255 4435.4455,-348.6513 4436.2186,-355.6085\"/>\n</g>\n<!-- &#45;23 -->\n<g id=\"node14\" class=\"node\">\n<title>&#45;23</title>\n<polygon fill=\"none\" stroke=\"#000000\" points=\"3648,-342 3570,-342 3570,-306 3648,-306 3648,-342\"/>\n<text text-anchor=\"middle\" x=\"3609\" y=\"-321.5\" font-family=\"Helvetica,sans-Serif\" font-size=\"10.00\" fill=\"#000000\">O_DECLINED</text>\n</g>\n<!-- 21 -->\n<g id=\"node63\" class=\"node\">\n<title>21</title>\n<ellipse fill=\"#d3d3d3\" stroke=\"#d3d3d3\" cx=\"3780\" cy=\"-289\" rx=\"18\" ry=\"18\"/>\n<text text-anchor=\"middle\" x=\"3780\" y=\"-286.5\" font-family=\"Helvetica,sans-Serif\" font-size=\"10.00\" fill=\"#000000\">21</text>\n</g>\n<!-- &#45;23&#45;&gt;21 -->\n<g id=\"edge58\" class=\"edge\">\n<title>&#45;23&#45;&gt;21</title>\n<path fill=\"none\" stroke=\"#000000\" d=\"M3648.2309,-315.9703C3680.0567,-309.4562 3724.1223,-300.437 3752.3479,-294.6598\"/>\n<polygon fill=\"#000000\" stroke=\"#000000\" points=\"3753.2365,-298.0505 3762.3316,-292.6163 3751.8328,-291.1927 3753.2365,-298.0505\"/>\n</g>\n<!-- &#45;24 -->\n<g id=\"node15\" class=\"node\">\n<title>&#45;24</title>\n<polygon fill=\"none\" stroke=\"#000000\" points=\"3647.5,-220 3570.5,-220 3570.5,-184 3647.5,-184 3647.5,-220\"/>\n<text text-anchor=\"middle\" x=\"3609\" y=\"-199.5\" font-family=\"Helvetica,sans-Serif\" font-size=\"10.00\" fill=\"#000000\">A_DECLINED</text>\n</g>\n<!-- 23 -->\n<g id=\"node65\" class=\"node\">\n<title>23</title>\n<ellipse fill=\"#d3d3d3\" stroke=\"#d3d3d3\" cx=\"3780\" cy=\"-215\" rx=\"18\" ry=\"18\"/>\n<text text-anchor=\"middle\" x=\"3780\" y=\"-212.5\" font-family=\"Helvetica,sans-Serif\" font-size=\"10.00\" fill=\"#000000\">23</text>\n</g>\n<!-- &#45;24&#45;&gt;23 -->\n<g id=\"edge71\" class=\"edge\">\n<title>&#45;24&#45;&gt;23</title>\n<path fill=\"none\" stroke=\"#000000\" d=\"M3647.8025,-204.9499C3679.4329,-207.3545 3723.3631,-210.6943 3751.7383,-212.8514\"/>\n<polygon fill=\"#000000\" stroke=\"#000000\" points=\"3751.5571,-216.3477 3761.7937,-213.6159 3752.0878,-209.3678 3751.5571,-216.3477\"/>\n</g>\n<!-- &#45;26 -->\n<g id=\"node16\" class=\"node\">\n<title>&#45;26</title>\n<polygon fill=\"none\" stroke=\"#000000\" points=\"4679,-400 4591,-400 4591,-364 4679,-364 4679,-400\"/>\n<text text-anchor=\"middle\" x=\"4635\" y=\"-379.5\" font-family=\"Helvetica,sans-Serif\" font-size=\"10.00\" fill=\"#000000\">O_SENT_BACK</text>\n</g>\n<!-- 24 -->\n<g id=\"node66\" class=\"node\">\n<title>24</title>\n<ellipse fill=\"#d3d3d3\" stroke=\"#d3d3d3\" cx=\"4806\" cy=\"-342\" rx=\"18\" ry=\"18\"/>\n<text text-anchor=\"middle\" x=\"4806\" y=\"-339.5\" font-family=\"Helvetica,sans-Serif\" font-size=\"10.00\" fill=\"#000000\">24</text>\n</g>\n<!-- &#45;26&#45;&gt;24 -->\n<g id=\"edge4\" class=\"edge\">\n<title>&#45;26&#45;&gt;24</title>\n<path fill=\"none\" stroke=\"#000000\" d=\"M4679.0367,-371.699C4710.3119,-364.3832 4751.3533,-354.7829 4778.1871,-348.506\"/>\n<polygon fill=\"#000000\" stroke=\"#000000\" points=\"4779.126,-351.8809 4788.066,-346.1951 4777.5316,-345.0649 4779.126,-351.8809\"/>\n</g>\n<!-- &#45;30 -->\n<g id=\"node17\" class=\"node\">\n<title>&#45;30</title>\n<polygon fill=\"none\" stroke=\"#000000\" points=\"6059.5,-391 5946.5,-391 5946.5,-355 6059.5,-355 6059.5,-391\"/>\n<text text-anchor=\"middle\" x=\"6003\" y=\"-370.5\" font-family=\"Helvetica,sans-Serif\" font-size=\"10.00\" fill=\"#000000\">W_Valideren aanvraag</text>\n</g>\n<!-- 26 -->\n<g id=\"node68\" class=\"node\">\n<title>26</title>\n<ellipse fill=\"#d3d3d3\" stroke=\"#d3d3d3\" cx=\"6174\" cy=\"-374\" rx=\"18\" ry=\"18\"/>\n<text text-anchor=\"middle\" x=\"6174\" y=\"-371.5\" font-family=\"Helvetica,sans-Serif\" font-size=\"10.00\" fill=\"#000000\">26</text>\n</g>\n<!-- &#45;30&#45;&gt;26 -->\n<g id=\"edge50\" class=\"edge\">\n<title>&#45;30&#45;&gt;26</title>\n<path fill=\"none\" stroke=\"#000000\" d=\"M6059.9405,-373.333C6088.6251,-373.5007 6122.1551,-373.6968 6145.4041,-373.8328\"/>\n<polygon fill=\"#000000\" stroke=\"#000000\" points=\"6145.596,-377.3339 6155.6163,-373.8925 6145.637,-370.334 6145.596,-377.3339\"/>\n</g>\n<!-- &#45;31 -->\n<g id=\"node18\" class=\"node\">\n<title>&#45;31</title>\n<polygon fill=\"none\" stroke=\"#000000\" points=\"5398,-336 5240,-336 5240,-300 5398,-300 5398,-336\"/>\n<text text-anchor=\"middle\" x=\"5319\" y=\"-315.5\" font-family=\"Helvetica,sans-Serif\" font-size=\"10.00\" fill=\"#000000\">W_Nabellen incomplete dossiers</text>\n</g>\n<!-- 28 -->\n<g id=\"node70\" class=\"node\">\n<title>28</title>\n<ellipse fill=\"#d3d3d3\" stroke=\"#d3d3d3\" cx=\"6174\" cy=\"-313\" rx=\"18\" ry=\"18\"/>\n<text text-anchor=\"middle\" x=\"6174\" y=\"-310.5\" font-family=\"Helvetica,sans-Serif\" font-size=\"10.00\" fill=\"#000000\">28</text>\n</g>\n<!-- &#45;31&#45;&gt;28 -->\n<g id=\"edge9\" class=\"edge\">\n<title>&#45;31&#45;&gt;28</title>\n<path fill=\"none\" stroke=\"#000000\" d=\"M5398.1261,-316.9127C5467.4416,-316.0541 5570.895,-315 5661,-315 5661,-315 5661,-315 5832,-315 5948.3033,-315 6086.8504,-313.8291 6145.5134,-313.2791\"/>\n<polygon fill=\"#000000\" stroke=\"#000000\" points=\"6145.8667,-316.776 6155.8329,-313.181 6145.8001,-309.7763 6145.8667,-316.776\"/>\n</g>\n<!-- &#45;32 -->\n<g id=\"node19\" class=\"node\">\n<title>&#45;32</title>\n<polygon fill=\"none\" stroke=\"#000000\" points=\"5360.5,-275 5277.5,-275 5277.5,-239 5360.5,-239 5360.5,-275\"/>\n<text text-anchor=\"middle\" x=\"5319\" y=\"-254.5\" font-family=\"Helvetica,sans-Serif\" font-size=\"10.00\" fill=\"#000000\">O_ACCEPTED</text>\n</g>\n<!-- 30 -->\n<g id=\"node72\" class=\"node\">\n<title>30</title>\n<ellipse fill=\"#d3d3d3\" stroke=\"#d3d3d3\" cx=\"5832\" cy=\"-257\" rx=\"18\" ry=\"18\"/>\n<text text-anchor=\"middle\" x=\"5832\" y=\"-254.5\" font-family=\"Helvetica,sans-Serif\" font-size=\"10.00\" fill=\"#000000\">30</text>\n</g>\n<!-- &#45;32&#45;&gt;30 -->\n<g id=\"edge33\" class=\"edge\">\n<title>&#45;32&#45;&gt;30</title>\n<path fill=\"none\" stroke=\"#000000\" d=\"M5360.5464,-257C5461.5496,-257 5717.9517,-257 5803.6295,-257\"/>\n<polygon fill=\"#000000\" stroke=\"#000000\" points=\"5803.8845,-260.5001 5813.8845,-257 5803.8845,-253.5001 5803.8845,-260.5001\"/>\n</g>\n<!-- &#45;35 -->\n<g id=\"node20\" class=\"node\">\n<title>&#45;35</title>\n<polygon fill=\"none\" stroke=\"#000000\" points=\"5707,-158 5615,-158 5615,-122 5707,-122 5707,-158\"/>\n<text text-anchor=\"middle\" x=\"5661\" y=\"-137.5\" font-family=\"Helvetica,sans-Serif\" font-size=\"10.00\" fill=\"#000000\">A_REGISTERED</text>\n</g>\n<!-- 34 -->\n<g id=\"node76\" class=\"node\">\n<title>34</title>\n<ellipse fill=\"#d3d3d3\" stroke=\"#d3d3d3\" cx=\"5832\" cy=\"-140\" rx=\"18\" ry=\"18\"/>\n<text text-anchor=\"middle\" x=\"5832\" y=\"-137.5\" font-family=\"Helvetica,sans-Serif\" font-size=\"10.00\" fill=\"#000000\">34</text>\n</g>\n<!-- &#45;35&#45;&gt;34 -->\n<g id=\"edge19\" class=\"edge\">\n<title>&#45;35&#45;&gt;34</title>\n<path fill=\"none\" stroke=\"#000000\" d=\"M5707.2751,-140C5738.0495,-140 5777.4798,-140 5803.6817,-140\"/>\n<polygon fill=\"#000000\" stroke=\"#000000\" points=\"5803.7013,-143.5001 5813.7013,-140 5803.7012,-136.5001 5803.7013,-143.5001\"/>\n</g>\n<!-- &#45;36 -->\n<g id=\"node21\" class=\"node\">\n<title>&#45;36</title>\n<polygon fill=\"none\" stroke=\"#000000\" points=\"5702.5,-97 5619.5,-97 5619.5,-61 5702.5,-61 5702.5,-97\"/>\n<text text-anchor=\"middle\" x=\"5661\" y=\"-76.5\" font-family=\"Helvetica,sans-Serif\" font-size=\"10.00\" fill=\"#000000\">A_APPROVED</text>\n</g>\n<!-- 36 -->\n<g id=\"node78\" class=\"node\">\n<title>36</title>\n<ellipse fill=\"#d3d3d3\" stroke=\"#d3d3d3\" cx=\"5832\" cy=\"-79\" rx=\"18\" ry=\"18\"/>\n<text text-anchor=\"middle\" x=\"5832\" y=\"-76.5\" font-family=\"Helvetica,sans-Serif\" font-size=\"10.00\" fill=\"#000000\">36</text>\n</g>\n<!-- &#45;36&#45;&gt;36 -->\n<g id=\"edge45\" class=\"edge\">\n<title>&#45;36&#45;&gt;36</title>\n<path fill=\"none\" stroke=\"#000000\" d=\"M5702.8313,-79C5734.0806,-79 5775.9684,-79 5803.4539,-79\"/>\n<polygon fill=\"#000000\" stroke=\"#000000\" points=\"5803.5795,-82.5001 5813.5795,-79 5803.5794,-75.5001 5803.5795,-82.5001\"/>\n</g>\n<!-- &#45;37 -->\n<g id=\"node22\" class=\"node\">\n<title>&#45;37</title>\n<polygon fill=\"none\" stroke=\"#000000\" points=\"5702.5,-36 5619.5,-36 5619.5,0 5702.5,0 5702.5,-36\"/>\n<text text-anchor=\"middle\" x=\"5661\" y=\"-15.5\" font-family=\"Helvetica,sans-Serif\" font-size=\"10.00\" fill=\"#000000\">A_ACTIVATED</text>\n</g>\n<!-- 38 -->\n<g id=\"node80\" class=\"node\">\n<title>38</title>\n<ellipse fill=\"#d3d3d3\" stroke=\"#d3d3d3\" cx=\"5832\" cy=\"-18\" rx=\"18\" ry=\"18\"/>\n<text text-anchor=\"middle\" x=\"5832\" y=\"-15.5\" font-family=\"Helvetica,sans-Serif\" font-size=\"10.00\" fill=\"#000000\">38</text>\n</g>\n<!-- &#45;37&#45;&gt;38 -->\n<g id=\"edge26\" class=\"edge\">\n<title>&#45;37&#45;&gt;38</title>\n<path fill=\"none\" stroke=\"#000000\" d=\"M5702.8313,-18C5734.0806,-18 5775.9684,-18 5803.4539,-18\"/>\n<polygon fill=\"#000000\" stroke=\"#000000\" points=\"5803.5795,-21.5001 5813.5795,-18 5803.5794,-14.5001 5803.5795,-21.5001\"/>\n</g>\n<!-- &#45;38 -->\n<g id=\"node23\" class=\"node\">\n<title>&#45;38</title>\n<polygon fill=\"none\" stroke=\"#000000\" points=\"5564,-219 5416,-219 5416,-183 5564,-183 5564,-219\"/>\n<text text-anchor=\"middle\" x=\"5490\" y=\"-198.5\" font-family=\"Helvetica,sans-Serif\" font-size=\"10.00\" fill=\"#000000\">W_Wijzigen contractgegevens</text>\n</g>\n<!-- 32 -->\n<g id=\"node74\" class=\"node\">\n<title>32</title>\n<ellipse fill=\"#d3d3d3\" stroke=\"#d3d3d3\" cx=\"6174\" cy=\"-201\" rx=\"18\" ry=\"18\"/>\n<text text-anchor=\"middle\" x=\"6174\" y=\"-198.5\" font-family=\"Helvetica,sans-Serif\" font-size=\"10.00\" fill=\"#000000\">32</text>\n</g>\n<!-- &#45;38&#45;&gt;32 -->\n<g id=\"edge20\" class=\"edge\">\n<title>&#45;38&#45;&gt;32</title>\n<path fill=\"none\" stroke=\"#000000\" d=\"M5564.1757,-201C5714.0162,-201 6046.9396,-201 6145.7977,-201\"/>\n<polygon fill=\"#000000\" stroke=\"#000000\" points=\"6145.9068,-204.5001 6155.9068,-201 6145.9067,-197.5001 6145.9068,-204.5001\"/>\n</g>\n<!-- &#45;4 -->\n<g id=\"node24\" class=\"node\">\n<title>&#45;4</title>\n<polygon fill=\"none\" stroke=\"#000000\" points=\"1242,-518 1188,-518 1188,-482 1242,-482 1242,-518\"/>\n<text text-anchor=\"middle\" x=\"1215\" y=\"-497.5\" font-family=\"Helvetica,sans-Serif\" font-size=\"10.00\" fill=\"#000000\">tau&#45;4</text>\n</g>\n<!-- &#45;4&#45;&gt;6 -->\n<g id=\"edge29\" class=\"edge\">\n<title>&#45;4&#45;&gt;6</title>\n<path fill=\"none\" stroke=\"#000000\" d=\"M1242.0955,-504.7536C1273.7396,-510.3052 1325.8291,-519.4437 1357.899,-525.07\"/>\n<polygon fill=\"#000000\" stroke=\"#000000\" points=\"1357.4945,-528.5524 1367.9489,-526.8331 1358.7042,-521.6577 1357.4945,-528.5524\"/>\n</g>\n<!-- &#45;8 -->\n<g id=\"node25\" class=\"node\">\n<title>&#45;8</title>\n<polygon fill=\"none\" stroke=\"#000000\" points=\"2268,-401 2214,-401 2214,-365 2268,-365 2268,-401\"/>\n<text text-anchor=\"middle\" x=\"2241\" y=\"-380.5\" font-family=\"Helvetica,sans-Serif\" font-size=\"10.00\" fill=\"#000000\">tau&#45;8</text>\n</g>\n<!-- &#45;8&#45;&gt;11 -->\n<g id=\"edge70\" class=\"edge\">\n<title>&#45;8&#45;&gt;11</title>\n<path fill=\"none\" stroke=\"#000000\" d=\"M2268.0436,-382.6016C2325.8495,-381.7856 2465.7299,-380 2583,-380 2583,-380 2583,-380 2754,-380 2870.9331,-380 3009.6075,-363.5394 3067.9415,-355.86\"/>\n<polygon fill=\"#000000\" stroke=\"#000000\" points=\"3068.4264,-359.3264 3077.8755,-354.5342 3067.5003,-352.3879 3068.4264,-359.3264\"/>\n</g>\n<!-- &#45;9 -->\n<g id=\"node26\" class=\"node\">\n<title>&#45;9</title>\n<polygon fill=\"none\" stroke=\"#000000\" points=\"2268,-340 2214,-340 2214,-304 2268,-304 2268,-340\"/>\n<text text-anchor=\"middle\" x=\"2241\" y=\"-319.5\" font-family=\"Helvetica,sans-Serif\" font-size=\"10.00\" fill=\"#000000\">tau&#45;9</text>\n</g>\n<!-- 12 -->\n<g id=\"node54\" class=\"node\">\n<title>12</title>\n<ellipse fill=\"#d3d3d3\" stroke=\"#d3d3d3\" cx=\"2412\" cy=\"-324\" rx=\"18\" ry=\"18\"/>\n<text text-anchor=\"middle\" x=\"2412\" y=\"-321.5\" font-family=\"Helvetica,sans-Serif\" font-size=\"10.00\" fill=\"#000000\">12</text>\n</g>\n<!-- &#45;9&#45;&gt;12 -->\n<g id=\"edge36\" class=\"edge\">\n<title>&#45;9&#45;&gt;12</title>\n<path fill=\"none\" stroke=\"#000000\" d=\"M2268.0955,-322.3169C2299.7396,-322.687 2351.8291,-323.2962 2383.899,-323.6713\"/>\n<polygon fill=\"#000000\" stroke=\"#000000\" points=\"2383.9086,-327.1716 2393.9489,-323.7889 2383.9906,-320.1721 2383.9086,-327.1716\"/>\n</g>\n<!-- 14 -->\n<g id=\"node56\" class=\"node\">\n<title>14</title>\n<ellipse fill=\"#d3d3d3\" stroke=\"#d3d3d3\" cx=\"2412\" cy=\"-263\" rx=\"18\" ry=\"18\"/>\n<text text-anchor=\"middle\" x=\"2412\" y=\"-260.5\" font-family=\"Helvetica,sans-Serif\" font-size=\"10.00\" fill=\"#000000\">14</text>\n</g>\n<!-- &#45;9&#45;&gt;14 -->\n<g id=\"edge39\" class=\"edge\">\n<title>&#45;9&#45;&gt;14</title>\n<path fill=\"none\" stroke=\"#000000\" d=\"M2268.0955,-312.6513C2300.2171,-301.5684 2353.4058,-283.2167 2385.3369,-272.1995\"/>\n<polygon fill=\"#000000\" stroke=\"#000000\" points=\"2386.592,-275.469 2394.9036,-268.8988 2384.3089,-268.8518 2386.592,-275.469\"/>\n</g>\n<!-- &#45;10 -->\n<g id=\"node27\" class=\"node\">\n<title>&#45;10</title>\n<polygon fill=\"none\" stroke=\"#000000\" points=\"2952,-342 2898,-342 2898,-306 2952,-306 2952,-342\"/>\n<text text-anchor=\"middle\" x=\"2925\" y=\"-321.5\" font-family=\"Helvetica,sans-Serif\" font-size=\"10.00\" fill=\"#000000\">tau&#45;10</text>\n</g>\n<!-- &#45;10&#45;&gt;11 -->\n<g id=\"edge62\" class=\"edge\">\n<title>&#45;10&#45;&gt;11</title>\n<path fill=\"none\" stroke=\"#000000\" d=\"M2952.0955,-328.4367C2983.7396,-333.6182 3035.8291,-342.1475 3067.899,-347.3987\"/>\n<polygon fill=\"#000000\" stroke=\"#000000\" points=\"3067.5147,-350.8823 3077.9489,-349.0443 3068.6459,-343.9743 3067.5147,-350.8823\"/>\n</g>\n<!-- &#45;14 -->\n<g id=\"node28\" class=\"node\">\n<title>&#45;14</title>\n<polygon fill=\"none\" stroke=\"#000000\" points=\"3294,-363 3240,-363 3240,-327 3294,-327 3294,-363\"/>\n<text text-anchor=\"middle\" x=\"3267\" y=\"-342.5\" font-family=\"Helvetica,sans-Serif\" font-size=\"10.00\" fill=\"#000000\">tau&#45;14</text>\n</g>\n<!-- &#45;14&#45;&gt;17 -->\n<g id=\"edge92\" class=\"edge\">\n<title>&#45;14&#45;&gt;17</title>\n<path fill=\"none\" stroke=\"#000000\" d=\"M3294.0955,-353.2396C3326.0471,-362.9558 3378.8436,-379.0109 3410.8283,-388.7373\"/>\n<polygon fill=\"#000000\" stroke=\"#000000\" points=\"3409.8432,-392.0959 3420.4289,-391.6567 3411.8798,-385.3987 3409.8432,-392.0959\"/>\n</g>\n<!-- &#45;16 -->\n<g id=\"node29\" class=\"node\">\n<title>&#45;16</title>\n<polygon fill=\"none\" stroke=\"#000000\" points=\"3978,-393 3924,-393 3924,-357 3978,-357 3978,-393\"/>\n<text text-anchor=\"middle\" x=\"3951\" y=\"-372.5\" font-family=\"Helvetica,sans-Serif\" font-size=\"10.00\" fill=\"#000000\">tau&#45;16</text>\n</g>\n<!-- &#45;16&#45;&gt;18 -->\n<g id=\"edge21\" class=\"edge\">\n<title>&#45;16&#45;&gt;18</title>\n<path fill=\"none\" stroke=\"#000000\" d=\"M3978.0955,-375C4009.7396,-375 4061.8291,-375 4093.899,-375\"/>\n<polygon fill=\"#000000\" stroke=\"#000000\" points=\"4093.949,-378.5001 4103.9489,-375 4093.9489,-371.5001 4093.949,-378.5001\"/>\n</g>\n<!-- &#45;20 -->\n<g id=\"node30\" class=\"node\">\n<title>&#45;20</title>\n<polygon fill=\"none\" stroke=\"#000000\" points=\"3294,-295 3240,-295 3240,-259 3294,-259 3294,-295\"/>\n<text text-anchor=\"middle\" x=\"3267\" y=\"-274.5\" font-family=\"Helvetica,sans-Serif\" font-size=\"10.00\" fill=\"#000000\">tau&#45;20</text>\n</g>\n<!-- 20 -->\n<g id=\"node62\" class=\"node\">\n<title>20</title>\n<ellipse fill=\"#d3d3d3\" stroke=\"#d3d3d3\" cx=\"3438\" cy=\"-277\" rx=\"18\" ry=\"18\"/>\n<text text-anchor=\"middle\" x=\"3438\" y=\"-274.5\" font-family=\"Helvetica,sans-Serif\" font-size=\"10.00\" fill=\"#000000\">20</text>\n</g>\n<!-- &#45;20&#45;&gt;20 -->\n<g id=\"edge81\" class=\"edge\">\n<title>&#45;20&#45;&gt;20</title>\n<path fill=\"none\" stroke=\"#000000\" d=\"M3294.0955,-277C3325.7396,-277 3377.8291,-277 3409.899,-277\"/>\n<polygon fill=\"#000000\" stroke=\"#000000\" points=\"3409.949,-280.5001 3419.9489,-277 3409.9489,-273.5001 3409.949,-280.5001\"/>\n</g>\n<!-- 22 -->\n<g id=\"node64\" class=\"node\">\n<title>22</title>\n<ellipse fill=\"#d3d3d3\" stroke=\"#d3d3d3\" cx=\"3438\" cy=\"-202\" rx=\"18\" ry=\"18\"/>\n<text text-anchor=\"middle\" x=\"3438\" y=\"-199.5\" font-family=\"Helvetica,sans-Serif\" font-size=\"10.00\" fill=\"#000000\">22</text>\n</g>\n<!-- &#45;20&#45;&gt;22 -->\n<g id=\"edge56\" class=\"edge\">\n<title>&#45;20&#45;&gt;22</title>\n<path fill=\"none\" stroke=\"#000000\" d=\"M3294.0955,-265.116C3326.387,-250.9531 3379.9692,-227.4521 3411.842,-213.4728\"/>\n<polygon fill=\"#000000\" stroke=\"#000000\" points=\"3413.6209,-216.5145 3421.373,-209.2926 3410.8092,-210.104 3413.6209,-216.5145\"/>\n</g>\n<!-- &#45;21 -->\n<g id=\"node31\" class=\"node\">\n<title>&#45;21</title>\n<polygon fill=\"none\" stroke=\"#000000\" points=\"3978,-307 3924,-307 3924,-271 3978,-271 3978,-307\"/>\n<text text-anchor=\"middle\" x=\"3951\" y=\"-286.5\" font-family=\"Helvetica,sans-Serif\" font-size=\"10.00\" fill=\"#000000\">tau&#45;21</text>\n</g>\n<!-- &#45;21&#45;&gt;16 -->\n<g id=\"edge35\" class=\"edge\">\n<title>&#45;21&#45;&gt;16</title>\n<path fill=\"none\" stroke=\"#000000\" d=\"M3978.2189,-292.1835C4066.7958,-302.5434 4346.2684,-335.2302 4435.9823,-345.7231\"/>\n<polygon fill=\"#000000\" stroke=\"#000000\" points=\"4435.6178,-349.2042 4445.9567,-346.8897 4436.431,-342.2516 4435.6178,-349.2042\"/>\n</g>\n<!-- &#45;22 -->\n<g id=\"node32\" class=\"node\">\n<title>&#45;22</title>\n<polygon fill=\"none\" stroke=\"#000000\" points=\"3636,-281 3582,-281 3582,-245 3636,-245 3636,-281\"/>\n<text text-anchor=\"middle\" x=\"3609\" y=\"-260.5\" font-family=\"Helvetica,sans-Serif\" font-size=\"10.00\" fill=\"#000000\">tau&#45;22</text>\n</g>\n<!-- &#45;22&#45;&gt;21 -->\n<g id=\"edge5\" class=\"edge\">\n<title>&#45;22&#45;&gt;21</title>\n<path fill=\"none\" stroke=\"#000000\" d=\"M3636.0955,-267.1198C3667.7396,-271.9312 3719.8291,-279.8512 3751.899,-284.7273\"/>\n<polygon fill=\"#000000\" stroke=\"#000000\" points=\"3751.5364,-288.2123 3761.9489,-286.2554 3752.5887,-281.2919 3751.5364,-288.2123\"/>\n</g>\n<!-- &#45;25 -->\n<g id=\"node33\" class=\"node\">\n<title>&#45;25</title>\n<polygon fill=\"none\" stroke=\"#000000\" points=\"4662,-339 4608,-339 4608,-303 4662,-303 4662,-339\"/>\n<text text-anchor=\"middle\" x=\"4635\" y=\"-318.5\" font-family=\"Helvetica,sans-Serif\" font-size=\"10.00\" fill=\"#000000\">tau&#45;25</text>\n</g>\n<!-- &#45;25&#45;&gt;24 -->\n<g id=\"edge83\" class=\"edge\">\n<title>&#45;25&#45;&gt;24</title>\n<path fill=\"none\" stroke=\"#000000\" d=\"M4662.0955,-324.3275C4693.7396,-328.2136 4745.8291,-334.6106 4777.899,-338.549\"/>\n<polygon fill=\"#000000\" stroke=\"#000000\" points=\"4777.5968,-342.0381 4787.9489,-339.7832 4778.4501,-335.0903 4777.5968,-342.0381\"/>\n</g>\n<!-- &#45;27 -->\n<g id=\"node34\" class=\"node\">\n<title>&#45;27</title>\n<polygon fill=\"none\" stroke=\"#000000\" points=\"6030,-452 5976,-452 5976,-416 6030,-416 6030,-452\"/>\n<text text-anchor=\"middle\" x=\"6003\" y=\"-431.5\" font-family=\"Helvetica,sans-Serif\" font-size=\"10.00\" fill=\"#000000\">tau&#45;27</text>\n</g>\n<!-- 10 -->\n<g id=\"node52\" class=\"node\">\n<title>10</title>\n<ellipse fill=\"#d3d3d3\" stroke=\"#d3d3d3\" cx=\"6516\" cy=\"-430\" rx=\"18\" ry=\"18\"/>\n<text text-anchor=\"middle\" x=\"6516\" y=\"-427.5\" font-family=\"Helvetica,sans-Serif\" font-size=\"10.00\" fill=\"#000000\">10</text>\n</g>\n<!-- &#45;27&#45;&gt;10 -->\n<g id=\"edge72\" class=\"edge\">\n<title>&#45;27&#45;&gt;10</title>\n<path fill=\"none\" stroke=\"#000000\" d=\"M6030.2189,-433.7878C6118.7058,-433.0978 6397.7006,-430.9224 6487.7082,-430.2206\"/>\n<polygon fill=\"#000000\" stroke=\"#000000\" points=\"6487.9844,-433.7186 6497.9567,-430.1407 6487.9297,-426.7189 6487.9844,-433.7186\"/>\n</g>\n<!-- &#45;28 -->\n<g id=\"node35\" class=\"node\">\n<title>&#45;28</title>\n<polygon fill=\"none\" stroke=\"#000000\" points=\"5004,-336 4950,-336 4950,-300 5004,-300 5004,-336\"/>\n<text text-anchor=\"middle\" x=\"4977\" y=\"-315.5\" font-family=\"Helvetica,sans-Serif\" font-size=\"10.00\" fill=\"#000000\">tau&#45;28</text>\n</g>\n<!-- 25 -->\n<g id=\"node67\" class=\"node\">\n<title>25</title>\n<ellipse fill=\"#d3d3d3\" stroke=\"#d3d3d3\" cx=\"5661\" cy=\"-373\" rx=\"18\" ry=\"18\"/>\n<text text-anchor=\"middle\" x=\"5661\" y=\"-370.5\" font-family=\"Helvetica,sans-Serif\" font-size=\"10.00\" fill=\"#000000\">25</text>\n</g>\n<!-- &#45;28&#45;&gt;25 -->\n<g id=\"edge90\" class=\"edge\">\n<title>&#45;28&#45;&gt;25</title>\n<path fill=\"none\" stroke=\"#000000\" d=\"M5004.1694,-324.5806C5034.6103,-331.6595 5085.5259,-342.6223 5130,-348 5320.7639,-371.0669 5552.4691,-373.1495 5632.3349,-373.1232\"/>\n<polygon fill=\"#000000\" stroke=\"#000000\" points=\"5632.582,-376.6229 5642.5765,-373.1075 5632.5711,-369.6229 5632.582,-376.6229\"/>\n</g>\n<!-- 27 -->\n<g id=\"node69\" class=\"node\">\n<title>27</title>\n<ellipse fill=\"#d3d3d3\" stroke=\"#d3d3d3\" cx=\"5148\" cy=\"-318\" rx=\"18\" ry=\"18\"/>\n<text text-anchor=\"middle\" x=\"5148\" y=\"-315.5\" font-family=\"Helvetica,sans-Serif\" font-size=\"10.00\" fill=\"#000000\">27</text>\n</g>\n<!-- &#45;28&#45;&gt;27 -->\n<g id=\"edge12\" class=\"edge\">\n<title>&#45;28&#45;&gt;27</title>\n<path fill=\"none\" stroke=\"#000000\" d=\"M5004.0955,-318C5035.7396,-318 5087.8291,-318 5119.899,-318\"/>\n<polygon fill=\"#000000\" stroke=\"#000000\" points=\"5119.949,-321.5001 5129.9489,-318 5119.9489,-314.5001 5119.949,-321.5001\"/>\n</g>\n<!-- 29 -->\n<g id=\"node71\" class=\"node\">\n<title>29</title>\n<ellipse fill=\"#d3d3d3\" stroke=\"#d3d3d3\" cx=\"5148\" cy=\"-257\" rx=\"18\" ry=\"18\"/>\n<text text-anchor=\"middle\" x=\"5148\" y=\"-254.5\" font-family=\"Helvetica,sans-Serif\" font-size=\"10.00\" fill=\"#000000\">29</text>\n</g>\n<!-- &#45;28&#45;&gt;29 -->\n<g id=\"edge51\" class=\"edge\">\n<title>&#45;28&#45;&gt;29</title>\n<path fill=\"none\" stroke=\"#000000\" d=\"M5004.0955,-308.3344C5036.2171,-296.8758 5089.4058,-277.902 5121.3369,-266.5114\"/>\n<polygon fill=\"#000000\" stroke=\"#000000\" points=\"5122.6609,-269.7552 5130.9036,-263.0987 5120.3089,-263.1621 5122.6609,-269.7552\"/>\n</g>\n<!-- 31 -->\n<g id=\"node73\" class=\"node\">\n<title>31</title>\n<ellipse fill=\"#d3d3d3\" stroke=\"#d3d3d3\" cx=\"5148\" cy=\"-196\" rx=\"18\" ry=\"18\"/>\n<text text-anchor=\"middle\" x=\"5148\" y=\"-193.5\" font-family=\"Helvetica,sans-Serif\" font-size=\"10.00\" fill=\"#000000\">31</text>\n</g>\n<!-- &#45;28&#45;&gt;31 -->\n<g id=\"edge24\" class=\"edge\">\n<title>&#45;28&#45;&gt;31</title>\n<path fill=\"none\" stroke=\"#000000\" d=\"M5002.2316,-299.9985C5035.3502,-276.37 5093.0156,-235.2286 5124.9909,-212.4159\"/>\n<polygon fill=\"#000000\" stroke=\"#000000\" points=\"5127.1787,-215.1544 5133.2865,-206.4973 5123.1132,-209.456 5127.1787,-215.1544\"/>\n</g>\n<!-- &#45;29 -->\n<g id=\"node36\" class=\"node\">\n<title>&#45;29</title>\n<polygon fill=\"none\" stroke=\"#000000\" points=\"6372,-331 6318,-331 6318,-295 6372,-295 6372,-331\"/>\n<text text-anchor=\"middle\" x=\"6345\" y=\"-310.5\" font-family=\"Helvetica,sans-Serif\" font-size=\"10.00\" fill=\"#000000\">tau&#45;29</text>\n</g>\n<!-- &#45;29&#45;&gt;10 -->\n<g id=\"edge97\" class=\"edge\">\n<title>&#45;29&#45;&gt;10</title>\n<path fill=\"none\" stroke=\"#000000\" d=\"M6371.344,-331.0248C6404.4281,-353.6613 6460.6905,-392.1567 6492.4189,-413.8656\"/>\n<polygon fill=\"#000000\" stroke=\"#000000\" points=\"6490.8223,-417.014 6501.0518,-419.7723 6494.7751,-411.2368 6490.8223,-417.014\"/>\n</g>\n<!-- &#45;33 -->\n<g id=\"node37\" class=\"node\">\n<title>&#45;33</title>\n<polygon fill=\"none\" stroke=\"#000000\" points=\"5346,-128 5292,-128 5292,-92 5346,-92 5346,-128\"/>\n<text text-anchor=\"middle\" x=\"5319\" y=\"-107.5\" font-family=\"Helvetica,sans-Serif\" font-size=\"10.00\" fill=\"#000000\">tau&#45;33</text>\n</g>\n<!-- 33 -->\n<g id=\"node75\" class=\"node\">\n<title>33</title>\n<ellipse fill=\"#d3d3d3\" stroke=\"#d3d3d3\" cx=\"5490\" cy=\"-140\" rx=\"18\" ry=\"18\"/>\n<text text-anchor=\"middle\" x=\"5490\" y=\"-137.5\" font-family=\"Helvetica,sans-Serif\" font-size=\"10.00\" fill=\"#000000\">33</text>\n</g>\n<!-- &#45;33&#45;&gt;33 -->\n<g id=\"edge88\" class=\"edge\">\n<title>&#45;33&#45;&gt;33</title>\n<path fill=\"none\" stroke=\"#000000\" d=\"M5346.0955,-114.7536C5377.7396,-120.3052 5429.8291,-129.4437 5461.899,-135.07\"/>\n<polygon fill=\"#000000\" stroke=\"#000000\" points=\"5461.4945,-138.5524 5471.9489,-136.8331 5462.7042,-131.6577 5461.4945,-138.5524\"/>\n</g>\n<!-- 35 -->\n<g id=\"node77\" class=\"node\">\n<title>35</title>\n<ellipse fill=\"#d3d3d3\" stroke=\"#d3d3d3\" cx=\"5490\" cy=\"-79\" rx=\"18\" ry=\"18\"/>\n<text text-anchor=\"middle\" x=\"5490\" y=\"-76.5\" font-family=\"Helvetica,sans-Serif\" font-size=\"10.00\" fill=\"#000000\">35</text>\n</g>\n<!-- &#45;33&#45;&gt;35 -->\n<g id=\"edge73\" class=\"edge\">\n<title>&#45;33&#45;&gt;35</title>\n<path fill=\"none\" stroke=\"#000000\" d=\"M5346.0955,-105.088C5377.7396,-99.3513 5429.8291,-89.9082 5461.899,-84.0943\"/>\n<polygon fill=\"#000000\" stroke=\"#000000\" points=\"5462.7337,-87.5002 5471.9489,-82.2724 5461.4849,-80.6124 5462.7337,-87.5002\"/>\n</g>\n<!-- 37 -->\n<g id=\"node79\" class=\"node\">\n<title>37</title>\n<ellipse fill=\"#d3d3d3\" stroke=\"#d3d3d3\" cx=\"5490\" cy=\"-18\" rx=\"18\" ry=\"18\"/>\n<text text-anchor=\"middle\" x=\"5490\" y=\"-15.5\" font-family=\"Helvetica,sans-Serif\" font-size=\"10.00\" fill=\"#000000\">37</text>\n</g>\n<!-- &#45;33&#45;&gt;37 -->\n<g id=\"edge74\" class=\"edge\">\n<title>&#45;33&#45;&gt;37</title>\n<path fill=\"none\" stroke=\"#000000\" d=\"M5344.575,-91.8165C5363.6995,-78.6796 5390.7865,-61.0286 5416,-48 5431.1628,-40.1649 5448.8567,-32.9273 5463.1402,-27.5247\"/>\n<polygon fill=\"#000000\" stroke=\"#000000\" points=\"5464.6878,-30.6841 5472.853,-23.9327 5462.2598,-24.1186 5464.6878,-30.6841\"/>\n</g>\n<!-- &#45;34 -->\n<g id=\"node38\" class=\"node\">\n<title>&#45;34</title>\n<polygon fill=\"none\" stroke=\"#000000\" points=\"6030,-128 5976,-128 5976,-92 6030,-92 6030,-128\"/>\n<text text-anchor=\"middle\" x=\"6003\" y=\"-107.5\" font-family=\"Helvetica,sans-Serif\" font-size=\"10.00\" fill=\"#000000\">tau&#45;34</text>\n</g>\n<!-- &#45;34&#45;&gt;32 -->\n<g id=\"edge25\" class=\"edge\">\n<title>&#45;34&#45;&gt;32</title>\n<path fill=\"none\" stroke=\"#000000\" d=\"M6030.0955,-124.4192C6062.6975,-141.7688 6117.0016,-170.6675 6148.7553,-187.5657\"/>\n<polygon fill=\"#000000\" stroke=\"#000000\" points=\"6147.3648,-190.7904 6157.8369,-192.3986 6150.6534,-184.611 6147.3648,-190.7904\"/>\n</g>\n<!-- &#45;39 -->\n<g id=\"node39\" class=\"node\">\n<title>&#45;39</title>\n<polygon fill=\"none\" stroke=\"#000000\" points=\"6714,-507 6660,-507 6660,-471 6714,-471 6714,-507\"/>\n<text text-anchor=\"middle\" x=\"6687\" y=\"-486.5\" font-family=\"Helvetica,sans-Serif\" font-size=\"10.00\" fill=\"#000000\">tau&#45;39</text>\n</g>\n<!-- &#45;39&#45;&gt;9 -->\n<g id=\"edge86\" class=\"edge\">\n<title>&#45;39&#45;&gt;9</title>\n<path fill=\"none\" stroke=\"#000000\" d=\"M6659.9564,-489.3984C6602.1505,-490.2144 6462.2701,-492 6345,-492 2412,-492 2412,-492 2412,-492 2293.7829,-492 2155.2627,-460.6929 2097.4789,-446.2021\"/>\n<polygon fill=\"#000000\" stroke=\"#000000\" points=\"2098.2062,-442.7757 2087.6521,-443.7034 2096.4811,-449.5599 2098.2062,-442.7757\"/>\n</g>\n<!-- &#45;40 -->\n<g id=\"node40\" class=\"node\">\n<title>&#45;40</title>\n<polygon fill=\"none\" stroke=\"#000000\" points=\"6714,-446 6660,-446 6660,-410 6714,-410 6714,-446\"/>\n<text text-anchor=\"middle\" x=\"6687\" y=\"-425.5\" font-family=\"Helvetica,sans-Serif\" font-size=\"10.00\" fill=\"#000000\">tau&#45;40</text>\n</g>\n<!-- 7 -->\n<g id=\"node49\" class=\"node\">\n<title>7</title>\n<ellipse fill=\"#d3d3d3\" stroke=\"#d3d3d3\" cx=\"6858\" cy=\"-442\" rx=\"18\" ry=\"18\"/>\n<text text-anchor=\"middle\" x=\"6858\" y=\"-439.5\" font-family=\"Helvetica,sans-Serif\" font-size=\"10.00\" fill=\"#000000\">7</text>\n</g>\n<!-- &#45;40&#45;&gt;7 -->\n<g id=\"edge94\" class=\"edge\">\n<title>&#45;40&#45;&gt;7</title>\n<path fill=\"none\" stroke=\"#000000\" d=\"M6714.0955,-430.2183C6745.7396,-432.8091 6797.8291,-437.0737 6829.899,-439.6993\"/>\n<polygon fill=\"#000000\" stroke=\"#000000\" points=\"6829.6966,-443.1944 6839.9489,-440.5221 6830.2679,-436.2177 6829.6966,-443.1944\"/>\n</g>\n<!-- &#45;41 -->\n<g id=\"node41\" class=\"node\">\n<title>&#45;41</title>\n<polygon fill=\"none\" stroke=\"#000000\" points=\"7056,-549 7002,-549 7002,-513 7056,-513 7056,-549\"/>\n<text text-anchor=\"middle\" x=\"7029\" y=\"-528.5\" font-family=\"Helvetica,sans-Serif\" font-size=\"10.00\" fill=\"#000000\">tau&#45;41</text>\n</g>\n<!-- &#45;41&#45;&gt;6 -->\n<g id=\"edge23\" class=\"edge\">\n<title>&#45;41&#45;&gt;6</title>\n<path fill=\"none\" stroke=\"#000000\" d=\"M7001.971,-532.8591C6944.1933,-536.6674 6804.3638,-545 6687,-545 1728,-545 1728,-545 1728,-545 1611.5868,-545 1473.098,-536.2184 1414.4685,-532.0935\"/>\n<polygon fill=\"#000000\" stroke=\"#000000\" points=\"1414.3788,-528.5783 1404.155,-531.3576 1413.8805,-535.5606 1414.3788,-528.5783\"/>\n</g>\n<!-- &#45;42 -->\n<g id=\"node42\" class=\"node\">\n<title>&#45;42</title>\n<polygon fill=\"none\" stroke=\"#000000\" points=\"7056,-460 7002,-460 7002,-424 7056,-424 7056,-460\"/>\n<text text-anchor=\"middle\" x=\"7029\" y=\"-439.5\" font-family=\"Helvetica,sans-Serif\" font-size=\"10.00\" fill=\"#000000\">tau&#45;42</text>\n</g>\n<!-- 2 -->\n<g id=\"node44\" class=\"node\">\n<title>2</title>\n<ellipse fill=\"#d3d3d3\" stroke=\"#d3d3d3\" cx=\"7200\" cy=\"-442\" rx=\"18\" ry=\"18\"/>\n<text text-anchor=\"middle\" x=\"7200\" y=\"-439.5\" font-family=\"Helvetica,sans-Serif\" font-size=\"10.00\" fill=\"#000000\">2</text>\n</g>\n<!-- &#45;42&#45;&gt;2 -->\n<g id=\"edge34\" class=\"edge\">\n<title>&#45;42&#45;&gt;2</title>\n<path fill=\"none\" stroke=\"#000000\" d=\"M7056.0955,-442C7087.7396,-442 7139.8291,-442 7171.899,-442\"/>\n<polygon fill=\"#000000\" stroke=\"#000000\" points=\"7171.949,-445.5001 7181.9489,-442 7171.9489,-438.5001 7171.949,-445.5001\"/>\n</g>\n<!-- 1 -->\n<g id=\"node43\" class=\"node\">\n<title>1</title>\n<ellipse fill=\"#d3d3d3\" stroke=\"#d3d3d3\" cx=\"18\" cy=\"-530\" rx=\"18\" ry=\"18\"/>\n<text text-anchor=\"middle\" x=\"18\" y=\"-527.5\" font-family=\"Helvetica,sans-Serif\" font-size=\"10.00\" fill=\"#000000\">1</text>\n</g>\n<!-- 1&#45;&gt;&#45;1 -->\n<g id=\"edge6\" class=\"edge\">\n<title>1&#45;&gt;&#45;1</title>\n<path fill=\"none\" stroke=\"#000000\" d=\"M36.3,-530C59.8025,-530 101.6058,-530 135.5382,-530\"/>\n<polygon fill=\"#000000\" stroke=\"#000000\" points=\"135.7874,-533.5001 145.7873,-530 135.7873,-526.5001 135.7874,-533.5001\"/>\n</g>\n<!-- 3&#45;&gt;&#45;2 -->\n<g id=\"edge22\" class=\"edge\">\n<title>3&#45;&gt;&#45;2</title>\n<path fill=\"none\" stroke=\"#000000\" d=\"M378.3,-530C397.7221,-530 429.6419,-530 459.2897,-530\"/>\n<polygon fill=\"#000000\" stroke=\"#000000\" points=\"459.6576,-533.5001 469.6576,-530 459.6575,-526.5001 459.6576,-533.5001\"/>\n</g>\n<!-- 4&#45;&gt;&#45;3 -->\n<g id=\"edge89\" class=\"edge\">\n<title>4&#45;&gt;&#45;3</title>\n<path fill=\"none\" stroke=\"#000000\" d=\"M720.3,-530C741.9908,-530 779.2697,-530 811.5629,-530\"/>\n<polygon fill=\"#000000\" stroke=\"#000000\" points=\"811.8464,-533.5001 821.8464,-530 811.8464,-526.5001 811.8464,-533.5001\"/>\n</g>\n<!-- 5&#45;&gt;&#45;5 -->\n<g id=\"edge59\" class=\"edge\">\n<title>5&#45;&gt;&#45;5</title>\n<path fill=\"none\" stroke=\"#000000\" d=\"M1061.9768,-533.259C1082.7907,-537.0322 1118.2623,-543.4628 1149.8156,-549.1829\"/>\n<polygon fill=\"#000000\" stroke=\"#000000\" points=\"1149.4349,-552.6709 1159.8989,-551.0109 1150.6836,-545.7832 1149.4349,-552.6709\"/>\n</g>\n<!-- 5&#45;&gt;&#45;4 -->\n<g id=\"edge40\" class=\"edge\">\n<title>5&#45;&gt;&#45;4</title>\n<path fill=\"none\" stroke=\"#000000\" d=\"M1061.9768,-526.8462C1089.2926,-522.0539 1141.8538,-512.8327 1177.6721,-506.5487\"/>\n<polygon fill=\"#000000\" stroke=\"#000000\" points=\"1178.5047,-509.9562 1187.7495,-504.7808 1177.2951,-503.0615 1178.5047,-509.9562\"/>\n</g>\n<!-- 6&#45;&gt;&#45;6 -->\n<g id=\"edge52\" class=\"edge\">\n<title>6&#45;&gt;&#45;6</title>\n<path fill=\"none\" stroke=\"#000000\" d=\"M1403.3374,-524.8292C1424.4982,-518.5181 1461.4662,-507.4925 1493.8392,-497.8374\"/>\n<polygon fill=\"#000000\" stroke=\"#000000\" points=\"1495.1333,-501.1039 1503.7158,-494.8918 1493.1326,-494.3959 1495.1333,-501.1039\"/>\n</g>\n<!-- 7&#45;&gt;&#45;41 -->\n<g id=\"edge63\" class=\"edge\">\n<title>7&#45;&gt;&#45;41</title>\n<path fill=\"none\" stroke=\"#000000\" d=\"M6874.0873,-450.3729C6901.1431,-464.4546 6956.3869,-493.2072 6993.0568,-512.2927\"/>\n<polygon fill=\"#000000\" stroke=\"#000000\" points=\"6991.4646,-515.4097 7001.951,-516.9219 6994.6964,-509.2003 6991.4646,-515.4097\"/>\n</g>\n<!-- 7&#45;&gt;&#45;42 -->\n<g id=\"edge41\" class=\"edge\">\n<title>7&#45;&gt;&#45;42</title>\n<path fill=\"none\" stroke=\"#000000\" d=\"M6876.3,-442C6903.7463,-442 6956.1505,-442 6991.8316,-442\"/>\n<polygon fill=\"#000000\" stroke=\"#000000\" points=\"6991.8692,-445.5001 7001.8691,-442 6991.8691,-438.5001 6991.8692,-445.5001\"/>\n</g>\n<!-- 8&#45;&gt;&#45;7 -->\n<g id=\"edge14\" class=\"edge\">\n<title>8&#45;&gt;&#45;7</title>\n<path fill=\"none\" stroke=\"#000000\" d=\"M1745.9768,-454.8436C1764.7696,-453.6347 1795.5116,-451.6571 1824.5298,-449.7905\"/>\n<polygon fill=\"#000000\" stroke=\"#000000\" points=\"1824.9449,-453.2711 1834.6996,-449.1363 1824.4955,-446.2855 1824.9449,-453.2711\"/>\n</g>\n<!-- 9&#45;&gt;&#45;13 -->\n<g id=\"edge85\" class=\"edge\">\n<title>9&#45;&gt;&#45;13</title>\n<path fill=\"none\" stroke=\"#000000\" d=\"M2088.1673,-439C2139.1996,-439 2288.2031,-439 2412,-439 2412,-439 2412,-439 2583,-439 2685.0153,-439 2804.1409,-437.6488 2871.4616,-436.76\"/>\n<polygon fill=\"#000000\" stroke=\"#000000\" points=\"2871.8585,-440.2551 2881.8108,-436.6216 2871.7649,-433.2557 2871.8585,-440.2551\"/>\n</g>\n<!-- 9&#45;&gt;&#45;8 -->\n<g id=\"edge57\" class=\"edge\">\n<title>9&#45;&gt;&#45;8</title>\n<path fill=\"none\" stroke=\"#000000\" d=\"M2087.3374,-433.3222C2114.5791,-424.401 2168.0182,-406.9005 2204.1254,-395.0759\"/>\n<polygon fill=\"#000000\" stroke=\"#000000\" points=\"2205.3997,-398.3416 2213.8138,-391.9031 2203.2211,-391.6892 2205.3997,-398.3416\"/>\n</g>\n<!-- 9&#45;&gt;&#45;9 -->\n<g id=\"edge10\" class=\"edge\">\n<title>9&#45;&gt;&#45;9</title>\n<path fill=\"none\" stroke=\"#000000\" d=\"M2084.876,-428.8217C2111.6563,-410.4983 2168.6506,-371.5022 2205.8644,-346.0402\"/>\n<polygon fill=\"#000000\" stroke=\"#000000\" points=\"2208.1307,-348.7304 2214.4074,-340.195 2204.1779,-342.9533 2208.1307,-348.7304\"/>\n</g>\n<!-- 10&#45;&gt;&#45;39 -->\n<g id=\"edge27\" class=\"edge\">\n<title>10&#45;&gt;&#45;39</title>\n<path fill=\"none\" stroke=\"#000000\" d=\"M6533.0213,-435.8728C6560.2019,-445.251 6614.0286,-463.8227 6650.2777,-476.3297\"/>\n<polygon fill=\"#000000\" stroke=\"#000000\" points=\"6649.4042,-479.7308 6659.9989,-479.6838 6651.6873,-473.1136 6649.4042,-479.7308\"/>\n</g>\n<!-- 10&#45;&gt;&#45;40 -->\n<g id=\"edge93\" class=\"edge\">\n<title>10&#45;&gt;&#45;40</title>\n<path fill=\"none\" stroke=\"#000000\" d=\"M6534.3,-429.786C6561.7463,-429.465 6614.1505,-428.852 6649.8316,-428.4347\"/>\n<polygon fill=\"#000000\" stroke=\"#000000\" points=\"6649.9108,-431.9341 6659.8691,-428.3173 6649.8288,-424.9346 6649.9108,-431.9341\"/>\n</g>\n<!-- 11&#45;&gt;&#45;15 -->\n<g id=\"edge54\" class=\"edge\">\n<title>11&#45;&gt;&#45;15</title>\n<path fill=\"none\" stroke=\"#000000\" d=\"M3113.3374,-357.475C3136.5987,-364.8206 3178.961,-378.1982 3213.3237,-389.0496\"/>\n<polygon fill=\"#000000\" stroke=\"#000000\" points=\"3212.6501,-392.5072 3223.2399,-392.181 3214.7581,-385.8321 3212.6501,-392.5072\"/>\n</g>\n<!-- 11&#45;&gt;&#45;14 -->\n<g id=\"edge67\" class=\"edge\">\n<title>11&#45;&gt;&#45;14</title>\n<path fill=\"none\" stroke=\"#000000\" d=\"M3114.3,-351.2509C3141.7463,-350.1273 3194.1505,-347.9821 3229.8316,-346.5215\"/>\n<polygon fill=\"#000000\" stroke=\"#000000\" points=\"3230.0207,-350.0168 3239.8691,-346.1106 3229.7343,-343.0227 3230.0207,-350.0168\"/>\n</g>\n<!-- 11&#45;&gt;&#45;20 -->\n<g id=\"edge84\" class=\"edge\">\n<title>11&#45;&gt;&#45;20</title>\n<path fill=\"none\" stroke=\"#000000\" d=\"M3112.7075,-344.6721C3139.8627,-332.762 3194.1958,-308.9317 3230.587,-292.9706\"/>\n<polygon fill=\"#000000\" stroke=\"#000000\" points=\"3232.1289,-296.1163 3239.8809,-288.8943 3229.3172,-289.7057 3232.1289,-296.1163\"/>\n</g>\n<!-- 12&#45;&gt;&#45;11 -->\n<g id=\"edge38\" class=\"edge\">\n<title>12&#45;&gt;&#45;11</title>\n<path fill=\"none\" stroke=\"#000000\" d=\"M2430.3,-324C2454.3491,-324 2497.56,-324 2531.8925,-324\"/>\n<polygon fill=\"#000000\" stroke=\"#000000\" points=\"2532.2314,-327.5001 2542.2314,-324 2532.2313,-320.5001 2532.2314,-327.5001\"/>\n</g>\n<!-- 13&#45;&gt;&#45;10 -->\n<g id=\"edge7\" class=\"edge\">\n<title>13&#45;&gt;&#45;10</title>\n<path fill=\"none\" stroke=\"#000000\" d=\"M2772.3,-324C2799.7463,-324 2852.1505,-324 2887.8316,-324\"/>\n<polygon fill=\"#000000\" stroke=\"#000000\" points=\"2887.8692,-327.5001 2897.8691,-324 2887.8691,-320.5001 2887.8692,-327.5001\"/>\n</g>\n<!-- 14&#45;&gt;&#45;12 -->\n<g id=\"edge48\" class=\"edge\">\n<title>14&#45;&gt;&#45;12</title>\n<path fill=\"none\" stroke=\"#000000\" d=\"M2430.3,-263C2454.5833,-263 2498.4036,-263 2532.8932,-263\"/>\n<polygon fill=\"#000000\" stroke=\"#000000\" points=\"2533.2654,-266.5001 2543.2653,-263 2533.2653,-259.5001 2533.2654,-266.5001\"/>\n</g>\n<!-- 15&#45;&gt;&#45;10 -->\n<g id=\"edge77\" class=\"edge\">\n<title>15&#45;&gt;&#45;10</title>\n<path fill=\"none\" stroke=\"#000000\" d=\"M2771.0213,-269.0719C2798.2019,-278.7679 2852.0286,-297.9692 2888.2777,-310.9002\"/>\n<polygon fill=\"#000000\" stroke=\"#000000\" points=\"2887.4043,-314.3046 2897.9989,-314.368 2889.7562,-307.7116 2887.4043,-314.3046\"/>\n</g>\n<!-- 16&#45;&gt;&#45;26 -->\n<g id=\"edge87\" class=\"edge\">\n<title>16&#45;&gt;&#45;26</title>\n<path fill=\"none\" stroke=\"#000000\" d=\"M4481.9768,-352.4692C4505.2122,-356.9532 4546.7139,-364.9623 4580.6396,-371.5094\"/>\n<polygon fill=\"#000000\" stroke=\"#000000\" points=\"4580.4143,-375.0304 4590.8964,-373.4888 4581.7408,-368.1572 4580.4143,-375.0304\"/>\n</g>\n<!-- 16&#45;&gt;&#45;25 -->\n<g id=\"edge60\" class=\"edge\">\n<title>16&#45;&gt;&#45;25</title>\n<path fill=\"none\" stroke=\"#000000\" d=\"M4481.9768,-346.0564C4509.2926,-341.5837 4561.8538,-332.9772 4597.6721,-327.1122\"/>\n<polygon fill=\"#000000\" stroke=\"#000000\" points=\"4598.4465,-330.5321 4607.7495,-325.4621 4597.3153,-323.6241 4598.4465,-330.5321\"/>\n</g>\n<!-- 17&#45;&gt;&#45;17 -->\n<g id=\"edge32\" class=\"edge\">\n<title>17&#45;&gt;&#45;17</title>\n<path fill=\"none\" stroke=\"#000000\" d=\"M3455.6559,-401.0268C3480.3537,-406.6596 3526.1305,-417.0999 3561.2623,-425.1125\"/>\n<polygon fill=\"#000000\" stroke=\"#000000\" points=\"3560.7966,-428.596 3571.3245,-427.4073 3562.3532,-421.7713 3560.7966,-428.596\"/>\n</g>\n<!-- 17&#45;&gt;&#45;16 -->\n<g id=\"edge2\" class=\"edge\">\n<title>17&#45;&gt;&#45;16</title>\n<path fill=\"none\" stroke=\"#000000\" d=\"M3456.2579,-396.217C3530.6428,-393.027 3811.722,-380.9729 3913.7273,-376.5984\"/>\n<polygon fill=\"#000000\" stroke=\"#000000\" points=\"3914.0263,-380.0889 3923.8671,-376.1636 3913.7263,-373.0954 3914.0263,-380.0889\"/>\n</g>\n<!-- 18&#45;&gt;&#45;19 -->\n<g id=\"edge28\" class=\"edge\">\n<title>18&#45;&gt;&#45;19</title>\n<path fill=\"none\" stroke=\"#000000\" d=\"M4140.3,-374.2509C4161.7576,-373.3725 4198.4698,-371.8697 4230.5195,-370.5577\"/>\n<polygon fill=\"#000000\" stroke=\"#000000\" points=\"4230.8877,-374.0456 4240.7361,-370.1395 4230.6013,-367.0515 4230.8877,-374.0456\"/>\n</g>\n<!-- 19&#45;&gt;&#45;18 -->\n<g id=\"edge76\" class=\"edge\">\n<title>19&#45;&gt;&#45;18</title>\n<path fill=\"none\" stroke=\"#000000\" d=\"M3798.3,-436C3825.511,-436 3877.254,-436 3912.9104,-436\"/>\n<polygon fill=\"#000000\" stroke=\"#000000\" points=\"3912.9603,-439.5001 3922.9603,-436 3912.9603,-432.5001 3912.9603,-439.5001\"/>\n</g>\n<!-- 20&#45;&gt;&#45;23 -->\n<g id=\"edge13\" class=\"edge\">\n<title>20&#45;&gt;&#45;23</title>\n<path fill=\"none\" stroke=\"#000000\" d=\"M3455.6559,-281.8528C3480.043,-288.5557 3524.9822,-300.9074 3559.9316,-310.5134\"/>\n<polygon fill=\"#000000\" stroke=\"#000000\" points=\"3559.39,-313.9942 3569.9601,-313.2697 3561.2453,-307.2446 3559.39,-313.9942\"/>\n</g>\n<!-- 20&#45;&gt;&#45;22 -->\n<g id=\"edge55\" class=\"edge\">\n<title>20&#45;&gt;&#45;22</title>\n<path fill=\"none\" stroke=\"#000000\" d=\"M3455.9768,-275.5282C3483.2926,-273.2918 3535.8538,-268.9886 3571.6721,-266.0561\"/>\n<polygon fill=\"#000000\" stroke=\"#000000\" points=\"3572.0684,-269.5354 3581.7495,-265.231 3571.4972,-262.5588 3572.0684,-269.5354\"/>\n</g>\n<!-- 21&#45;&gt;&#45;21 -->\n<g id=\"edge16\" class=\"edge\">\n<title>21&#45;&gt;&#45;21</title>\n<path fill=\"none\" stroke=\"#000000\" d=\"M3798.3,-289C3825.7463,-289 3878.1505,-289 3913.8316,-289\"/>\n<polygon fill=\"#000000\" stroke=\"#000000\" points=\"3913.8692,-292.5001 3923.8691,-289 3913.8691,-285.5001 3913.8692,-292.5001\"/>\n</g>\n<!-- 22&#45;&gt;&#45;24 -->\n<g id=\"edge82\" class=\"edge\">\n<title>22&#45;&gt;&#45;24</title>\n<path fill=\"none\" stroke=\"#000000\" d=\"M3456.3,-202C3480.8176,-202 3525.2509,-202 3559.8887,-202\"/>\n<polygon fill=\"#000000\" stroke=\"#000000\" points=\"3560.291,-205.5001 3570.2909,-202 3560.2909,-198.5001 3560.291,-205.5001\"/>\n</g>\n<!-- 23&#45;&gt;&#45;21 -->\n<g id=\"edge44\" class=\"edge\">\n<title>23&#45;&gt;&#45;21</title>\n<path fill=\"none\" stroke=\"#000000\" d=\"M3796.7075,-222.2302C3823.8627,-233.9815 3878.1958,-257.4941 3914.587,-273.2423\"/>\n<polygon fill=\"#000000\" stroke=\"#000000\" points=\"3913.3133,-276.5048 3923.8809,-277.2643 3916.0935,-270.0805 3913.3133,-276.5048\"/>\n</g>\n<!-- 24&#45;&gt;&#45;27 -->\n<g id=\"edge8\" class=\"edge\">\n<title>24&#45;&gt;&#45;27</title>\n<path fill=\"none\" stroke=\"#000000\" d=\"M4822.6789,-349.5881C4871.5619,-371.1108 5019.1596,-431 5148,-431 5148,-431 5148,-431 5661,-431 5771.8569,-431 5902.9187,-432.5956 5965.7533,-433.4595\"/>\n<polygon fill=\"#000000\" stroke=\"#000000\" points=\"5965.9086,-436.9619 5975.9564,-433.6016 5966.0061,-429.9626 5965.9086,-436.9619\"/>\n</g>\n<!-- 24&#45;&gt;&#45;28 -->\n<g id=\"edge49\" class=\"edge\">\n<title>24&#45;&gt;&#45;28</title>\n<path fill=\"none\" stroke=\"#000000\" d=\"M4823.9768,-339.4769C4851.2926,-335.6431 4903.8538,-328.2661 4939.6721,-323.239\"/>\n<polygon fill=\"#000000\" stroke=\"#000000\" points=\"4940.333,-326.6806 4949.7495,-321.8246 4939.36,-319.7486 4940.333,-326.6806\"/>\n</g>\n<!-- 25&#45;&gt;&#45;30 -->\n<g id=\"edge78\" class=\"edge\">\n<title>25&#45;&gt;&#45;30</title>\n<path fill=\"none\" stroke=\"#000000\" d=\"M5679.3874,-373C5726.9235,-373 5855.7515,-373 5935.7882,-373\"/>\n<polygon fill=\"#000000\" stroke=\"#000000\" points=\"5936.2619,-376.5001 5946.2618,-373 5936.2618,-369.5001 5936.2619,-376.5001\"/>\n</g>\n<!-- 26&#45;&gt;&#45;29 -->\n<g id=\"edge15\" class=\"edge\">\n<title>26&#45;&gt;&#45;29</title>\n<path fill=\"none\" stroke=\"#000000\" d=\"M6191.0213,-367.9281C6218.2019,-358.2321 6272.0286,-339.0308 6308.2777,-326.0998\"/>\n<polygon fill=\"#000000\" stroke=\"#000000\" points=\"6309.7562,-329.2884 6317.9989,-322.632 6307.4043,-322.6954 6309.7562,-329.2884\"/>\n</g>\n<!-- 27&#45;&gt;&#45;31 -->\n<g id=\"edge17\" class=\"edge\">\n<title>27&#45;&gt;&#45;31</title>\n<path fill=\"none\" stroke=\"#000000\" d=\"M5166.3,-318C5181.9752,-318 5205.7912,-318 5229.9832,-318\"/>\n<polygon fill=\"#000000\" stroke=\"#000000\" points=\"5229.9837,-321.5001 5239.9837,-318 5229.9836,-314.5001 5229.9837,-321.5001\"/>\n</g>\n<!-- 28&#45;&gt;&#45;29 -->\n<g id=\"edge46\" class=\"edge\">\n<title>28&#45;&gt;&#45;29</title>\n<path fill=\"none\" stroke=\"#000000\" d=\"M6192.3,-313C6219.7463,-313 6272.1505,-313 6307.8316,-313\"/>\n<polygon fill=\"#000000\" stroke=\"#000000\" points=\"6307.8692,-316.5001 6317.8691,-313 6307.8691,-309.5001 6307.8692,-316.5001\"/>\n</g>\n<!-- 29&#45;&gt;&#45;32 -->\n<g id=\"edge18\" class=\"edge\">\n<title>29&#45;&gt;&#45;32</title>\n<path fill=\"none\" stroke=\"#000000\" d=\"M5166.3,-257C5190.1148,-257 5232.7201,-257 5266.8868,-257\"/>\n<polygon fill=\"#000000\" stroke=\"#000000\" points=\"5267.1892,-260.5001 5277.1892,-257 5267.1892,-253.5001 5267.1892,-260.5001\"/>\n</g>\n<!-- 30&#45;&gt;&#45;29 -->\n<g id=\"edge3\" class=\"edge\">\n<title>30&#45;&gt;&#45;29</title>\n<path fill=\"none\" stroke=\"#000000\" d=\"M5850.0648,-257.4211C5902.8977,-258.8313 6061.6243,-264.3419 6192,-282 6231.9341,-287.4087 6277.0946,-296.9925 6307.9381,-304.0767\"/>\n<polygon fill=\"#000000\" stroke=\"#000000\" points=\"6307.2882,-307.5189 6317.8209,-306.3737 6308.8729,-300.7006 6307.2882,-307.5189\"/>\n</g>\n<!-- 31&#45;&gt;&#45;38 -->\n<g id=\"edge79\" class=\"edge\">\n<title>31&#45;&gt;&#45;38</title>\n<path fill=\"none\" stroke=\"#000000\" d=\"M5166.3874,-196.2688C5210.6942,-196.9166 5325.6231,-198.5968 5405.8418,-199.7696\"/>\n<polygon fill=\"#000000\" stroke=\"#000000\" points=\"5405.8858,-203.2705 5415.9359,-199.9172 5405.9882,-196.2713 5405.8858,-203.2705\"/>\n</g>\n<!-- 31&#45;&gt;&#45;33 -->\n<g id=\"edge66\" class=\"edge\">\n<title>31&#45;&gt;&#45;33</title>\n<path fill=\"none\" stroke=\"#000000\" d=\"M5164.0873,-187.9093C5191.0285,-174.36 5245.9192,-146.7541 5282.5896,-128.3116\"/>\n<polygon fill=\"#000000\" stroke=\"#000000\" points=\"5284.5898,-131.2235 5291.951,-123.6036 5281.4446,-124.9698 5284.5898,-131.2235\"/>\n</g>\n<!-- 32&#45;&gt;&#45;29 -->\n<g id=\"edge80\" class=\"edge\">\n<title>32&#45;&gt;&#45;29</title>\n<path fill=\"none\" stroke=\"#000000\" d=\"M6189.1751,-210.9393C6215.963,-228.4845 6272.3015,-265.3846 6309.3851,-289.6733\"/>\n<polygon fill=\"#000000\" stroke=\"#000000\" points=\"6307.6244,-292.704 6317.9075,-295.2552 6311.4598,-286.8482 6307.6244,-292.704\"/>\n</g>\n<!-- 33&#45;&gt;&#45;35 -->\n<g id=\"edge53\" class=\"edge\">\n<title>33&#45;&gt;&#45;35</title>\n<path fill=\"none\" stroke=\"#000000\" d=\"M5508.3,-140C5531.1779,-140 5571.3966,-140 5604.8165,-140\"/>\n<polygon fill=\"#000000\" stroke=\"#000000\" points=\"5604.9432,-143.5001 5614.9432,-140 5604.9431,-136.5001 5604.9432,-143.5001\"/>\n</g>\n<!-- 34&#45;&gt;&#45;34 -->\n<g id=\"edge91\" class=\"edge\">\n<title>34&#45;&gt;&#45;34</title>\n<path fill=\"none\" stroke=\"#000000\" d=\"M5849.9768,-136.8462C5877.2926,-132.0539 5929.8538,-122.8327 5965.6721,-116.5487\"/>\n<polygon fill=\"#000000\" stroke=\"#000000\" points=\"5966.5047,-119.9562 5975.7495,-114.7808 5965.2951,-113.0615 5966.5047,-119.9562\"/>\n</g>\n<!-- 35&#45;&gt;&#45;36 -->\n<g id=\"edge31\" class=\"edge\">\n<title>35&#45;&gt;&#45;36</title>\n<path fill=\"none\" stroke=\"#000000\" d=\"M5508.3,-79C5532.1148,-79 5574.7201,-79 5608.8868,-79\"/>\n<polygon fill=\"#000000\" stroke=\"#000000\" points=\"5609.1892,-82.5001 5619.1892,-79 5609.1892,-75.5001 5609.1892,-82.5001\"/>\n</g>\n<!-- 36&#45;&gt;&#45;34 -->\n<g id=\"edge37\" class=\"edge\">\n<title>36&#45;&gt;&#45;34</title>\n<path fill=\"none\" stroke=\"#000000\" d=\"M5849.9768,-82.259C5877.2926,-87.2109 5929.8538,-96.7396 5965.6721,-103.233\"/>\n<polygon fill=\"#000000\" stroke=\"#000000\" points=\"5965.2855,-106.7198 5975.7495,-105.0598 5966.5342,-99.8321 5965.2855,-106.7198\"/>\n</g>\n<!-- 37&#45;&gt;&#45;37 -->\n<g id=\"edge69\" class=\"edge\">\n<title>37&#45;&gt;&#45;37</title>\n<path fill=\"none\" stroke=\"#000000\" d=\"M5508.3,-18C5532.1148,-18 5574.7201,-18 5608.8868,-18\"/>\n<polygon fill=\"#000000\" stroke=\"#000000\" points=\"5609.1892,-21.5001 5619.1892,-18 5609.1892,-14.5001 5609.1892,-21.5001\"/>\n</g>\n<!-- 38&#45;&gt;&#45;34 -->\n<g id=\"edge98\" class=\"edge\">\n<title>38&#45;&gt;&#45;34</title>\n<path fill=\"none\" stroke=\"#000000\" d=\"M5848.0873,-26.6551C5875.1431,-41.2115 5930.3869,-70.9333 5967.0568,-90.6621\"/>\n<polygon fill=\"#000000\" stroke=\"#000000\" points=\"5965.4863,-93.7916 5975.951,-95.4473 5968.8029,-87.6271 5965.4863,-93.7916\"/>\n</g>\n</g>\n</svg>\n"
          },
          "metadata": {
            "tags": []
          },
          "execution_count": 4
        }
      ]
    },
    {
      "cell_type": "markdown",
      "metadata": {
        "id": "L-qGA0saGcAB",
        "colab_type": "text"
      },
      "source": [
        "## Alignment Construction\n",
        "\n",
        "To assess the conformance of the traces of the log with the process model, we next compute optimal alignments between them. To this end, an implementation of the alignment construction based on A* search is used. \n",
        "\n",
        "Traces of the same trace variant have equal sets of optimal alignments. We therefore consider the construction of alignments solely for trace variants. The code below computes optimal alignments for the most frequent trace variants.\n",
        "\n"
      ]
    },
    {
      "cell_type": "code",
      "metadata": {
        "id": "kZPs7BQNLmN2",
        "colab_type": "code",
        "outputId": "e1ff797b-dba4-4965-e145-817d79a36056",
        "colab": {
          "base_uri": "https://localhost:8080/",
          "height": 35
        }
      },
      "source": [
        "%run ./conf_tutorial/alignment.py\n",
        "\n",
        "# select some most frequent traces\n",
        "traces = dict()\n",
        "for k in range(10):\n",
        "    traces[k] = list(trace_variants_sorted_by_freq[k][0])\n",
        "\n",
        "# capture details on which places denote the start and the end of the process model\n",
        "index_place_start = 0\n",
        "index_place_end = 1\n",
        "\n",
        "# run alignment construction\n",
        "a = Astar()\n",
        "alignments = a.Astar_Exe(net, traces, index_place_start, index_place_end, no_of_solutions=1)\n"
      ],
      "execution_count": 5,
      "outputs": [
        {
          "output_type": "stream",
          "text": [
            "100%|██████████| 10/10 [00:02<00:00,  3.22it/s]\n"
          ],
          "name": "stderr"
        }
      ]
    },
    {
      "cell_type": "markdown",
      "metadata": {
        "id": "RysRQUxIC1jS",
        "colab_type": "text"
      },
      "source": [
        "Now, let us have a look at the computed alignments:"
      ]
    },
    {
      "cell_type": "code",
      "metadata": {
        "id": "k45K2M-VC5Oq",
        "colab_type": "code",
        "outputId": "26062744-fc82-4702-c212-5d105b2ffd43",
        "colab": {
          "base_uri": "https://localhost:8080/",
          "height": 2296
        }
      },
      "source": [
        "for k,t in traces.items():\n",
        "  print('Trace in the log: ', t)\n",
        "  print('Optimal alignment: ')\n",
        "  pprint(alignments[k][0])"
      ],
      "execution_count": 12,
      "outputs": [
        {
          "output_type": "stream",
          "text": [
            "Trace in the log:  ['A_SUBMITTED', 'A_PARTLYSUBMITTED', 'A_DECLINED']\n",
            "Optimal alignment: \n",
            "[('A_SUBMITTED', 'A_SUBMITTED'),\n",
            " ('A_PARTLYSUBMITTED', 'A_PARTLYSUBMITTED'),\n",
            " ('A_DECLINED', '-'),\n",
            " ('-', 'A_PREACCEPTED'),\n",
            " ('-', 'W_Afhandelen leads'),\n",
            " ('-', 'W_Completeren aanvraag'),\n",
            " ('-', 'W_Nabellen offertes')]\n",
            "Trace in the log:  ['A_SUBMITTED', 'A_PARTLYSUBMITTED', 'W_Afhandelen leads', 'W_Afhandelen leads', 'A_DECLINED', 'W_Afhandelen leads']\n",
            "Optimal alignment: \n",
            "[('A_SUBMITTED', 'A_SUBMITTED'),\n",
            " ('A_PARTLYSUBMITTED', 'A_PARTLYSUBMITTED'),\n",
            " ('W_Afhandelen leads', '-'),\n",
            " ('W_Afhandelen leads', '-'),\n",
            " ('A_DECLINED', '-'),\n",
            " ('-', 'A_PREACCEPTED'),\n",
            " ('W_Afhandelen leads', 'W_Afhandelen leads'),\n",
            " ('-', 'W_Completeren aanvraag'),\n",
            " ('-', 'W_Nabellen offertes')]\n",
            "Trace in the log:  ['A_SUBMITTED', 'A_PARTLYSUBMITTED', 'W_Afhandelen leads', 'W_Afhandelen leads', 'W_Afhandelen leads', 'W_Afhandelen leads', 'A_DECLINED', 'W_Afhandelen leads']\n",
            "Optimal alignment: \n",
            "[('A_SUBMITTED', 'A_SUBMITTED'),\n",
            " ('A_PARTLYSUBMITTED', 'A_PARTLYSUBMITTED'),\n",
            " ('W_Afhandelen leads', '-'),\n",
            " ('W_Afhandelen leads', '-'),\n",
            " ('W_Afhandelen leads', '-'),\n",
            " ('W_Afhandelen leads', '-'),\n",
            " ('A_DECLINED', '-'),\n",
            " ('-', 'A_PREACCEPTED'),\n",
            " ('W_Afhandelen leads', 'W_Afhandelen leads'),\n",
            " ('-', 'W_Completeren aanvraag'),\n",
            " ('-', 'A_DECLINED')]\n",
            "Trace in the log:  ['A_SUBMITTED', 'A_PARTLYSUBMITTED', 'W_Afhandelen leads', 'W_Afhandelen leads', 'A_PREACCEPTED', 'W_Completeren aanvraag', 'W_Afhandelen leads', 'W_Completeren aanvraag', 'A_DECLINED', 'W_Completeren aanvraag']\n",
            "Optimal alignment: \n",
            "[('A_SUBMITTED', 'A_SUBMITTED'),\n",
            " ('A_PARTLYSUBMITTED', 'A_PARTLYSUBMITTED'),\n",
            " ('W_Afhandelen leads', '-'),\n",
            " ('W_Afhandelen leads', '-'),\n",
            " ('A_PREACCEPTED', 'A_PREACCEPTED'),\n",
            " ('W_Completeren aanvraag', '-'),\n",
            " ('W_Afhandelen leads', 'W_Afhandelen leads'),\n",
            " ('W_Completeren aanvraag', 'W_Completeren aanvraag'),\n",
            " ('A_DECLINED', 'A_DECLINED'),\n",
            " ('W_Completeren aanvraag', '-')]\n",
            "Trace in the log:  ['A_SUBMITTED', 'A_PARTLYSUBMITTED', 'A_PREACCEPTED', 'W_Completeren aanvraag', 'W_Completeren aanvraag', 'A_DECLINED', 'W_Completeren aanvraag']\n",
            "Optimal alignment: \n",
            "[('A_SUBMITTED', 'A_SUBMITTED'),\n",
            " ('A_PARTLYSUBMITTED', 'A_PARTLYSUBMITTED'),\n",
            " ('A_PREACCEPTED', 'A_PREACCEPTED'),\n",
            " ('W_Completeren aanvraag', '-'),\n",
            " ('W_Completeren aanvraag', '-'),\n",
            " ('A_DECLINED', '-'),\n",
            " ('-', 'W_Afhandelen leads'),\n",
            " ('W_Completeren aanvraag', 'W_Completeren aanvraag'),\n",
            " ('-', 'A_DECLINED')]\n",
            "Trace in the log:  ['A_SUBMITTED', 'A_PARTLYSUBMITTED', 'A_PREACCEPTED', 'W_Completeren aanvraag', 'W_Completeren aanvraag', 'A_CANCELLED', 'W_Completeren aanvraag']\n",
            "Optimal alignment: \n",
            "[('A_SUBMITTED', 'A_SUBMITTED'),\n",
            " ('A_PARTLYSUBMITTED', 'A_PARTLYSUBMITTED'),\n",
            " ('A_PREACCEPTED', 'A_PREACCEPTED'),\n",
            " ('W_Completeren aanvraag', '-'),\n",
            " ('W_Completeren aanvraag', '-'),\n",
            " ('A_CANCELLED', '-'),\n",
            " ('-', 'W_Afhandelen leads'),\n",
            " ('W_Completeren aanvraag', 'W_Completeren aanvraag'),\n",
            " ('-', 'W_Nabellen offertes')]\n",
            "Trace in the log:  ['A_SUBMITTED', 'A_PARTLYSUBMITTED', 'W_Afhandelen leads', 'W_Afhandelen leads', 'A_PREACCEPTED', 'W_Completeren aanvraag', 'W_Afhandelen leads', 'W_Completeren aanvraag', 'W_Completeren aanvraag', 'W_Completeren aanvraag', 'A_DECLINED', 'W_Completeren aanvraag']\n",
            "Optimal alignment: \n",
            "[('A_SUBMITTED', 'A_SUBMITTED'),\n",
            " ('A_PARTLYSUBMITTED', 'A_PARTLYSUBMITTED'),\n",
            " ('W_Afhandelen leads', '-'),\n",
            " ('W_Afhandelen leads', '-'),\n",
            " ('A_PREACCEPTED', 'A_PREACCEPTED'),\n",
            " ('W_Completeren aanvraag', '-'),\n",
            " ('W_Afhandelen leads', 'W_Afhandelen leads'),\n",
            " ('W_Completeren aanvraag', 'W_Completeren aanvraag'),\n",
            " ('W_Completeren aanvraag', '-'),\n",
            " ('W_Completeren aanvraag', '-'),\n",
            " ('A_DECLINED', 'A_DECLINED'),\n",
            " ('W_Completeren aanvraag', '-')]\n",
            "Trace in the log:  ['A_SUBMITTED', 'A_PARTLYSUBMITTED', 'A_PREACCEPTED', 'W_Completeren aanvraag', 'W_Completeren aanvraag', 'W_Completeren aanvraag', 'W_Completeren aanvraag', 'A_DECLINED', 'W_Completeren aanvraag']\n",
            "Optimal alignment: \n",
            "[('A_SUBMITTED', 'A_SUBMITTED'),\n",
            " ('A_PARTLYSUBMITTED', 'A_PARTLYSUBMITTED'),\n",
            " ('A_PREACCEPTED', 'A_PREACCEPTED'),\n",
            " ('W_Completeren aanvraag', '-'),\n",
            " ('W_Completeren aanvraag', '-'),\n",
            " ('W_Completeren aanvraag', '-'),\n",
            " ('W_Completeren aanvraag', '-'),\n",
            " ('A_DECLINED', '-'),\n",
            " ('-', 'W_Afhandelen leads'),\n",
            " ('W_Completeren aanvraag', 'W_Completeren aanvraag'),\n",
            " ('-', 'W_Nabellen offertes')]\n",
            "Trace in the log:  ['A_SUBMITTED', 'A_PARTLYSUBMITTED', 'A_PREACCEPTED', 'W_Completeren aanvraag', 'W_Completeren aanvraag', 'W_Completeren aanvraag', 'W_Completeren aanvraag', 'A_CANCELLED', 'W_Completeren aanvraag']\n",
            "Optimal alignment: \n",
            "[('A_SUBMITTED', 'A_SUBMITTED'),\n",
            " ('A_PARTLYSUBMITTED', 'A_PARTLYSUBMITTED'),\n",
            " ('A_PREACCEPTED', 'A_PREACCEPTED'),\n",
            " ('W_Completeren aanvraag', '-'),\n",
            " ('W_Completeren aanvraag', '-'),\n",
            " ('W_Completeren aanvraag', '-'),\n",
            " ('W_Completeren aanvraag', '-'),\n",
            " ('A_CANCELLED', '-'),\n",
            " ('-', 'W_Afhandelen leads'),\n",
            " ('W_Completeren aanvraag', 'W_Completeren aanvraag'),\n",
            " ('-', 'A_DECLINED')]\n",
            "Trace in the log:  ['A_SUBMITTED', 'A_PARTLYSUBMITTED', 'W_Afhandelen leads', 'W_Afhandelen leads', 'A_PREACCEPTED', 'W_Completeren aanvraag', 'W_Afhandelen leads', 'W_Completeren aanvraag', 'W_Completeren aanvraag', 'W_Completeren aanvraag', 'W_Completeren aanvraag', 'W_Completeren aanvraag', 'A_DECLINED', 'W_Completeren aanvraag']\n",
            "Optimal alignment: \n",
            "[('A_SUBMITTED', 'A_SUBMITTED'),\n",
            " ('A_PARTLYSUBMITTED', 'A_PARTLYSUBMITTED'),\n",
            " ('W_Afhandelen leads', '-'),\n",
            " ('W_Afhandelen leads', '-'),\n",
            " ('A_PREACCEPTED', 'A_PREACCEPTED'),\n",
            " ('W_Completeren aanvraag', '-'),\n",
            " ('W_Afhandelen leads', 'W_Afhandelen leads'),\n",
            " ('W_Completeren aanvraag', '-'),\n",
            " ('W_Completeren aanvraag', '-'),\n",
            " ('W_Completeren aanvraag', '-'),\n",
            " ('W_Completeren aanvraag', 'W_Completeren aanvraag'),\n",
            " ('W_Completeren aanvraag', '-'),\n",
            " ('A_DECLINED', 'A_DECLINED'),\n",
            " ('W_Completeren aanvraag', '-')]\n"
          ],
          "name": "stdout"
        }
      ]
    },
    {
      "cell_type": "markdown",
      "metadata": {
        "id": "Inx3IHev48kr",
        "colab_type": "text"
      },
      "source": [
        "Next, consider the fitness of the most frequent trace variants.\n",
        "\n",
        "**Task:** Complete the function for the fitness computation. Note that the length of the shortest firing sequence in the imported Petri net is given."
      ]
    },
    {
      "cell_type": "code",
      "metadata": {
        "id": "zKHnoxbn5T1Z",
        "colab_type": "code",
        "colab": {}
      },
      "source": [
        "def fitness(net: PetriNet, alignments: list, log_freq: list) -> float:\n",
        "    shortest_seq_in_net = 7\n",
        "    \n",
        "    async_moves = 0\n",
        "    max_cost = 0\n",
        "    \n",
        "    for k in range(len(alignments)):\n",
        "        async_moves += log_freq[k] * len([x for x in alignments[k] if (x[0] == '-' or x[1] == '-')])    \n",
        "        max_cost += log_freq[k] * (shortest_seq_in_net + len(alignments[k]))\n",
        "      \n",
        "    return round(float(async_moves) / float(max_cost), 3)"
      ],
      "execution_count": 0,
      "outputs": []
    },
    {
      "cell_type": "markdown",
      "metadata": {
        "id": "pr7IKCI26uSM",
        "colab_type": "text"
      },
      "source": [
        "Now, see how the fitness value changes when considering the most frequent trace variants."
      ]
    },
    {
      "cell_type": "code",
      "metadata": {
        "id": "_roNCs5X62dm",
        "colab_type": "code",
        "colab": {
          "base_uri": "https://localhost:8080/",
          "height": 384
        },
        "outputId": "00137acf-11db-4a17-e3f9-e97a056fa275"
      },
      "source": [
        "fitness_value = 0\n",
        "for k in range(len(alignments)):\n",
        "    alignments_simple_k = [alignments[k][0]]\n",
        "    alignments_simple = [alignments[x][0] for x in range(k+1)]\n",
        "    log_freq_k = [trace_variants_sorted_by_freq[k][1]]\n",
        "    log_freq = [trace_variants_sorted_by_freq[x][1] for x in range(k+1)]\n",
        "    fitness_value_k = fitness(net, alignments_simple_k, log_freq_k)\n",
        "    fitness_value = fitness(net, alignments_simple, log_freq)\n",
        "    print(\"Fitness value of the single %s-most frequent trace variant: %f\" % (k+1, fitness_value_k))\n",
        "    print(\"Fitness value of %s-most frequent trace variants: %f\" % (k+1, fitness_value))\n",
        "\n"
      ],
      "execution_count": 51,
      "outputs": [
        {
          "output_type": "stream",
          "text": [
            "Fitness value of the single 1-most frequent trace variant: 0.357000\n",
            "Fitness value of 1-most frequent trace variants: 0.357000\n",
            "Fitness value of the single 2-most frequent trace variant: 0.375000\n",
            "Fitness value of 2-most frequent trace variants: 0.364000\n",
            "Fitness value of the single 3-most frequent trace variant: 0.444000\n",
            "Fitness value of 3-most frequent trace variants: 0.369000\n",
            "Fitness value of the single 4-most frequent trace variant: 0.235000\n",
            "Fitness value of 4-most frequent trace variants: 0.363000\n",
            "Fitness value of the single 5-most frequent trace variant: 0.312000\n",
            "Fitness value of 5-most frequent trace variants: 0.362000\n",
            "Fitness value of the single 6-most frequent trace variant: 0.312000\n",
            "Fitness value of 6-most frequent trace variants: 0.361000\n",
            "Fitness value of the single 7-most frequent trace variant: 0.316000\n",
            "Fitness value of 7-most frequent trace variants: 0.359000\n",
            "Fitness value of the single 8-most frequent trace variant: 0.389000\n",
            "Fitness value of 8-most frequent trace variants: 0.360000\n",
            "Fitness value of the single 9-most frequent trace variant: 0.389000\n",
            "Fitness value of 9-most frequent trace variants: 0.360000\n",
            "Fitness value of the single 10-most frequent trace variant: 0.381000\n",
            "Fitness value of 10-most frequent trace variants: 0.361000\n"
          ],
          "name": "stdout"
        }
      ]
    },
    {
      "cell_type": "markdown",
      "metadata": {
        "id": "nhnNEkOYGmaw",
        "colab_type": "text"
      },
      "source": [
        "Finally, plot some frequent deviations, i.e., activities that often occur in asynchronous moves in the alignments.\n",
        "\n",
        "**Task:** Derive the deviation distribution over the activities, i.e., the distribution of the frequency with which the activities participate in deviations."
      ]
    },
    {
      "cell_type": "code",
      "metadata": {
        "id": "weoE9bPAHCWk",
        "colab_type": "code",
        "colab": {
          "base_uri": "https://localhost:8080/",
          "height": 517
        },
        "outputId": "4e7fef19-c2cd-44df-dd41-38b02ffbd898"
      },
      "source": [
        "import matplotlib.pyplot as plt\n",
        "\n",
        "deviations = []\n",
        "\n",
        "for alignment in alignments.values():\n",
        "    deviations.extend([x[0] for x in alignment[0] if x[1] == '-'])\n",
        "    deviations.extend([x[1] for x in alignment[0] if x[0] == '-'])\n",
        "\n",
        "plt.hist(deviations)\n",
        "plt.xticks(rotation='vertical')\n",
        "plt.ylabel('number of deviations')\n",
        "plt.show()"
      ],
      "execution_count": 60,
      "outputs": [
        {
          "output_type": "display_data",
          "data": {
            "text/plain": [
              "<Figure size 432x288 with 1 Axes>"
            ],
            "image/svg+xml": "<?xml version=\"1.0\" encoding=\"utf-8\" standalone=\"no\"?>\n<!DOCTYPE svg PUBLIC \"-//W3C//DTD SVG 1.1//EN\"\n  \"http://www.w3.org/Graphics/SVG/1.1/DTD/svg11.dtd\">\n<!-- Created with matplotlib (https://matplotlib.org/) -->\n<svg height=\"372.4275pt\" version=\"1.1\" viewBox=\"0 0 386.103125 372.4275\" width=\"386.103125pt\" xmlns=\"http://www.w3.org/2000/svg\" xmlns:xlink=\"http://www.w3.org/1999/xlink\">\n <defs>\n  <style type=\"text/css\">\n*{stroke-linecap:butt;stroke-linejoin:round;}\n  </style>\n </defs>\n <g id=\"figure_1\">\n  <g id=\"patch_1\">\n   <path d=\"M 0 372.4275 \nL 386.103125 372.4275 \nL 386.103125 0 \nL 0 0 \nz\n\" style=\"fill:none;\"/>\n  </g>\n  <g id=\"axes_1\">\n   <g id=\"patch_2\">\n    <path d=\"M 40.603125 228.14 \nL 375.403125 228.14 \nL 375.403125 10.7 \nL 40.603125 10.7 \nz\n\" style=\"fill:#ffffff;\"/>\n   </g>\n   <g id=\"patch_3\">\n    <path clip-path=\"url(#p633e6308f3)\" d=\"M 55.821307 228.14 \nL 86.25767 228.14 \nL 86.25767 166.78127 \nL 55.821307 166.78127 \nz\n\" style=\"fill:#1f77b4;\"/>\n   </g>\n   <g id=\"patch_4\">\n    <path clip-path=\"url(#p633e6308f3)\" d=\"M 86.25767 228.14 \nL 116.694034 228.14 \nL 116.694034 228.14 \nL 86.25767 228.14 \nz\n\" style=\"fill:#1f77b4;\"/>\n   </g>\n   <g id=\"patch_5\">\n    <path clip-path=\"url(#p633e6308f3)\" d=\"M 116.694034 228.14 \nL 147.130398 228.14 \nL 147.130398 205.130476 \nL 116.694034 205.130476 \nz\n\" style=\"fill:#1f77b4;\"/>\n   </g>\n   <g id=\"patch_6\">\n    <path clip-path=\"url(#p633e6308f3)\" d=\"M 147.130398 228.14 \nL 177.566761 228.14 \nL 177.566761 228.14 \nL 147.130398 228.14 \nz\n\" style=\"fill:#1f77b4;\"/>\n   </g>\n   <g id=\"patch_7\">\n    <path clip-path=\"url(#p633e6308f3)\" d=\"M 177.566761 228.14 \nL 208.003125 228.14 \nL 208.003125 97.752698 \nL 177.566761 97.752698 \nz\n\" style=\"fill:#1f77b4;\"/>\n   </g>\n   <g id=\"patch_8\">\n    <path clip-path=\"url(#p633e6308f3)\" d=\"M 208.003125 228.14 \nL 238.439489 228.14 \nL 238.439489 228.14 \nL 208.003125 228.14 \nz\n\" style=\"fill:#1f77b4;\"/>\n   </g>\n   <g id=\"patch_9\">\n    <path clip-path=\"url(#p633e6308f3)\" d=\"M 238.439489 228.14 \nL 268.875852 228.14 \nL 268.875852 21.054286 \nL 238.439489 21.054286 \nz\n\" style=\"fill:#1f77b4;\"/>\n   </g>\n   <g id=\"patch_10\">\n    <path clip-path=\"url(#p633e6308f3)\" d=\"M 268.875852 228.14 \nL 299.312216 228.14 \nL 299.312216 228.14 \nL 268.875852 228.14 \nz\n\" style=\"fill:#1f77b4;\"/>\n   </g>\n   <g id=\"patch_11\">\n    <path clip-path=\"url(#p633e6308f3)\" d=\"M 299.312216 228.14 \nL 329.74858 228.14 \nL 329.74858 197.460635 \nL 299.312216 197.460635 \nz\n\" style=\"fill:#1f77b4;\"/>\n   </g>\n   <g id=\"patch_12\">\n    <path clip-path=\"url(#p633e6308f3)\" d=\"M 329.74858 228.14 \nL 360.184943 228.14 \nL 360.184943 212.800317 \nL 329.74858 212.800317 \nz\n\" style=\"fill:#1f77b4;\"/>\n   </g>\n   <g id=\"matplotlib.axis_1\">\n    <g id=\"xtick_1\">\n     <g id=\"line2d_1\">\n      <defs>\n       <path d=\"M 0 0 \nL 0 3.5 \n\" id=\"mf3d80af499\" style=\"stroke:#000000;stroke-width:0.8;\"/>\n      </defs>\n      <g>\n       <use style=\"stroke:#000000;stroke-width:0.8;\" x=\"55.821307\" xlink:href=\"#mf3d80af499\" y=\"228.14\"/>\n      </g>\n     </g>\n     <g id=\"text_1\">\n      <!-- A_DECLINED -->\n      <defs>\n       <path d=\"M 34.1875 63.1875 \nL 20.796875 26.90625 \nL 47.609375 26.90625 \nz\nM 28.609375 72.90625 \nL 39.796875 72.90625 \nL 67.578125 0 \nL 57.328125 0 \nL 50.6875 18.703125 \nL 17.828125 18.703125 \nL 11.1875 0 \nL 0.78125 0 \nz\n\" id=\"DejaVuSans-65\"/>\n       <path d=\"M 50.984375 -16.609375 \nL 50.984375 -23.578125 \nL -0.984375 -23.578125 \nL -0.984375 -16.609375 \nz\n\" id=\"DejaVuSans-95\"/>\n       <path d=\"M 19.671875 64.796875 \nL 19.671875 8.109375 \nL 31.59375 8.109375 \nQ 46.6875 8.109375 53.6875 14.9375 \nQ 60.6875 21.78125 60.6875 36.53125 \nQ 60.6875 51.171875 53.6875 57.984375 \nQ 46.6875 64.796875 31.59375 64.796875 \nz\nM 9.8125 72.90625 \nL 30.078125 72.90625 \nQ 51.265625 72.90625 61.171875 64.09375 \nQ 71.09375 55.28125 71.09375 36.53125 \nQ 71.09375 17.671875 61.125 8.828125 \nQ 51.171875 0 30.078125 0 \nL 9.8125 0 \nz\n\" id=\"DejaVuSans-68\"/>\n       <path d=\"M 9.8125 72.90625 \nL 55.90625 72.90625 \nL 55.90625 64.59375 \nL 19.671875 64.59375 \nL 19.671875 43.015625 \nL 54.390625 43.015625 \nL 54.390625 34.71875 \nL 19.671875 34.71875 \nL 19.671875 8.296875 \nL 56.78125 8.296875 \nL 56.78125 0 \nL 9.8125 0 \nz\n\" id=\"DejaVuSans-69\"/>\n       <path d=\"M 64.40625 67.28125 \nL 64.40625 56.890625 \nQ 59.421875 61.53125 53.78125 63.8125 \nQ 48.140625 66.109375 41.796875 66.109375 \nQ 29.296875 66.109375 22.65625 58.46875 \nQ 16.015625 50.828125 16.015625 36.375 \nQ 16.015625 21.96875 22.65625 14.328125 \nQ 29.296875 6.6875 41.796875 6.6875 \nQ 48.140625 6.6875 53.78125 8.984375 \nQ 59.421875 11.28125 64.40625 15.921875 \nL 64.40625 5.609375 \nQ 59.234375 2.09375 53.4375 0.328125 \nQ 47.65625 -1.421875 41.21875 -1.421875 \nQ 24.65625 -1.421875 15.125 8.703125 \nQ 5.609375 18.84375 5.609375 36.375 \nQ 5.609375 53.953125 15.125 64.078125 \nQ 24.65625 74.21875 41.21875 74.21875 \nQ 47.75 74.21875 53.53125 72.484375 \nQ 59.328125 70.75 64.40625 67.28125 \nz\n\" id=\"DejaVuSans-67\"/>\n       <path d=\"M 9.8125 72.90625 \nL 19.671875 72.90625 \nL 19.671875 8.296875 \nL 55.171875 8.296875 \nL 55.171875 0 \nL 9.8125 0 \nz\n\" id=\"DejaVuSans-76\"/>\n       <path d=\"M 9.8125 72.90625 \nL 19.671875 72.90625 \nL 19.671875 0 \nL 9.8125 0 \nz\n\" id=\"DejaVuSans-73\"/>\n       <path d=\"M 9.8125 72.90625 \nL 23.09375 72.90625 \nL 55.421875 11.921875 \nL 55.421875 72.90625 \nL 64.984375 72.90625 \nL 64.984375 0 \nL 51.703125 0 \nL 19.390625 60.984375 \nL 19.390625 0 \nL 9.8125 0 \nz\n\" id=\"DejaVuSans-78\"/>\n      </defs>\n      <g transform=\"translate(58.353338 298.004062)rotate(-90)scale(0.1 -0.1)\">\n       <use xlink:href=\"#DejaVuSans-65\"/>\n       <use x=\"68.408203\" xlink:href=\"#DejaVuSans-95\"/>\n       <use x=\"118.408203\" xlink:href=\"#DejaVuSans-68\"/>\n       <use x=\"195.410156\" xlink:href=\"#DejaVuSans-69\"/>\n       <use x=\"258.59375\" xlink:href=\"#DejaVuSans-67\"/>\n       <use x=\"328.417969\" xlink:href=\"#DejaVuSans-76\"/>\n       <use x=\"384.130859\" xlink:href=\"#DejaVuSans-73\"/>\n       <use x=\"413.623047\" xlink:href=\"#DejaVuSans-78\"/>\n       <use x=\"488.427734\" xlink:href=\"#DejaVuSans-69\"/>\n       <use x=\"551.611328\" xlink:href=\"#DejaVuSans-68\"/>\n      </g>\n     </g>\n    </g>\n    <g id=\"xtick_2\">\n     <g id=\"line2d_2\">\n      <g>\n       <use style=\"stroke:#000000;stroke-width:0.8;\" x=\"116.694034\" xlink:href=\"#mf3d80af499\" y=\"228.14\"/>\n      </g>\n     </g>\n     <g id=\"text_2\">\n      <!-- A_PREACCEPTED -->\n      <defs>\n       <path d=\"M 19.671875 64.796875 \nL 19.671875 37.40625 \nL 32.078125 37.40625 \nQ 38.96875 37.40625 42.71875 40.96875 \nQ 46.484375 44.53125 46.484375 51.125 \nQ 46.484375 57.671875 42.71875 61.234375 \nQ 38.96875 64.796875 32.078125 64.796875 \nz\nM 9.8125 72.90625 \nL 32.078125 72.90625 \nQ 44.34375 72.90625 50.609375 67.359375 \nQ 56.890625 61.8125 56.890625 51.125 \nQ 56.890625 40.328125 50.609375 34.8125 \nQ 44.34375 29.296875 32.078125 29.296875 \nL 19.671875 29.296875 \nL 19.671875 0 \nL 9.8125 0 \nz\n\" id=\"DejaVuSans-80\"/>\n       <path d=\"M 44.390625 34.1875 \nQ 47.5625 33.109375 50.5625 29.59375 \nQ 53.5625 26.078125 56.59375 19.921875 \nL 66.609375 0 \nL 56 0 \nL 46.6875 18.703125 \nQ 43.0625 26.03125 39.671875 28.421875 \nQ 36.28125 30.8125 30.421875 30.8125 \nL 19.671875 30.8125 \nL 19.671875 0 \nL 9.8125 0 \nL 9.8125 72.90625 \nL 32.078125 72.90625 \nQ 44.578125 72.90625 50.734375 67.671875 \nQ 56.890625 62.453125 56.890625 51.90625 \nQ 56.890625 45.015625 53.6875 40.46875 \nQ 50.484375 35.9375 44.390625 34.1875 \nz\nM 19.671875 64.796875 \nL 19.671875 38.921875 \nL 32.078125 38.921875 \nQ 39.203125 38.921875 42.84375 42.21875 \nQ 46.484375 45.515625 46.484375 51.90625 \nQ 46.484375 58.296875 42.84375 61.546875 \nQ 39.203125 64.796875 32.078125 64.796875 \nz\n\" id=\"DejaVuSans-82\"/>\n       <path d=\"M -0.296875 72.90625 \nL 61.375 72.90625 \nL 61.375 64.59375 \nL 35.5 64.59375 \nL 35.5 0 \nL 25.59375 0 \nL 25.59375 64.59375 \nL -0.296875 64.59375 \nz\n\" id=\"DejaVuSans-84\"/>\n      </defs>\n      <g transform=\"translate(119.226065 319.557187)rotate(-90)scale(0.1 -0.1)\">\n       <use xlink:href=\"#DejaVuSans-65\"/>\n       <use x=\"68.408203\" xlink:href=\"#DejaVuSans-95\"/>\n       <use x=\"118.408203\" xlink:href=\"#DejaVuSans-80\"/>\n       <use x=\"178.710938\" xlink:href=\"#DejaVuSans-82\"/>\n       <use x=\"248.193359\" xlink:href=\"#DejaVuSans-69\"/>\n       <use x=\"311.376953\" xlink:href=\"#DejaVuSans-65\"/>\n       <use x=\"379.769531\" xlink:href=\"#DejaVuSans-67\"/>\n       <use x=\"449.59375\" xlink:href=\"#DejaVuSans-67\"/>\n       <use x=\"519.417969\" xlink:href=\"#DejaVuSans-69\"/>\n       <use x=\"582.601562\" xlink:href=\"#DejaVuSans-80\"/>\n       <use x=\"642.904297\" xlink:href=\"#DejaVuSans-84\"/>\n       <use x=\"703.988281\" xlink:href=\"#DejaVuSans-69\"/>\n       <use x=\"767.171875\" xlink:href=\"#DejaVuSans-68\"/>\n      </g>\n     </g>\n    </g>\n    <g id=\"xtick_3\">\n     <g id=\"line2d_3\">\n      <g>\n       <use style=\"stroke:#000000;stroke-width:0.8;\" x=\"177.566761\" xlink:href=\"#mf3d80af499\" y=\"228.14\"/>\n      </g>\n     </g>\n     <g id=\"text_3\">\n      <!-- W_Afhandelen leads -->\n      <defs>\n       <path d=\"M 3.328125 72.90625 \nL 13.28125 72.90625 \nL 28.609375 11.28125 \nL 43.890625 72.90625 \nL 54.984375 72.90625 \nL 70.3125 11.28125 \nL 85.59375 72.90625 \nL 95.609375 72.90625 \nL 77.296875 0 \nL 64.890625 0 \nL 49.515625 63.28125 \nL 33.984375 0 \nL 21.578125 0 \nz\n\" id=\"DejaVuSans-87\"/>\n       <path d=\"M 37.109375 75.984375 \nL 37.109375 68.5 \nL 28.515625 68.5 \nQ 23.6875 68.5 21.796875 66.546875 \nQ 19.921875 64.59375 19.921875 59.515625 \nL 19.921875 54.6875 \nL 34.71875 54.6875 \nL 34.71875 47.703125 \nL 19.921875 47.703125 \nL 19.921875 0 \nL 10.890625 0 \nL 10.890625 47.703125 \nL 2.296875 47.703125 \nL 2.296875 54.6875 \nL 10.890625 54.6875 \nL 10.890625 58.5 \nQ 10.890625 67.625 15.140625 71.796875 \nQ 19.390625 75.984375 28.609375 75.984375 \nz\n\" id=\"DejaVuSans-102\"/>\n       <path d=\"M 54.890625 33.015625 \nL 54.890625 0 \nL 45.90625 0 \nL 45.90625 32.71875 \nQ 45.90625 40.484375 42.875 44.328125 \nQ 39.84375 48.1875 33.796875 48.1875 \nQ 26.515625 48.1875 22.3125 43.546875 \nQ 18.109375 38.921875 18.109375 30.90625 \nL 18.109375 0 \nL 9.078125 0 \nL 9.078125 75.984375 \nL 18.109375 75.984375 \nL 18.109375 46.1875 \nQ 21.34375 51.125 25.703125 53.5625 \nQ 30.078125 56 35.796875 56 \nQ 45.21875 56 50.046875 50.171875 \nQ 54.890625 44.34375 54.890625 33.015625 \nz\n\" id=\"DejaVuSans-104\"/>\n       <path d=\"M 34.28125 27.484375 \nQ 23.390625 27.484375 19.1875 25 \nQ 14.984375 22.515625 14.984375 16.5 \nQ 14.984375 11.71875 18.140625 8.90625 \nQ 21.296875 6.109375 26.703125 6.109375 \nQ 34.1875 6.109375 38.703125 11.40625 \nQ 43.21875 16.703125 43.21875 25.484375 \nL 43.21875 27.484375 \nz\nM 52.203125 31.203125 \nL 52.203125 0 \nL 43.21875 0 \nL 43.21875 8.296875 \nQ 40.140625 3.328125 35.546875 0.953125 \nQ 30.953125 -1.421875 24.3125 -1.421875 \nQ 15.921875 -1.421875 10.953125 3.296875 \nQ 6 8.015625 6 15.921875 \nQ 6 25.140625 12.171875 29.828125 \nQ 18.359375 34.515625 30.609375 34.515625 \nL 43.21875 34.515625 \nL 43.21875 35.40625 \nQ 43.21875 41.609375 39.140625 45 \nQ 35.0625 48.390625 27.6875 48.390625 \nQ 23 48.390625 18.546875 47.265625 \nQ 14.109375 46.140625 10.015625 43.890625 \nL 10.015625 52.203125 \nQ 14.9375 54.109375 19.578125 55.046875 \nQ 24.21875 56 28.609375 56 \nQ 40.484375 56 46.34375 49.84375 \nQ 52.203125 43.703125 52.203125 31.203125 \nz\n\" id=\"DejaVuSans-97\"/>\n       <path d=\"M 54.890625 33.015625 \nL 54.890625 0 \nL 45.90625 0 \nL 45.90625 32.71875 \nQ 45.90625 40.484375 42.875 44.328125 \nQ 39.84375 48.1875 33.796875 48.1875 \nQ 26.515625 48.1875 22.3125 43.546875 \nQ 18.109375 38.921875 18.109375 30.90625 \nL 18.109375 0 \nL 9.078125 0 \nL 9.078125 54.6875 \nL 18.109375 54.6875 \nL 18.109375 46.1875 \nQ 21.34375 51.125 25.703125 53.5625 \nQ 30.078125 56 35.796875 56 \nQ 45.21875 56 50.046875 50.171875 \nQ 54.890625 44.34375 54.890625 33.015625 \nz\n\" id=\"DejaVuSans-110\"/>\n       <path d=\"M 45.40625 46.390625 \nL 45.40625 75.984375 \nL 54.390625 75.984375 \nL 54.390625 0 \nL 45.40625 0 \nL 45.40625 8.203125 \nQ 42.578125 3.328125 38.25 0.953125 \nQ 33.9375 -1.421875 27.875 -1.421875 \nQ 17.96875 -1.421875 11.734375 6.484375 \nQ 5.515625 14.40625 5.515625 27.296875 \nQ 5.515625 40.1875 11.734375 48.09375 \nQ 17.96875 56 27.875 56 \nQ 33.9375 56 38.25 53.625 \nQ 42.578125 51.265625 45.40625 46.390625 \nz\nM 14.796875 27.296875 \nQ 14.796875 17.390625 18.875 11.75 \nQ 22.953125 6.109375 30.078125 6.109375 \nQ 37.203125 6.109375 41.296875 11.75 \nQ 45.40625 17.390625 45.40625 27.296875 \nQ 45.40625 37.203125 41.296875 42.84375 \nQ 37.203125 48.484375 30.078125 48.484375 \nQ 22.953125 48.484375 18.875 42.84375 \nQ 14.796875 37.203125 14.796875 27.296875 \nz\n\" id=\"DejaVuSans-100\"/>\n       <path d=\"M 56.203125 29.59375 \nL 56.203125 25.203125 \nL 14.890625 25.203125 \nQ 15.484375 15.921875 20.484375 11.0625 \nQ 25.484375 6.203125 34.421875 6.203125 \nQ 39.59375 6.203125 44.453125 7.46875 \nQ 49.3125 8.734375 54.109375 11.28125 \nL 54.109375 2.78125 \nQ 49.265625 0.734375 44.1875 -0.34375 \nQ 39.109375 -1.421875 33.890625 -1.421875 \nQ 20.796875 -1.421875 13.15625 6.1875 \nQ 5.515625 13.8125 5.515625 26.8125 \nQ 5.515625 40.234375 12.765625 48.109375 \nQ 20.015625 56 32.328125 56 \nQ 43.359375 56 49.78125 48.890625 \nQ 56.203125 41.796875 56.203125 29.59375 \nz\nM 47.21875 32.234375 \nQ 47.125 39.59375 43.09375 43.984375 \nQ 39.0625 48.390625 32.421875 48.390625 \nQ 24.90625 48.390625 20.390625 44.140625 \nQ 15.875 39.890625 15.1875 32.171875 \nz\n\" id=\"DejaVuSans-101\"/>\n       <path d=\"M 9.421875 75.984375 \nL 18.40625 75.984375 \nL 18.40625 0 \nL 9.421875 0 \nz\n\" id=\"DejaVuSans-108\"/>\n       <path id=\"DejaVuSans-32\"/>\n       <path d=\"M 44.28125 53.078125 \nL 44.28125 44.578125 \nQ 40.484375 46.53125 36.375 47.5 \nQ 32.28125 48.484375 27.875 48.484375 \nQ 21.1875 48.484375 17.84375 46.4375 \nQ 14.5 44.390625 14.5 40.28125 \nQ 14.5 37.15625 16.890625 35.375 \nQ 19.28125 33.59375 26.515625 31.984375 \nL 29.59375 31.296875 \nQ 39.15625 29.25 43.1875 25.515625 \nQ 47.21875 21.78125 47.21875 15.09375 \nQ 47.21875 7.46875 41.1875 3.015625 \nQ 35.15625 -1.421875 24.609375 -1.421875 \nQ 20.21875 -1.421875 15.453125 -0.5625 \nQ 10.6875 0.296875 5.421875 2 \nL 5.421875 11.28125 \nQ 10.40625 8.6875 15.234375 7.390625 \nQ 20.0625 6.109375 24.8125 6.109375 \nQ 31.15625 6.109375 34.5625 8.28125 \nQ 37.984375 10.453125 37.984375 14.40625 \nQ 37.984375 18.0625 35.515625 20.015625 \nQ 33.0625 21.96875 24.703125 23.78125 \nL 21.578125 24.515625 \nQ 13.234375 26.265625 9.515625 29.90625 \nQ 5.8125 33.546875 5.8125 39.890625 \nQ 5.8125 47.609375 11.28125 51.796875 \nQ 16.75 56 26.8125 56 \nQ 31.78125 56 36.171875 55.265625 \nQ 40.578125 54.546875 44.28125 53.078125 \nz\n\" id=\"DejaVuSans-115\"/>\n      </defs>\n      <g transform=\"translate(180.187074 336.7525)rotate(-90)scale(0.1 -0.1)\">\n       <use xlink:href=\"#DejaVuSans-87\"/>\n       <use x=\"98.876953\" xlink:href=\"#DejaVuSans-95\"/>\n       <use x=\"148.876953\" xlink:href=\"#DejaVuSans-65\"/>\n       <use x=\"217.238281\" xlink:href=\"#DejaVuSans-102\"/>\n       <use x=\"252.443359\" xlink:href=\"#DejaVuSans-104\"/>\n       <use x=\"315.822266\" xlink:href=\"#DejaVuSans-97\"/>\n       <use x=\"377.101562\" xlink:href=\"#DejaVuSans-110\"/>\n       <use x=\"440.480469\" xlink:href=\"#DejaVuSans-100\"/>\n       <use x=\"503.957031\" xlink:href=\"#DejaVuSans-101\"/>\n       <use x=\"565.480469\" xlink:href=\"#DejaVuSans-108\"/>\n       <use x=\"593.263672\" xlink:href=\"#DejaVuSans-101\"/>\n       <use x=\"654.787109\" xlink:href=\"#DejaVuSans-110\"/>\n       <use x=\"718.166016\" xlink:href=\"#DejaVuSans-32\"/>\n       <use x=\"749.953125\" xlink:href=\"#DejaVuSans-108\"/>\n       <use x=\"777.736328\" xlink:href=\"#DejaVuSans-101\"/>\n       <use x=\"839.259766\" xlink:href=\"#DejaVuSans-97\"/>\n       <use x=\"900.539062\" xlink:href=\"#DejaVuSans-100\"/>\n       <use x=\"964.015625\" xlink:href=\"#DejaVuSans-115\"/>\n      </g>\n     </g>\n    </g>\n    <g id=\"xtick_4\">\n     <g id=\"line2d_4\">\n      <g>\n       <use style=\"stroke:#000000;stroke-width:0.8;\" x=\"238.439489\" xlink:href=\"#mf3d80af499\" y=\"228.14\"/>\n      </g>\n     </g>\n     <g id=\"text_4\">\n      <!-- W_Completeren aanvraag -->\n      <defs>\n       <path d=\"M 30.609375 48.390625 \nQ 23.390625 48.390625 19.1875 42.75 \nQ 14.984375 37.109375 14.984375 27.296875 \nQ 14.984375 17.484375 19.15625 11.84375 \nQ 23.34375 6.203125 30.609375 6.203125 \nQ 37.796875 6.203125 41.984375 11.859375 \nQ 46.1875 17.53125 46.1875 27.296875 \nQ 46.1875 37.015625 41.984375 42.703125 \nQ 37.796875 48.390625 30.609375 48.390625 \nz\nM 30.609375 56 \nQ 42.328125 56 49.015625 48.375 \nQ 55.71875 40.765625 55.71875 27.296875 \nQ 55.71875 13.875 49.015625 6.21875 \nQ 42.328125 -1.421875 30.609375 -1.421875 \nQ 18.84375 -1.421875 12.171875 6.21875 \nQ 5.515625 13.875 5.515625 27.296875 \nQ 5.515625 40.765625 12.171875 48.375 \nQ 18.84375 56 30.609375 56 \nz\n\" id=\"DejaVuSans-111\"/>\n       <path d=\"M 52 44.1875 \nQ 55.375 50.25 60.0625 53.125 \nQ 64.75 56 71.09375 56 \nQ 79.640625 56 84.28125 50.015625 \nQ 88.921875 44.046875 88.921875 33.015625 \nL 88.921875 0 \nL 79.890625 0 \nL 79.890625 32.71875 \nQ 79.890625 40.578125 77.09375 44.375 \nQ 74.3125 48.1875 68.609375 48.1875 \nQ 61.625 48.1875 57.5625 43.546875 \nQ 53.515625 38.921875 53.515625 30.90625 \nL 53.515625 0 \nL 44.484375 0 \nL 44.484375 32.71875 \nQ 44.484375 40.625 41.703125 44.40625 \nQ 38.921875 48.1875 33.109375 48.1875 \nQ 26.21875 48.1875 22.15625 43.53125 \nQ 18.109375 38.875 18.109375 30.90625 \nL 18.109375 0 \nL 9.078125 0 \nL 9.078125 54.6875 \nL 18.109375 54.6875 \nL 18.109375 46.1875 \nQ 21.1875 51.21875 25.484375 53.609375 \nQ 29.78125 56 35.6875 56 \nQ 41.65625 56 45.828125 52.96875 \nQ 50 49.953125 52 44.1875 \nz\n\" id=\"DejaVuSans-109\"/>\n       <path d=\"M 18.109375 8.203125 \nL 18.109375 -20.796875 \nL 9.078125 -20.796875 \nL 9.078125 54.6875 \nL 18.109375 54.6875 \nL 18.109375 46.390625 \nQ 20.953125 51.265625 25.265625 53.625 \nQ 29.59375 56 35.59375 56 \nQ 45.5625 56 51.78125 48.09375 \nQ 58.015625 40.1875 58.015625 27.296875 \nQ 58.015625 14.40625 51.78125 6.484375 \nQ 45.5625 -1.421875 35.59375 -1.421875 \nQ 29.59375 -1.421875 25.265625 0.953125 \nQ 20.953125 3.328125 18.109375 8.203125 \nz\nM 48.6875 27.296875 \nQ 48.6875 37.203125 44.609375 42.84375 \nQ 40.53125 48.484375 33.40625 48.484375 \nQ 26.265625 48.484375 22.1875 42.84375 \nQ 18.109375 37.203125 18.109375 27.296875 \nQ 18.109375 17.390625 22.1875 11.75 \nQ 26.265625 6.109375 33.40625 6.109375 \nQ 40.53125 6.109375 44.609375 11.75 \nQ 48.6875 17.390625 48.6875 27.296875 \nz\n\" id=\"DejaVuSans-112\"/>\n       <path d=\"M 18.3125 70.21875 \nL 18.3125 54.6875 \nL 36.8125 54.6875 \nL 36.8125 47.703125 \nL 18.3125 47.703125 \nL 18.3125 18.015625 \nQ 18.3125 11.328125 20.140625 9.421875 \nQ 21.96875 7.515625 27.59375 7.515625 \nL 36.8125 7.515625 \nL 36.8125 0 \nL 27.59375 0 \nQ 17.1875 0 13.234375 3.875 \nQ 9.28125 7.765625 9.28125 18.015625 \nL 9.28125 47.703125 \nL 2.6875 47.703125 \nL 2.6875 54.6875 \nL 9.28125 54.6875 \nL 9.28125 70.21875 \nz\n\" id=\"DejaVuSans-116\"/>\n       <path d=\"M 41.109375 46.296875 \nQ 39.59375 47.171875 37.8125 47.578125 \nQ 36.03125 48 33.890625 48 \nQ 26.265625 48 22.1875 43.046875 \nQ 18.109375 38.09375 18.109375 28.8125 \nL 18.109375 0 \nL 9.078125 0 \nL 9.078125 54.6875 \nL 18.109375 54.6875 \nL 18.109375 46.1875 \nQ 20.953125 51.171875 25.484375 53.578125 \nQ 30.03125 56 36.53125 56 \nQ 37.453125 56 38.578125 55.875 \nQ 39.703125 55.765625 41.0625 55.515625 \nz\n\" id=\"DejaVuSans-114\"/>\n       <path d=\"M 2.984375 54.6875 \nL 12.5 54.6875 \nL 29.59375 8.796875 \nL 46.6875 54.6875 \nL 56.203125 54.6875 \nL 35.6875 0 \nL 23.484375 0 \nz\n\" id=\"DejaVuSans-118\"/>\n       <path d=\"M 45.40625 27.984375 \nQ 45.40625 37.75 41.375 43.109375 \nQ 37.359375 48.484375 30.078125 48.484375 \nQ 22.859375 48.484375 18.828125 43.109375 \nQ 14.796875 37.75 14.796875 27.984375 \nQ 14.796875 18.265625 18.828125 12.890625 \nQ 22.859375 7.515625 30.078125 7.515625 \nQ 37.359375 7.515625 41.375 12.890625 \nQ 45.40625 18.265625 45.40625 27.984375 \nz\nM 54.390625 6.78125 \nQ 54.390625 -7.171875 48.1875 -13.984375 \nQ 42 -20.796875 29.203125 -20.796875 \nQ 24.46875 -20.796875 20.265625 -20.09375 \nQ 16.0625 -19.390625 12.109375 -17.921875 \nL 12.109375 -9.1875 \nQ 16.0625 -11.328125 19.921875 -12.34375 \nQ 23.78125 -13.375 27.78125 -13.375 \nQ 36.625 -13.375 41.015625 -8.765625 \nQ 45.40625 -4.15625 45.40625 5.171875 \nL 45.40625 9.625 \nQ 42.625 4.78125 38.28125 2.390625 \nQ 33.9375 0 27.875 0 \nQ 17.828125 0 11.671875 7.65625 \nQ 5.515625 15.328125 5.515625 27.984375 \nQ 5.515625 40.671875 11.671875 48.328125 \nQ 17.828125 56 27.875 56 \nQ 33.9375 56 38.28125 53.609375 \nQ 42.625 51.21875 45.40625 46.390625 \nL 45.40625 54.6875 \nL 54.390625 54.6875 \nz\n\" id=\"DejaVuSans-103\"/>\n      </defs>\n      <g transform=\"translate(241.059801 365.2275)rotate(-90)scale(0.1 -0.1)\">\n       <use xlink:href=\"#DejaVuSans-87\"/>\n       <use x=\"98.876953\" xlink:href=\"#DejaVuSans-95\"/>\n       <use x=\"148.876953\" xlink:href=\"#DejaVuSans-67\"/>\n       <use x=\"218.701172\" xlink:href=\"#DejaVuSans-111\"/>\n       <use x=\"279.882812\" xlink:href=\"#DejaVuSans-109\"/>\n       <use x=\"377.294922\" xlink:href=\"#DejaVuSans-112\"/>\n       <use x=\"440.771484\" xlink:href=\"#DejaVuSans-108\"/>\n       <use x=\"468.554688\" xlink:href=\"#DejaVuSans-101\"/>\n       <use x=\"530.078125\" xlink:href=\"#DejaVuSans-116\"/>\n       <use x=\"569.287109\" xlink:href=\"#DejaVuSans-101\"/>\n       <use x=\"630.810547\" xlink:href=\"#DejaVuSans-114\"/>\n       <use x=\"671.892578\" xlink:href=\"#DejaVuSans-101\"/>\n       <use x=\"733.416016\" xlink:href=\"#DejaVuSans-110\"/>\n       <use x=\"796.794922\" xlink:href=\"#DejaVuSans-32\"/>\n       <use x=\"828.582031\" xlink:href=\"#DejaVuSans-97\"/>\n       <use x=\"889.861328\" xlink:href=\"#DejaVuSans-97\"/>\n       <use x=\"951.140625\" xlink:href=\"#DejaVuSans-110\"/>\n       <use x=\"1014.519531\" xlink:href=\"#DejaVuSans-118\"/>\n       <use x=\"1073.699219\" xlink:href=\"#DejaVuSans-114\"/>\n       <use x=\"1114.8125\" xlink:href=\"#DejaVuSans-97\"/>\n       <use x=\"1176.091797\" xlink:href=\"#DejaVuSans-97\"/>\n       <use x=\"1237.371094\" xlink:href=\"#DejaVuSans-103\"/>\n      </g>\n     </g>\n    </g>\n    <g id=\"xtick_5\">\n     <g id=\"line2d_5\">\n      <g>\n       <use style=\"stroke:#000000;stroke-width:0.8;\" x=\"299.312216\" xlink:href=\"#mf3d80af499\" y=\"228.14\"/>\n      </g>\n     </g>\n     <g id=\"text_5\">\n      <!-- W_Nabellen offertes -->\n      <defs>\n       <path d=\"M 48.6875 27.296875 \nQ 48.6875 37.203125 44.609375 42.84375 \nQ 40.53125 48.484375 33.40625 48.484375 \nQ 26.265625 48.484375 22.1875 42.84375 \nQ 18.109375 37.203125 18.109375 27.296875 \nQ 18.109375 17.390625 22.1875 11.75 \nQ 26.265625 6.109375 33.40625 6.109375 \nQ 40.53125 6.109375 44.609375 11.75 \nQ 48.6875 17.390625 48.6875 27.296875 \nz\nM 18.109375 46.390625 \nQ 20.953125 51.265625 25.265625 53.625 \nQ 29.59375 56 35.59375 56 \nQ 45.5625 56 51.78125 48.09375 \nQ 58.015625 40.1875 58.015625 27.296875 \nQ 58.015625 14.40625 51.78125 6.484375 \nQ 45.5625 -1.421875 35.59375 -1.421875 \nQ 29.59375 -1.421875 25.265625 0.953125 \nQ 20.953125 3.328125 18.109375 8.203125 \nL 18.109375 0 \nL 9.078125 0 \nL 9.078125 75.984375 \nL 18.109375 75.984375 \nz\n\" id=\"DejaVuSans-98\"/>\n      </defs>\n      <g transform=\"translate(301.932528 336.069687)rotate(-90)scale(0.1 -0.1)\">\n       <use xlink:href=\"#DejaVuSans-87\"/>\n       <use x=\"98.876953\" xlink:href=\"#DejaVuSans-95\"/>\n       <use x=\"148.876953\" xlink:href=\"#DejaVuSans-78\"/>\n       <use x=\"223.681641\" xlink:href=\"#DejaVuSans-97\"/>\n       <use x=\"284.960938\" xlink:href=\"#DejaVuSans-98\"/>\n       <use x=\"348.4375\" xlink:href=\"#DejaVuSans-101\"/>\n       <use x=\"409.960938\" xlink:href=\"#DejaVuSans-108\"/>\n       <use x=\"437.744141\" xlink:href=\"#DejaVuSans-108\"/>\n       <use x=\"465.527344\" xlink:href=\"#DejaVuSans-101\"/>\n       <use x=\"527.050781\" xlink:href=\"#DejaVuSans-110\"/>\n       <use x=\"590.429688\" xlink:href=\"#DejaVuSans-32\"/>\n       <use x=\"622.216797\" xlink:href=\"#DejaVuSans-111\"/>\n       <use x=\"683.398438\" xlink:href=\"#DejaVuSans-102\"/>\n       <use x=\"718.603516\" xlink:href=\"#DejaVuSans-102\"/>\n       <use x=\"753.808594\" xlink:href=\"#DejaVuSans-101\"/>\n       <use x=\"815.332031\" xlink:href=\"#DejaVuSans-114\"/>\n       <use x=\"856.445312\" xlink:href=\"#DejaVuSans-116\"/>\n       <use x=\"895.654297\" xlink:href=\"#DejaVuSans-101\"/>\n       <use x=\"957.177734\" xlink:href=\"#DejaVuSans-115\"/>\n      </g>\n     </g>\n    </g>\n    <g id=\"xtick_6\">\n     <g id=\"line2d_6\">\n      <g>\n       <use style=\"stroke:#000000;stroke-width:0.8;\" x=\"360.184943\" xlink:href=\"#mf3d80af499\" y=\"228.14\"/>\n      </g>\n     </g>\n     <g id=\"text_6\">\n      <!-- A_CANCELLED -->\n      <g transform=\"translate(362.716974 306.749375)rotate(-90)scale(0.1 -0.1)\">\n       <use xlink:href=\"#DejaVuSans-65\"/>\n       <use x=\"68.408203\" xlink:href=\"#DejaVuSans-95\"/>\n       <use x=\"118.408203\" xlink:href=\"#DejaVuSans-67\"/>\n       <use x=\"188.232422\" xlink:href=\"#DejaVuSans-65\"/>\n       <use x=\"256.640625\" xlink:href=\"#DejaVuSans-78\"/>\n       <use x=\"331.445312\" xlink:href=\"#DejaVuSans-67\"/>\n       <use x=\"401.269531\" xlink:href=\"#DejaVuSans-69\"/>\n       <use x=\"464.453125\" xlink:href=\"#DejaVuSans-76\"/>\n       <use x=\"520.166016\" xlink:href=\"#DejaVuSans-76\"/>\n       <use x=\"575.878906\" xlink:href=\"#DejaVuSans-69\"/>\n       <use x=\"639.0625\" xlink:href=\"#DejaVuSans-68\"/>\n      </g>\n     </g>\n    </g>\n   </g>\n   <g id=\"matplotlib.axis_2\">\n    <g id=\"ytick_1\">\n     <g id=\"line2d_7\">\n      <defs>\n       <path d=\"M 0 0 \nL -3.5 0 \n\" id=\"mae31dc13aa\" style=\"stroke:#000000;stroke-width:0.8;\"/>\n      </defs>\n      <g>\n       <use style=\"stroke:#000000;stroke-width:0.8;\" x=\"40.603125\" xlink:href=\"#mae31dc13aa\" y=\"228.14\"/>\n      </g>\n     </g>\n     <g id=\"text_7\">\n      <!-- 0 -->\n      <defs>\n       <path d=\"M 31.78125 66.40625 \nQ 24.171875 66.40625 20.328125 58.90625 \nQ 16.5 51.421875 16.5 36.375 \nQ 16.5 21.390625 20.328125 13.890625 \nQ 24.171875 6.390625 31.78125 6.390625 \nQ 39.453125 6.390625 43.28125 13.890625 \nQ 47.125 21.390625 47.125 36.375 \nQ 47.125 51.421875 43.28125 58.90625 \nQ 39.453125 66.40625 31.78125 66.40625 \nz\nM 31.78125 74.21875 \nQ 44.046875 74.21875 50.515625 64.515625 \nQ 56.984375 54.828125 56.984375 36.375 \nQ 56.984375 17.96875 50.515625 8.265625 \nQ 44.046875 -1.421875 31.78125 -1.421875 \nQ 19.53125 -1.421875 13.0625 8.265625 \nQ 6.59375 17.96875 6.59375 36.375 \nQ 6.59375 54.828125 13.0625 64.515625 \nQ 19.53125 74.21875 31.78125 74.21875 \nz\n\" id=\"DejaVuSans-48\"/>\n      </defs>\n      <g transform=\"translate(27.240625 231.939219)scale(0.1 -0.1)\">\n       <use xlink:href=\"#DejaVuSans-48\"/>\n      </g>\n     </g>\n    </g>\n    <g id=\"ytick_2\">\n     <g id=\"line2d_8\">\n      <g>\n       <use style=\"stroke:#000000;stroke-width:0.8;\" x=\"40.603125\" xlink:href=\"#mae31dc13aa\" y=\"189.790794\"/>\n      </g>\n     </g>\n     <g id=\"text_8\">\n      <!-- 5 -->\n      <defs>\n       <path d=\"M 10.796875 72.90625 \nL 49.515625 72.90625 \nL 49.515625 64.59375 \nL 19.828125 64.59375 \nL 19.828125 46.734375 \nQ 21.96875 47.46875 24.109375 47.828125 \nQ 26.265625 48.1875 28.421875 48.1875 \nQ 40.625 48.1875 47.75 41.5 \nQ 54.890625 34.8125 54.890625 23.390625 \nQ 54.890625 11.625 47.5625 5.09375 \nQ 40.234375 -1.421875 26.90625 -1.421875 \nQ 22.3125 -1.421875 17.546875 -0.640625 \nQ 12.796875 0.140625 7.71875 1.703125 \nL 7.71875 11.625 \nQ 12.109375 9.234375 16.796875 8.0625 \nQ 21.484375 6.890625 26.703125 6.890625 \nQ 35.15625 6.890625 40.078125 11.328125 \nQ 45.015625 15.765625 45.015625 23.390625 \nQ 45.015625 31 40.078125 35.4375 \nQ 35.15625 39.890625 26.703125 39.890625 \nQ 22.75 39.890625 18.8125 39.015625 \nQ 14.890625 38.140625 10.796875 36.28125 \nz\n\" id=\"DejaVuSans-53\"/>\n      </defs>\n      <g transform=\"translate(27.240625 193.590012)scale(0.1 -0.1)\">\n       <use xlink:href=\"#DejaVuSans-53\"/>\n      </g>\n     </g>\n    </g>\n    <g id=\"ytick_3\">\n     <g id=\"line2d_9\">\n      <g>\n       <use style=\"stroke:#000000;stroke-width:0.8;\" x=\"40.603125\" xlink:href=\"#mae31dc13aa\" y=\"151.441587\"/>\n      </g>\n     </g>\n     <g id=\"text_9\">\n      <!-- 10 -->\n      <defs>\n       <path d=\"M 12.40625 8.296875 \nL 28.515625 8.296875 \nL 28.515625 63.921875 \nL 10.984375 60.40625 \nL 10.984375 69.390625 \nL 28.421875 72.90625 \nL 38.28125 72.90625 \nL 38.28125 8.296875 \nL 54.390625 8.296875 \nL 54.390625 0 \nL 12.40625 0 \nz\n\" id=\"DejaVuSans-49\"/>\n      </defs>\n      <g transform=\"translate(20.878125 155.240806)scale(0.1 -0.1)\">\n       <use xlink:href=\"#DejaVuSans-49\"/>\n       <use x=\"63.623047\" xlink:href=\"#DejaVuSans-48\"/>\n      </g>\n     </g>\n    </g>\n    <g id=\"ytick_4\">\n     <g id=\"line2d_10\">\n      <g>\n       <use style=\"stroke:#000000;stroke-width:0.8;\" x=\"40.603125\" xlink:href=\"#mae31dc13aa\" y=\"113.092381\"/>\n      </g>\n     </g>\n     <g id=\"text_10\">\n      <!-- 15 -->\n      <g transform=\"translate(20.878125 116.8916)scale(0.1 -0.1)\">\n       <use xlink:href=\"#DejaVuSans-49\"/>\n       <use x=\"63.623047\" xlink:href=\"#DejaVuSans-53\"/>\n      </g>\n     </g>\n    </g>\n    <g id=\"ytick_5\">\n     <g id=\"line2d_11\">\n      <g>\n       <use style=\"stroke:#000000;stroke-width:0.8;\" x=\"40.603125\" xlink:href=\"#mae31dc13aa\" y=\"74.743175\"/>\n      </g>\n     </g>\n     <g id=\"text_11\">\n      <!-- 20 -->\n      <defs>\n       <path d=\"M 19.1875 8.296875 \nL 53.609375 8.296875 \nL 53.609375 0 \nL 7.328125 0 \nL 7.328125 8.296875 \nQ 12.9375 14.109375 22.625 23.890625 \nQ 32.328125 33.6875 34.8125 36.53125 \nQ 39.546875 41.84375 41.421875 45.53125 \nQ 43.3125 49.21875 43.3125 52.78125 \nQ 43.3125 58.59375 39.234375 62.25 \nQ 35.15625 65.921875 28.609375 65.921875 \nQ 23.96875 65.921875 18.8125 64.3125 \nQ 13.671875 62.703125 7.8125 59.421875 \nL 7.8125 69.390625 \nQ 13.765625 71.78125 18.9375 73 \nQ 24.125 74.21875 28.421875 74.21875 \nQ 39.75 74.21875 46.484375 68.546875 \nQ 53.21875 62.890625 53.21875 53.421875 \nQ 53.21875 48.921875 51.53125 44.890625 \nQ 49.859375 40.875 45.40625 35.40625 \nQ 44.1875 33.984375 37.640625 27.21875 \nQ 31.109375 20.453125 19.1875 8.296875 \nz\n\" id=\"DejaVuSans-50\"/>\n      </defs>\n      <g transform=\"translate(20.878125 78.542393)scale(0.1 -0.1)\">\n       <use xlink:href=\"#DejaVuSans-50\"/>\n       <use x=\"63.623047\" xlink:href=\"#DejaVuSans-48\"/>\n      </g>\n     </g>\n    </g>\n    <g id=\"ytick_6\">\n     <g id=\"line2d_12\">\n      <g>\n       <use style=\"stroke:#000000;stroke-width:0.8;\" x=\"40.603125\" xlink:href=\"#mae31dc13aa\" y=\"36.393968\"/>\n      </g>\n     </g>\n     <g id=\"text_12\">\n      <!-- 25 -->\n      <g transform=\"translate(20.878125 40.193187)scale(0.1 -0.1)\">\n       <use xlink:href=\"#DejaVuSans-50\"/>\n       <use x=\"63.623047\" xlink:href=\"#DejaVuSans-53\"/>\n      </g>\n     </g>\n    </g>\n    <g id=\"text_13\">\n     <!-- number of deviations -->\n     <defs>\n      <path d=\"M 8.5 21.578125 \nL 8.5 54.6875 \nL 17.484375 54.6875 \nL 17.484375 21.921875 \nQ 17.484375 14.15625 20.5 10.265625 \nQ 23.53125 6.390625 29.59375 6.390625 \nQ 36.859375 6.390625 41.078125 11.03125 \nQ 45.3125 15.671875 45.3125 23.6875 \nL 45.3125 54.6875 \nL 54.296875 54.6875 \nL 54.296875 0 \nL 45.3125 0 \nL 45.3125 8.40625 \nQ 42.046875 3.421875 37.71875 1 \nQ 33.40625 -1.421875 27.6875 -1.421875 \nQ 18.265625 -1.421875 13.375 4.4375 \nQ 8.5 10.296875 8.5 21.578125 \nz\nM 31.109375 56 \nz\n\" id=\"DejaVuSans-117\"/>\n      <path d=\"M 9.421875 54.6875 \nL 18.40625 54.6875 \nL 18.40625 0 \nL 9.421875 0 \nz\nM 9.421875 75.984375 \nL 18.40625 75.984375 \nL 18.40625 64.59375 \nL 9.421875 64.59375 \nz\n\" id=\"DejaVuSans-105\"/>\n     </defs>\n     <g transform=\"translate(14.798438 172.777031)rotate(-90)scale(0.1 -0.1)\">\n      <use xlink:href=\"#DejaVuSans-110\"/>\n      <use x=\"63.378906\" xlink:href=\"#DejaVuSans-117\"/>\n      <use x=\"126.757812\" xlink:href=\"#DejaVuSans-109\"/>\n      <use x=\"224.169922\" xlink:href=\"#DejaVuSans-98\"/>\n      <use x=\"287.646484\" xlink:href=\"#DejaVuSans-101\"/>\n      <use x=\"349.169922\" xlink:href=\"#DejaVuSans-114\"/>\n      <use x=\"390.283203\" xlink:href=\"#DejaVuSans-32\"/>\n      <use x=\"422.070312\" xlink:href=\"#DejaVuSans-111\"/>\n      <use x=\"483.251953\" xlink:href=\"#DejaVuSans-102\"/>\n      <use x=\"518.457031\" xlink:href=\"#DejaVuSans-32\"/>\n      <use x=\"550.244141\" xlink:href=\"#DejaVuSans-100\"/>\n      <use x=\"613.720703\" xlink:href=\"#DejaVuSans-101\"/>\n      <use x=\"675.244141\" xlink:href=\"#DejaVuSans-118\"/>\n      <use x=\"734.423828\" xlink:href=\"#DejaVuSans-105\"/>\n      <use x=\"762.207031\" xlink:href=\"#DejaVuSans-97\"/>\n      <use x=\"823.486328\" xlink:href=\"#DejaVuSans-116\"/>\n      <use x=\"862.695312\" xlink:href=\"#DejaVuSans-105\"/>\n      <use x=\"890.478516\" xlink:href=\"#DejaVuSans-111\"/>\n      <use x=\"951.660156\" xlink:href=\"#DejaVuSans-110\"/>\n      <use x=\"1015.039062\" xlink:href=\"#DejaVuSans-115\"/>\n     </g>\n    </g>\n   </g>\n   <g id=\"patch_13\">\n    <path d=\"M 40.603125 228.14 \nL 40.603125 10.7 \n\" style=\"fill:none;stroke:#000000;stroke-linecap:square;stroke-linejoin:miter;stroke-width:0.8;\"/>\n   </g>\n   <g id=\"patch_14\">\n    <path d=\"M 375.403125 228.14 \nL 375.403125 10.7 \n\" style=\"fill:none;stroke:#000000;stroke-linecap:square;stroke-linejoin:miter;stroke-width:0.8;\"/>\n   </g>\n   <g id=\"patch_15\">\n    <path d=\"M 40.603125 228.14 \nL 375.403125 228.14 \n\" style=\"fill:none;stroke:#000000;stroke-linecap:square;stroke-linejoin:miter;stroke-width:0.8;\"/>\n   </g>\n   <g id=\"patch_16\">\n    <path d=\"M 40.603125 10.7 \nL 375.403125 10.7 \n\" style=\"fill:none;stroke:#000000;stroke-linecap:square;stroke-linejoin:miter;stroke-width:0.8;\"/>\n   </g>\n  </g>\n </g>\n <defs>\n  <clipPath id=\"p633e6308f3\">\n   <rect height=\"217.44\" width=\"334.8\" x=\"40.603125\" y=\"10.7\"/>\n  </clipPath>\n </defs>\n</svg>\n"
          },
          "metadata": {
            "tags": []
          }
        }
      ]
    },
    {
      "cell_type": "markdown",
      "metadata": {
        "id": "dVHB-fXrGqzI",
        "colab_type": "text"
      },
      "source": [
        "## -- End"
      ]
    }
  ]
}